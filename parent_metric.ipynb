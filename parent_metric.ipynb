{
 "cells": [
  {
   "cell_type": "markdown",
   "metadata": {},
   "source": [
    "<h3><font color=\"#f0c6c6\">This notebook is about running the parent metric from the results obtained from <i>rule_based_example_gen.ipynb</i></font></h3>\n",
    "\n",
    "<font color=\"#a5adcb\"> <i> ref: https://github.com/KaijuML/parent </i> </font>\n",
    "\n",
    "<p color=\"#cad3f5\">Short installation tutorial:</p>\n",
    "\n",
    "```sh\n",
    "git clone https://github.com/KaijuML/parent.git\n",
    "cd parent\n",
    "pip install .\n",
    "```"
   ]
  },
  {
   "cell_type": "markdown",
   "metadata": {},
   "source": [
    "<h4><font color=\"#f0c6c6\">How do you use the library?</font></h4>\n",
    "\n",
    "<p color=\"#cad3f5\">We require three variables:</p>\n",
    "\n",
    "- <font color=\"#b7bdf8\"> Tables: </font> <font color=\"#cad3f5\"> ??? </font>\n",
    "- <font color=\"#b7bdf8\"> References: </font> <font color=\"#cad3f5\">the source text <a href=\"https://raw.githubusercontent.com/KaijuML/parent/master/data/wb_test_output.txt\"> Click for example </a> </font> \n",
    "- <font color=\"#b7bdf8\"> Predictions: <font color=\"#cad3f5\">the predicted text <a href=\"https://raw.githubusercontent.com/KaijuML/parent/master/data/wb_predictions.txt\"> Click for example </a> </font>  </font>"
   ]
  },
  {
   "cell_type": "code",
   "execution_count": 3,
   "metadata": {},
   "outputs": [],
   "source": [
    "from parent import parent\n",
    "import pandas as pd\n",
    "# read the result\n",
    "df = pd.read_csv('gpt3_results.csv')"
   ]
  }
 ],
 "metadata": {
  "kernelspec": {
   "display_name": ".venv2",
   "language": "python",
   "name": "python3"
  },
  "language_info": {
   "codemirror_mode": {
    "name": "ipython",
    "version": 3
   },
   "file_extension": ".py",
   "mimetype": "text/x-python",
   "name": "python",
   "nbconvert_exporter": "python",
   "pygments_lexer": "ipython3",
   "version": "3.10.12"
  }
 },
 "nbformat": 4,
 "nbformat_minor": 2
}
