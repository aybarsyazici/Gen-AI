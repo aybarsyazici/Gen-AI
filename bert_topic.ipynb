{
 "cells": [
  {
   "cell_type": "code",
   "execution_count": 1,
   "metadata": {},
   "outputs": [],
   "source": [
    "import pandas as pd\n",
    "import numpy as np\n",
    "from tqdm.notebook import tqdm\n",
    "import pickle\n",
    "import os\n",
    "from multiprocessing import Pool\n",
    "from math import ceil\n",
    "from sentence_transformers import SentenceTransformer\n",
    "# scikit-learn grid search\n",
    "from sklearn.model_selection import ParameterGrid\n",
    "from bertopic import BERTopic\n",
    "from functools import partial\n",
    "from bert_topic_grid_search import apply_bert_topic\n",
    "from functools import partial\n",
    "from numba import jit, cuda\n",
    "\n",
    "DATA_DIR = 'dataset'"
   ]
  },
  {
   "cell_type": "code",
   "execution_count": 3,
   "metadata": {},
   "outputs": [],
   "source": [
    "# Read in the data\n",
    "df = pd.read_csv(f'{DATA_DIR}/full_dataset.csv', nrows=200000)\n",
    "# Only use the first 100000 rows\n",
    "#df = df[:100000]"
   ]
  },
  {
   "cell_type": "code",
   "execution_count": 4,
   "metadata": {},
   "outputs": [],
   "source": [
    "# # find recipes that have directions less than 20 words\n",
    "# # directions is a list of list of strings\n",
    "# directions = df['directions'].apply(lambda x: ''.join(x).split())\n",
    "# # find directions less than 20 words\n",
    "# idx = directions.apply(lambda x: len(x) < 20)\n",
    "# print(f'Number of recipes with directions less than 20 words: {idx.sum()}')"
   ]
  },
  {
   "cell_type": "code",
   "execution_count": 5,
   "metadata": {},
   "outputs": [],
   "source": [
    "# # print some of the short recipes\n",
    "# print('Some of the short recipes:')\n",
    "# for i in range(5):\n",
    "#     print(f'Index: {idx[idx].index[i]}')\n",
    "#     print(f'Directions: {directions[idx].iloc[i]}')\n",
    "#     print()"
   ]
  },
  {
   "cell_type": "code",
   "execution_count": 6,
   "metadata": {},
   "outputs": [
    {
     "data": {
      "application/vnd.jupyter.widget-view+json": {
       "model_id": "c62dcac4aa944c3099447a1fc36ecbb4",
       "version_major": 2,
       "version_minor": 0
      },
      "text/plain": [
       "  0%|          | 0/200000 [00:00<?, ?it/s]"
      ]
     },
     "metadata": {},
     "output_type": "display_data"
    }
   ],
   "source": [
    "# Extract the directions column as a list of lists of strings\n",
    "recipes = df['directions'].tolist()\n",
    "recipes = [eval(recipe) for recipe in tqdm(recipes)]"
   ]
  },
  {
   "cell_type": "code",
   "execution_count": 7,
   "metadata": {},
   "outputs": [
    {
     "data": {
      "application/vnd.jupyter.widget-view+json": {
       "model_id": "9d6568bdbe5d4c3fbfd55779bde561d8",
       "version_major": 2,
       "version_minor": 0
      },
      "text/plain": [
       "  0%|          | 0/200000 [00:00<?, ?it/s]"
      ]
     },
     "metadata": {},
     "output_type": "display_data"
    }
   ],
   "source": [
    "recipe_sentences = [' '.join(recipe) for recipe in tqdm(recipes)]"
   ]
  },
  {
   "cell_type": "code",
   "execution_count": 8,
   "metadata": {},
   "outputs": [
    {
     "data": {
      "text/plain": [
       "['In a heavy 2-quart saucepan, mix brown sugar, nuts, evaporated milk and butter or margarine. Stir over medium heat until mixture bubbles all over top. Boil and stir 5 minutes more. Take off heat. Stir in vanilla and cereal; mix well. Using 2 teaspoons, drop and shape into 30 clusters on wax paper. Let stand until firm, about 30 minutes.',\n",
       " 'Place chipped beef on bottom of baking dish. Place chicken on top of beef. Mix soup and cream together; pour over chicken. Bake, uncovered, at 275° for 3 hours.',\n",
       " 'In a slow cooker, combine all ingredients. Cover and cook on low for 4 hours or until heated through and cheese is melted. Stir well before serving. Yields 6 servings.',\n",
       " 'Boil and debone chicken. Put bite size pieces in average size square casserole dish. Pour gravy and cream of mushroom soup over chicken; level. Make stuffing according to instructions on box (do not make too moist). Put stuffing on top of chicken and gravy; level. Sprinkle shredded cheese on top and bake at 350° for approximately 20 minutes or until golden and bubbly.',\n",
       " 'Combine first four ingredients and press in 13 x 9-inch ungreased pan. Melt chocolate chips and spread over mixture. Refrigerate for about 20 minutes and cut into pieces before chocolate gets hard. Keep in refrigerator.']"
      ]
     },
     "execution_count": 8,
     "metadata": {},
     "output_type": "execute_result"
    }
   ],
   "source": [
    "recipe_sentences[:5]"
   ]
  },
  {
   "cell_type": "code",
   "execution_count": 9,
   "metadata": {},
   "outputs": [
    {
     "data": {
      "text/plain": [
       "200000"
      ]
     },
     "metadata": {},
     "output_type": "display_data"
    },
    {
     "data": {
      "text/plain": [
       "175281"
      ]
     },
     "metadata": {},
     "output_type": "display_data"
    }
   ],
   "source": [
    "# Remove recipes that are less than 100 characters\n",
    "display(len(recipe_sentences))\n",
    "recipe_sentences_new = [recipe for recipe in recipe_sentences if len(recipe) > 100]\n",
    "display(len(recipe_sentences_new))"
   ]
  },
  {
   "cell_type": "code",
   "execution_count": 10,
   "metadata": {},
   "outputs": [],
   "source": [
    "# get the first five recipes from df\n",
    "df_new = df.iloc[:5].copy()"
   ]
  },
  {
   "cell_type": "code",
   "execution_count": 11,
   "metadata": {},
   "outputs": [],
   "source": [
    "# drop the same recipes from the dataframe\n",
    "df = df[df['directions'].apply(lambda x: len(' '.join(eval(x)))) > 100]"
   ]
  },
  {
   "cell_type": "code",
   "execution_count": 16,
   "metadata": {},
   "outputs": [],
   "source": [
    "embedding_model = SentenceTransformer('bert-base-nli-mean-tokens', device='mps')"
   ]
  },
  {
   "cell_type": "code",
   "execution_count": 13,
   "metadata": {},
   "outputs": [
    {
     "name": "stdout",
     "output_type": "stream",
     "text": [
      "Using 10 cores\n"
     ]
    },
    {
     "data": {
      "application/vnd.jupyter.widget-view+json": {
       "model_id": "c3f377f446f4425b8b7e7442f22375a1",
       "version_major": 2,
       "version_minor": 0
      },
      "text/plain": [
       "  0%|          | 0/175281 [00:00<?, ?it/s]"
      ]
     },
     "metadata": {},
     "output_type": "display_data"
    },
    {
     "ename": "KeyboardInterrupt",
     "evalue": "",
     "output_type": "error",
     "traceback": [
      "\u001b[0;31m---------------------------------------------------------------------------\u001b[0m",
      "\u001b[0;31mIndexError\u001b[0m                                Traceback (most recent call last)",
      "File \u001b[0;32m/opt/homebrew/Cellar/python@3.11/3.11.5/Frameworks/Python.framework/Versions/3.11/lib/python3.11/multiprocessing/pool.py:856\u001b[0m, in \u001b[0;36mIMapIterator.next\u001b[0;34m(self, timeout)\u001b[0m\n\u001b[1;32m    855\u001b[0m \u001b[39mtry\u001b[39;00m:\n\u001b[0;32m--> 856\u001b[0m     item \u001b[39m=\u001b[39m \u001b[39mself\u001b[39m\u001b[39m.\u001b[39m_items\u001b[39m.\u001b[39mpopleft()\n\u001b[1;32m    857\u001b[0m \u001b[39mexcept\u001b[39;00m \u001b[39mIndexError\u001b[39;00m:\n",
      "\u001b[0;31mIndexError\u001b[0m: pop from an empty deque",
      "\nDuring handling of the above exception, another exception occurred:\n",
      "\u001b[0;31mKeyboardInterrupt\u001b[0m                         Traceback (most recent call last)",
      "Cell \u001b[0;32mIn[13], line 13\u001b[0m\n\u001b[1;32m     11\u001b[0m \u001b[39mprint\u001b[39m(\u001b[39mf\u001b[39m\u001b[39m'\u001b[39m\u001b[39mUsing \u001b[39m\u001b[39m{\u001b[39;00mcpu_count\u001b[39m}\u001b[39;00m\u001b[39m cores\u001b[39m\u001b[39m'\u001b[39m)\n\u001b[1;32m     12\u001b[0m \u001b[39mwith\u001b[39;00m Pool(cpu_count) \u001b[39mas\u001b[39;00m p:\n\u001b[0;32m---> 13\u001b[0m     embeded_sentences_new \u001b[39m=\u001b[39m \u001b[39mlist\u001b[39;49m(tqdm(p\u001b[39m.\u001b[39;49mimap(embedding_model\u001b[39m.\u001b[39;49mencode, recipe_sentences_new), total\u001b[39m=\u001b[39;49m\u001b[39mlen\u001b[39;49m(recipe_sentences_new)))\n\u001b[1;32m     14\u001b[0m \u001b[39m# Save the embeddings\u001b[39;00m\n\u001b[1;32m     15\u001b[0m \u001b[39mwith\u001b[39;00m \u001b[39mopen\u001b[39m(\u001b[39mf\u001b[39m\u001b[39m'\u001b[39m\u001b[39m{\u001b[39;00mDATA_DIR\u001b[39m}\u001b[39;00m\u001b[39m/embeddings_new_full.pkl\u001b[39m\u001b[39m'\u001b[39m, \u001b[39m'\u001b[39m\u001b[39mwb\u001b[39m\u001b[39m'\u001b[39m) \u001b[39mas\u001b[39;00m f:\n",
      "File \u001b[0;32m~/Documents/GenAI/venv/lib/python3.11/site-packages/tqdm/notebook.py:249\u001b[0m, in \u001b[0;36mtqdm_notebook.__iter__\u001b[0;34m(self)\u001b[0m\n\u001b[1;32m    247\u001b[0m \u001b[39mtry\u001b[39;00m:\n\u001b[1;32m    248\u001b[0m     it \u001b[39m=\u001b[39m \u001b[39msuper\u001b[39m(tqdm_notebook, \u001b[39mself\u001b[39m)\u001b[39m.\u001b[39m\u001b[39m__iter__\u001b[39m()\n\u001b[0;32m--> 249\u001b[0m     \u001b[39mfor\u001b[39;00m obj \u001b[39min\u001b[39;00m it:\n\u001b[1;32m    250\u001b[0m         \u001b[39m# return super(tqdm...) will not catch exception\u001b[39;00m\n\u001b[1;32m    251\u001b[0m         \u001b[39myield\u001b[39;00m obj\n\u001b[1;32m    252\u001b[0m \u001b[39m# NB: except ... [ as ...] breaks IPython async KeyboardInterrupt\u001b[39;00m\n",
      "File \u001b[0;32m~/Documents/GenAI/venv/lib/python3.11/site-packages/tqdm/std.py:1182\u001b[0m, in \u001b[0;36mtqdm.__iter__\u001b[0;34m(self)\u001b[0m\n\u001b[1;32m   1179\u001b[0m time \u001b[39m=\u001b[39m \u001b[39mself\u001b[39m\u001b[39m.\u001b[39m_time\n\u001b[1;32m   1181\u001b[0m \u001b[39mtry\u001b[39;00m:\n\u001b[0;32m-> 1182\u001b[0m     \u001b[39mfor\u001b[39;00m obj \u001b[39min\u001b[39;00m iterable:\n\u001b[1;32m   1183\u001b[0m         \u001b[39myield\u001b[39;00m obj\n\u001b[1;32m   1184\u001b[0m         \u001b[39m# Update and possibly print the progressbar.\u001b[39;00m\n\u001b[1;32m   1185\u001b[0m         \u001b[39m# Note: does not call self.update(1) for speed optimisation.\u001b[39;00m\n",
      "File \u001b[0;32m/opt/homebrew/Cellar/python@3.11/3.11.5/Frameworks/Python.framework/Versions/3.11/lib/python3.11/multiprocessing/pool.py:861\u001b[0m, in \u001b[0;36mIMapIterator.next\u001b[0;34m(self, timeout)\u001b[0m\n\u001b[1;32m    859\u001b[0m     \u001b[39mself\u001b[39m\u001b[39m.\u001b[39m_pool \u001b[39m=\u001b[39m \u001b[39mNone\u001b[39;00m\n\u001b[1;32m    860\u001b[0m     \u001b[39mraise\u001b[39;00m \u001b[39mStopIteration\u001b[39;00m \u001b[39mfrom\u001b[39;00m \u001b[39mNone\u001b[39;00m\n\u001b[0;32m--> 861\u001b[0m \u001b[39mself\u001b[39;49m\u001b[39m.\u001b[39;49m_cond\u001b[39m.\u001b[39;49mwait(timeout)\n\u001b[1;32m    862\u001b[0m \u001b[39mtry\u001b[39;00m:\n\u001b[1;32m    863\u001b[0m     item \u001b[39m=\u001b[39m \u001b[39mself\u001b[39m\u001b[39m.\u001b[39m_items\u001b[39m.\u001b[39mpopleft()\n",
      "File \u001b[0;32m/opt/homebrew/Cellar/python@3.11/3.11.5/Frameworks/Python.framework/Versions/3.11/lib/python3.11/threading.py:320\u001b[0m, in \u001b[0;36mCondition.wait\u001b[0;34m(self, timeout)\u001b[0m\n\u001b[1;32m    318\u001b[0m \u001b[39mtry\u001b[39;00m:    \u001b[39m# restore state no matter what (e.g., KeyboardInterrupt)\u001b[39;00m\n\u001b[1;32m    319\u001b[0m     \u001b[39mif\u001b[39;00m timeout \u001b[39mis\u001b[39;00m \u001b[39mNone\u001b[39;00m:\n\u001b[0;32m--> 320\u001b[0m         waiter\u001b[39m.\u001b[39;49macquire()\n\u001b[1;32m    321\u001b[0m         gotit \u001b[39m=\u001b[39m \u001b[39mTrue\u001b[39;00m\n\u001b[1;32m    322\u001b[0m     \u001b[39melse\u001b[39;00m:\n",
      "\u001b[0;31mKeyboardInterrupt\u001b[0m: "
     ]
    }
   ],
   "source": [
    "# Check if embeddings_new.pkl exists\n",
    "if os.path.exists(f'{DATA_DIR}/embeddings_new.pkl'):\n",
    "    # Load the embeddings from the pickle file\n",
    "    with open(f'{DATA_DIR}/embeddings_new.pkl', 'rb') as f:\n",
    "        embeded_sentences_new = pickle.load(f)\n",
    "else:\n",
    "    #embeded_sentences = embedding_model.encode(recipes, show_progress_bar=True)\n",
    "    # Use multiprocessing to speed up the embedding\n",
    "    cpu_ratio = 0.8\n",
    "    cpu_count = ceil(os.cpu_count() * cpu_ratio)\n",
    "    print(f'Using {cpu_count} cores')\n",
    "    with Pool(cpu_count) as p:\n",
    "        embeded_sentences_new = list(tqdm(p.imap(embedding_model.encode, recipe_sentences_new), total=len(recipe_sentences_new)))\n",
    "    # Save the embeddings\n",
    "    with open(f'{DATA_DIR}/embeddings_new.pkl', 'wb') as f:\n",
    "        pickle.dump(embeded_sentences_new, f)"
   ]
  },
  {
   "cell_type": "code",
   "execution_count": 13,
   "metadata": {},
   "outputs": [],
   "source": [
    "# # Check if embeddings.pkl exists\n",
    "# if os.path.exists(f'{DATA_DIR}/embeddings.pkl'):\n",
    "#     # Load the embeddings from the pickle file\n",
    "#     with open(f'{DATA_DIR}/embeddings.pkl', 'rb') as f:\n",
    "#         embeded_sentences = pickle.load(f)\n",
    "# else:\n",
    "#     #embeded_sentences = embedding_model.encode(recipes, show_progress_bar=True)\n",
    "#     # Use multiprocessing to speed up the embedding\n",
    "#     cpu_ratio = 1.0\n",
    "#     cpu_count = ceil(os.cpu_count() * cpu_ratio)\n",
    "#     print(f'Using {cpu_count} cores')\n",
    "#     with Pool(cpu_count) as p:\n",
    "#         embeded_sentences = list(tqdm(p.imap(embedding_model.encode, recipe_sentences), total=len(recipe_sentences)))\n",
    "#     # Save the embeddings\n",
    "#     with open(f'{DATA_DIR}/embeddings.pkl', 'wb') as f:\n",
    "#         pickle.dump(embeded_sentences, f)"
   ]
  },
  {
   "cell_type": "code",
   "execution_count": 14,
   "metadata": {},
   "outputs": [],
   "source": [
    "# embeded_sentences = np.array(embeded_sentences)"
   ]
  },
  {
   "cell_type": "code",
   "execution_count": 15,
   "metadata": {},
   "outputs": [],
   "source": [
    "embeded_sentences_new = np.array(embeded_sentences_new)"
   ]
  },
  {
   "cell_type": "code",
   "execution_count": 16,
   "metadata": {},
   "outputs": [
    {
     "data": {
      "text/plain": [
       "7560"
      ]
     },
     "execution_count": 16,
     "metadata": {},
     "output_type": "execute_result"
    }
   ],
   "source": [
    "DATA_DIR = 'dataset'\n",
    "\n",
    "grid = {\n",
    "    'n_neighbors': [5, 10, 15, 20, 25, 50, 100, 250, 500, 1000],\n",
    "    'min_dist': [0.0, 0.05, 0.1],\n",
    "    'min_cluster_size': [5, 10, 25, 50, 100, 250, 500, 1000],\n",
    "    'min_samples': [5, 10, 25, 50, 100, 250, 500, 1000],\n",
    "    'n_components': [2, 3, 5, 10, 20, 50, 100]\n",
    "}\n",
    "\n",
    "\n",
    "# # Use grid search to find the best parameters\n",
    "file_to_save_first_half = f'{DATA_DIR}/grid_search_results_first_half.pkl'\n",
    "file_to_save_second_half = f'{DATA_DIR}/grid_search_results_second_half.pkl'\n",
    "\n",
    "search_grid = ParameterGrid(grid)\n",
    "\n",
    "# Drop combinations that that have min_samples > min_cluster_size\n",
    "search_grid = [params for params in search_grid if params['min_samples'] <= params['min_cluster_size']]\n",
    "len(search_grid)"
   ]
  },
  {
   "cell_type": "code",
   "execution_count": 17,
   "metadata": {},
   "outputs": [],
   "source": [
    "first_half = ceil(len(search_grid) / 2)"
   ]
  },
  {
   "cell_type": "code",
   "execution_count": 18,
   "metadata": {},
   "outputs": [
    {
     "data": {
      "text/plain": [
       "7560"
      ]
     },
     "execution_count": 18,
     "metadata": {},
     "output_type": "execute_result"
    }
   ],
   "source": [
    "len(search_grid[:first_half] + search_grid[first_half:])"
   ]
  },
  {
   "cell_type": "code",
   "execution_count": 19,
   "metadata": {},
   "outputs": [],
   "source": [
    "# # Use multiprocessing to speed up the grid search\n",
    "# # Write the results to a file\n",
    "# cpu_ratio = 1\n",
    "# cpu_count = ceil(os.cpu_count() * cpu_ratio)\n",
    "# print(f'Using {cpu_count} cores')\n",
    "# fn = partial(apply_bert_topic, embeded_sentences=embeded_sentences, recipe_sentences=recipe_sentences)\n",
    "# # First do the first half of the grid search\n",
    "# with Pool(cpu_count) as p:\n",
    "#     results = p.map(fn, search_grid[:first_half])\n",
    "# # Save the results\n",
    "# with open(file_to_save_first_half, 'wb') as f:\n",
    "#     pickle.dump(results, f)"
   ]
  },
  {
   "cell_type": "code",
   "execution_count": 20,
   "metadata": {},
   "outputs": [],
   "source": [
    "# # Now do the second half of the grid search\n",
    "# with Pool(cpu_count) as p:\n",
    "#     results = p.map(fn, search_grid[first_half:])\n",
    "# # Save the results\n",
    "# with open(file_to_save_second_half, 'wb') as f:\n",
    "#     pickle.dump(results, f)"
   ]
  },
  {
   "cell_type": "code",
   "execution_count": 21,
   "metadata": {},
   "outputs": [
    {
     "name": "stderr",
     "output_type": "stream",
     "text": [
      "/Users/aybarsyazici/Documents/GenAI/venv/lib/python3.11/site-packages/pynndescent/pynndescent_.py:346: NumbaPendingDeprecationWarning: Code using Numba extension API maybe depending on 'old_style' error-capturing, which is deprecated and will be replaced by 'new_style' in a future release. See details at https://numba.readthedocs.io/en/latest/reference/deprecation.html#deprecation-of-old-style-numba-captured-errors\n",
      "Exception origin:\n",
      "  File \"/Users/aybarsyazici/Documents/GenAI/venv/lib/python3.11/site-packages/numba/core/types/functions.py\", line 486, in __getnewargs__\n",
      "    raise ReferenceError(\"underlying object has vanished\")\n",
      "\n",
      "  init_rp_tree(data, dist, current_graph, leaf_array)\n",
      "/Users/aybarsyazici/Documents/GenAI/venv/lib/python3.11/site-packages/pynndescent/pynndescent_.py:348: NumbaPendingDeprecationWarning: Code using Numba extension API maybe depending on 'old_style' error-capturing, which is deprecated and will be replaced by 'new_style' in a future release. See details at https://numba.readthedocs.io/en/latest/reference/deprecation.html#deprecation-of-old-style-numba-captured-errors\n",
      "Exception origin:\n",
      "  File \"/Users/aybarsyazici/Documents/GenAI/venv/lib/python3.11/site-packages/numba/core/types/functions.py\", line 486, in __getnewargs__\n",
      "    raise ReferenceError(\"underlying object has vanished\")\n",
      "\n",
      "  init_random(n_neighbors, data, current_graph, dist, rng_state)\n",
      "/Users/aybarsyazici/Documents/GenAI/venv/lib/python3.11/site-packages/pynndescent/pynndescent_.py:358: NumbaPendingDeprecationWarning: Code using Numba extension API maybe depending on 'old_style' error-capturing, which is deprecated and will be replaced by 'new_style' in a future release. See details at https://numba.readthedocs.io/en/latest/reference/deprecation.html#deprecation-of-old-style-numba-captured-errors\n",
      "Exception origin:\n",
      "  File \"/Users/aybarsyazici/Documents/GenAI/venv/lib/python3.11/site-packages/numba/core/types/functions.py\", line 486, in __getnewargs__\n",
      "    raise ReferenceError(\"underlying object has vanished\")\n",
      "\n",
      "  nn_descent_internal_low_memory_parallel(\n",
      "2023-10-09 20:32:47,267 - BERTopic - Reduced dimensionality\n",
      "2023-10-09 20:32:52,153 - BERTopic - Clustered reduced embeddings\n"
     ]
    },
    {
     "data": {
      "text/html": [
       "<div>\n",
       "<style scoped>\n",
       "    .dataframe tbody tr th:only-of-type {\n",
       "        vertical-align: middle;\n",
       "    }\n",
       "\n",
       "    .dataframe tbody tr th {\n",
       "        vertical-align: top;\n",
       "    }\n",
       "\n",
       "    .dataframe thead th {\n",
       "        text-align: right;\n",
       "    }\n",
       "</style>\n",
       "<table border=\"1\" class=\"dataframe\">\n",
       "  <thead>\n",
       "    <tr style=\"text-align: right;\">\n",
       "      <th></th>\n",
       "      <th>Topic</th>\n",
       "      <th>Count</th>\n",
       "    </tr>\n",
       "  </thead>\n",
       "  <tbody>\n",
       "    <tr>\n",
       "      <th>0</th>\n",
       "      <td>-1</td>\n",
       "      <td>55400</td>\n",
       "    </tr>\n",
       "    <tr>\n",
       "      <th>3</th>\n",
       "      <td>0</td>\n",
       "      <td>33422</td>\n",
       "    </tr>\n",
       "    <tr>\n",
       "      <th>2</th>\n",
       "      <td>1</td>\n",
       "      <td>11748</td>\n",
       "    </tr>\n",
       "    <tr>\n",
       "      <th>11</th>\n",
       "      <td>2</td>\n",
       "      <td>10779</td>\n",
       "    </tr>\n",
       "    <tr>\n",
       "      <th>4</th>\n",
       "      <td>3</td>\n",
       "      <td>7369</td>\n",
       "    </tr>\n",
       "    <tr>\n",
       "      <th>...</th>\n",
       "      <td>...</td>\n",
       "      <td>...</td>\n",
       "    </tr>\n",
       "    <tr>\n",
       "      <th>116</th>\n",
       "      <td>120</td>\n",
       "      <td>84</td>\n",
       "    </tr>\n",
       "    <tr>\n",
       "      <th>125</th>\n",
       "      <td>121</td>\n",
       "      <td>84</td>\n",
       "    </tr>\n",
       "    <tr>\n",
       "      <th>108</th>\n",
       "      <td>122</td>\n",
       "      <td>83</td>\n",
       "    </tr>\n",
       "    <tr>\n",
       "      <th>99</th>\n",
       "      <td>123</td>\n",
       "      <td>81</td>\n",
       "    </tr>\n",
       "    <tr>\n",
       "      <th>123</th>\n",
       "      <td>124</td>\n",
       "      <td>80</td>\n",
       "    </tr>\n",
       "  </tbody>\n",
       "</table>\n",
       "<p>126 rows × 2 columns</p>\n",
       "</div>"
      ],
      "text/plain": [
       "     Topic  Count\n",
       "0       -1  55400\n",
       "3        0  33422\n",
       "2        1  11748\n",
       "11       2  10779\n",
       "4        3   7369\n",
       "..     ...    ...\n",
       "116    120     84\n",
       "125    121     84\n",
       "108    122     83\n",
       "99     123     81\n",
       "123    124     80\n",
       "\n",
       "[126 rows x 2 columns]"
      ]
     },
     "metadata": {},
     "output_type": "display_data"
    }
   ],
   "source": [
    "from umap import UMAP\n",
    "from hdbscan import HDBSCAN\n",
    "from sklearn.feature_extraction.text import TfidfVectorizer\n",
    "\n",
    "umap = UMAP(n_neighbors=30, n_components=2, min_dist=0, metric='cosine', low_memory=False)\n",
    "hdbscan = HDBSCAN(min_cluster_size=80, min_samples=10, metric='euclidean', cluster_selection_method='eom', leaf_size=20)\n",
    "vectorizer = TfidfVectorizer(stop_words='english', lowercase=True)\n",
    "# Create the model\n",
    "model = BERTopic(\n",
    "    language=\"english\",\n",
    "    top_n_words=10,\n",
    "    umap_model=umap,\n",
    "    embedding_model=embedding_model,\n",
    "    hdbscan_model=hdbscan,\n",
    "    vectorizer_model=vectorizer,\n",
    "    verbose=True,\n",
    "    low_memory=False\n",
    ")\n",
    "\n",
    "# Use preembedded sentences\n",
    "topics, probs = model.fit_transform(documents=recipe_sentences_new, embeddings=embeded_sentences_new)\n",
    "\n",
    "display(model.get_topic_freq())"
   ]
  },
  {
   "cell_type": "code",
   "execution_count": 22,
   "metadata": {},
   "outputs": [
    {
     "data": {
      "text/plain": [
       "<Axes: ylabel='$\\\\lambda$ value'>"
      ]
     },
     "execution_count": 22,
     "metadata": {},
     "output_type": "execute_result"
    },
    {
     "data": {
      "image/png": "[encoded data removed]",
      "text/plain": [
       "<Figure size 640x480 with 2 Axes>"
      ]
     },
     "metadata": {},
     "output_type": "display_data"
    }
   ],
   "source": [
    "# import sns.color_palette()\n",
    "import seaborn as sns\n",
    "\n",
    "hdbscan.condensed_tree_.plot(select_clusters=True, selection_palette=sns.color_palette())"
   ]
  },
  {
   "cell_type": "code",
   "execution_count": 23,
   "metadata": {},
   "outputs": [
    {
     "data": {
      "application/vnd.plotly.v1+json": {
       "config": {
        "plotlyServerURL": "https://plot.ly"
       },
       "data": [
        {
         "marker": {
          "color": "#D55E00"
         },
         "orientation": "h",
         "type": "bar",
         "x": [
          0.02017962688618927,
          0.02023282586099665,
          0.02601536371777002,
          0.029669724872844732,
          0.035791662187400604
         ],
         "xaxis": "x",
         "y": [
          "pepper  ",
          "saute  ",
          "onion  ",
          "beef  ",
          "meat  "
         ],
         "yaxis": "y"
        },
        {
         "marker": {
          "color": "#0072B2"
         },
         "orientation": "h",
         "type": "bar",
         "x": [
          0.019897187108763127,
          0.028143144706876067,
          0.031079134203355552,
          0.04032303276582999,
          0.2126771508662357
         ],
         "xaxis": "x2",
         "y": [
          "rice  ",
          "breasts  ",
          "soup  ",
          "broth  ",
          "chicken  "
         ],
         "yaxis": "y2"
        },
        {
         "marker": {
          "color": "#CC79A7"
         },
         "orientation": "h",
         "type": "bar",
         "x": [
          0.020573321326270735,
          0.02077016077788139,
          0.022216846138335977,
          0.02507560351676767,
          0.025716611257655054
         ],
         "xaxis": "x3",
         "y": [
          "tomatoes  ",
          "pepper  ",
          "potatoes  ",
          "onion  ",
          "bacon  "
         ],
         "yaxis": "y3"
        },
        {
         "marker": {
          "color": "#E69F00"
         },
         "orientation": "h",
         "type": "bar",
         "x": [
          0.0227714496890867,
          0.023260847000726472,
          0.026949639037518278,
          0.029414715620460885,
          0.037665013176706987
         ],
         "xaxis": "x4",
         "y": [
          "dissolve  ",
          "gelatin  ",
          "jell  ",
          "pineapple  ",
          "jello  "
         ],
         "yaxis": "y4"
        },
        {
         "marker": {
          "color": "#56B4E9"
         },
         "orientation": "h",
         "type": "bar",
         "x": [
          0.018205514336759612,
          0.0200515891147375,
          0.0252566345686978,
          0.025500823494773332,
          0.030451928996417427
         ],
         "xaxis": "x5",
         "y": [
          "apart  ",
          "dozen  ",
          "sheet  ",
          "cookies  ",
          "cookie  "
         ],
         "yaxis": "y5"
        },
        {
         "marker": {
          "color": "#009E73"
         },
         "orientation": "h",
         "type": "bar",
         "x": [
          0.015597946904716394,
          0.01561254038516247,
          0.0159317017672324,
          0.016401035713450116,
          0.017308130076348325
         ],
         "xaxis": "x6",
         "y": [
          "whip  ",
          "juice  ",
          "strawberries  ",
          "pudding  ",
          "hours  "
         ],
         "yaxis": "y6"
        },
        {
         "marker": {
          "color": "#F0E442"
         },
         "orientation": "h",
         "type": "bar",
         "x": [
          0.016937512202514677,
          0.025594908937896253,
          0.026268724082324835,
          0.039308065696397075,
          0.04717702461678078
         ],
         "xaxis": "x7",
         "y": [
          "warm  ",
          "dough  ",
          "knead  ",
          "rise  ",
          "yeast  "
         ],
         "yaxis": "y7"
        },
        {
         "marker": {
          "color": "#D55E00"
         },
         "orientation": "h",
         "type": "bar",
         "x": [
          0.030168927116993025,
          0.04031118335696984,
          0.06869319026040381,
          0.07180883335483881,
          0.08040494038514472
         ],
         "xaxis": "x8",
         "y": [
          "onion  ",
          "ground  ",
          "meat  ",
          "hamburger  ",
          "beef  "
         ],
         "yaxis": "y8"
        },
        {
         "marker": {
          "color": "#0072B2"
         },
         "orientation": "h",
         "type": "bar",
         "x": [
          0.01888559025627378,
          0.0200673848889346,
          0.021184118176447657,
          0.02331063839470984,
          0.0240241237237186
         ],
         "xaxis": "x9",
         "y": [
          "hour  ",
          "45  ",
          "bake  ",
          "350  ",
          "ingredients  "
         ],
         "yaxis": "y9"
        },
        {
         "marker": {
          "color": "#CC79A7"
         },
         "orientation": "h",
         "type": "bar",
         "x": [
          0.015801035565218502,
          0.024367660406271086,
          0.032075882474801774,
          0.04851138709580904,
          0.13203506544329946
         ],
         "xaxis": "x10",
         "y": [
          "sprinkle  ",
          "cinnamon  ",
          "core  ",
          "apple  ",
          "apples  "
         ],
         "yaxis": "y10"
        },
        {
         "marker": {
          "color": "#E69F00"
         },
         "orientation": "h",
         "type": "bar",
         "x": [
          0.03283930955350464,
          0.03310661247412313,
          0.03571079683942437,
          0.03655447128923129,
          0.07441201532225393
         ],
         "xaxis": "x11",
         "y": [
          "whip  ",
          "directions  ",
          "pudding  ",
          "holes  ",
          "cake  "
         ],
         "yaxis": "y11"
        },
        {
         "marker": {
          "color": "#56B4E9"
         },
         "orientation": "h",
         "type": "bar",
         "x": [
          0.02698088366369511,
          0.027152935218648123,
          0.03694013370550613,
          0.04181905942081335,
          0.0437657316128527
         ],
         "xaxis": "x12",
         "y": [
          "dish  ",
          "cheese  ",
          "flakes  ",
          "casserole  ",
          "potato  "
         ],
         "yaxis": "y12"
        }
       ],
       "layout": {
        "annotations": [
         {
          "font": {
           "size": 16
          },
          "showarrow": false,
          "text": "Topic 0",
          "x": 0.0875,
          "xanchor": "center",
          "xref": "paper",
          "y": 1,
          "yanchor": "bottom",
          "yref": "paper"
         },
         {
          "font": {
           "size": 16
          },
          "showarrow": false,
          "text": "Topic 1",
          "x": 0.36250000000000004,
          "xanchor": "center",
          "xref": "paper",
          "y": 1,
          "yanchor": "bottom",
          "yref": "paper"
         },
         {
          "font": {
           "size": 16
          },
          "showarrow": false,
          "text": "Topic 2",
          "x": 0.6375000000000001,
          "xanchor": "center",
          "xref": "paper",
          "y": 1,
          "yanchor": "bottom",
          "yref": "paper"
         },
         {
          "font": {
           "size": 16
          },
          "showarrow": false,
          "text": "Topic 3",
          "x": 0.9125,
          "xanchor": "center",
          "xref": "paper",
          "y": 1,
          "yanchor": "bottom",
          "yref": "paper"
         },
         {
          "font": {
           "size": 16
          },
          "showarrow": false,
          "text": "Topic 4",
          "x": 0.0875,
          "xanchor": "center",
          "xref": "paper",
          "y": 0.6222222222222222,
          "yanchor": "bottom",
          "yref": "paper"
         },
         {
          "font": {
           "size": 16
          },
          "showarrow": false,
          "text": "Topic 5",
          "x": 0.36250000000000004,
          "xanchor": "center",
          "xref": "paper",
          "y": 0.6222222222222222,
          "yanchor": "bottom",
          "yref": "paper"
         },
         {
          "font": {
           "size": 16
          },
          "showarrow": false,
          "text": "Topic 6",
          "x": 0.6375000000000001,
          "xanchor": "center",
          "xref": "paper",
          "y": 0.6222222222222222,
          "yanchor": "bottom",
          "yref": "paper"
         },
         {
          "font": {
           "size": 16
          },
          "showarrow": false,
          "text": "Topic 7",
          "x": 0.9125,
          "xanchor": "center",
          "xref": "paper",
          "y": 0.6222222222222222,
          "yanchor": "bottom",
          "yref": "paper"
         },
         {
          "font": {
           "size": 16
          },
          "showarrow": false,
          "text": "Topic 8",
          "x": 0.0875,
          "xanchor": "center",
          "xref": "paper",
          "y": 0.24444444444444446,
          "yanchor": "bottom",
          "yref": "paper"
         },
         {
          "font": {
           "size": 16
          },
          "showarrow": false,
          "text": "Topic 9",
          "x": 0.36250000000000004,
          "xanchor": "center",
          "xref": "paper",
          "y": 0.24444444444444446,
          "yanchor": "bottom",
          "yref": "paper"
         },
         {
          "font": {
           "size": 16
          },
          "showarrow": false,
          "text": "Topic 10",
          "x": 0.6375000000000001,
          "xanchor": "center",
          "xref": "paper",
          "y": 0.24444444444444446,
          "yanchor": "bottom",
          "yref": "paper"
         },
         {
          "font": {
           "size": 16
          },
          "showarrow": false,
          "text": "Topic 11",
          "x": 0.9125,
          "xanchor": "center",
          "xref": "paper",
          "y": 0.24444444444444446,
          "yanchor": "bottom",
          "yref": "paper"
         }
        ],
        "height": 750,
        "hoverlabel": {
         "bgcolor": "white",
         "font": {
          "family": "Rockwell",
          "size": 16
         }
        },
        "showlegend": false,
        "template": {
         "data": {
          "bar": [
           {
            "error_x": {
             "color": "#2a3f5f"
            },
            "error_y": {
             "color": "#2a3f5f"
            },
            "marker": {
             "line": {
              "color": "white",
              "width": 0.5
             },
             "pattern": {
              "fillmode": "overlay",
              "size": 10,
              "solidity": 0.2
             }
            },
            "type": "bar"
           }
          ],
          "barpolar": [
           {
            "marker": {
             "line": {
              "color": "white",
              "width": 0.5
             },
             "pattern": {
              "fillmode": "overlay",
              "size": 10,
              "solidity": 0.2
             }
            },
            "type": "barpolar"
           }
          ],
          "carpet": [
           {
            "aaxis": {
             "endlinecolor": "#2a3f5f",
             "gridcolor": "#C8D4E3",
             "linecolor": "#C8D4E3",
             "minorgridcolor": "#C8D4E3",
             "startlinecolor": "#2a3f5f"
            },
            "baxis": {
             "endlinecolor": "#2a3f5f",
             "gridcolor": "#C8D4E3",
             "linecolor": "#C8D4E3",
             "minorgridcolor": "#C8D4E3",
             "startlinecolor": "#2a3f5f"
            },
            "type": "carpet"
           }
          ],
          "choropleth": [
           {
            "colorbar": {
             "outlinewidth": 0,
             "ticks": ""
            },
            "type": "choropleth"
           }
          ],
          "contour": [
           {
            "colorbar": {
             "outlinewidth": 0,
             "ticks": ""
            },
            "colorscale": [
             [
              0,
              "#0d0887"
             ],
             [
              0.1111111111111111,
              "#46039f"
             ],
             [
              0.2222222222222222,
              "#7201a8"
             ],
             [
              0.3333333333333333,
              "#9c179e"
             ],
             [
              0.4444444444444444,
              "#bd3786"
             ],
             [
              0.5555555555555556,
              "#d8576b"
             ],
             [
              0.6666666666666666,
              "#ed7953"
             ],
             [
              0.7777777777777778,
              "#fb9f3a"
             ],
             [
              0.8888888888888888,
              "#fdca26"
             ],
             [
              1,
              "#f0f921"
             ]
            ],
            "type": "contour"
           }
          ],
          "contourcarpet": [
           {
            "colorbar": {
             "outlinewidth": 0,
             "ticks": ""
            },
            "type": "contourcarpet"
           }
          ],
          "heatmap": [
           {
            "colorbar": {
             "outlinewidth": 0,
             "ticks": ""
            },
            "colorscale": [
             [
              0,
              "#0d0887"
             ],
             [
              0.1111111111111111,
              "#46039f"
             ],
             [
              0.2222222222222222,
              "#7201a8"
             ],
             [
              0.3333333333333333,
              "#9c179e"
             ],
             [
              0.4444444444444444,
              "#bd3786"
             ],
             [
              0.5555555555555556,
              "#d8576b"
             ],
             [
              0.6666666666666666,
              "#ed7953"
             ],
             [
              0.7777777777777778,
              "#fb9f3a"
             ],
             [
              0.8888888888888888,
              "#fdca26"
             ],
             [
              1,
              "#f0f921"
             ]
            ],
            "type": "heatmap"
           }
          ],
          "heatmapgl": [
           {
            "colorbar": {
             "outlinewidth": 0,
             "ticks": ""
            },
            "colorscale": [
             [
              0,
              "#0d0887"
             ],
             [
              0.1111111111111111,
              "#46039f"
             ],
             [
              0.2222222222222222,
              "#7201a8"
             ],
             [
              0.3333333333333333,
              "#9c179e"
             ],
             [
              0.4444444444444444,
              "#bd3786"
             ],
             [
              0.5555555555555556,
              "#d8576b"
             ],
             [
              0.6666666666666666,
              "#ed7953"
             ],
             [
              0.7777777777777778,
              "#fb9f3a"
             ],
             [
              0.8888888888888888,
              "#fdca26"
             ],
             [
              1,
              "#f0f921"
             ]
            ],
            "type": "heatmapgl"
           }
          ],
          "histogram": [
           {
            "marker": {
             "pattern": {
              "fillmode": "overlay",
              "size": 10,
              "solidity": 0.2
             }
            },
            "type": "histogram"
           }
          ],
          "histogram2d": [
           {
            "colorbar": {
             "outlinewidth": 0,
             "ticks": ""
            },
            "colorscale": [
             [
              0,
              "#0d0887"
             ],
             [
              0.1111111111111111,
              "#46039f"
             ],
             [
              0.2222222222222222,
              "#7201a8"
             ],
             [
              0.3333333333333333,
              "#9c179e"
             ],
             [
              0.4444444444444444,
              "#bd3786"
             ],
             [
              0.5555555555555556,
              "#d8576b"
             ],
             [
              0.6666666666666666,
              "#ed7953"
             ],
             [
              0.7777777777777778,
              "#fb9f3a"
             ],
             [
              0.8888888888888888,
              "#fdca26"
             ],
             [
              1,
              "#f0f921"
             ]
            ],
            "type": "histogram2d"
           }
          ],
          "histogram2dcontour": [
           {
            "colorbar": {
             "outlinewidth": 0,
             "ticks": ""
            },
            "colorscale": [
             [
              0,
              "#0d0887"
             ],
             [
              0.1111111111111111,
              "#46039f"
             ],
             [
              0.2222222222222222,
              "#7201a8"
             ],
             [
              0.3333333333333333,
              "#9c179e"
             ],
             [
              0.4444444444444444,
              "#bd3786"
             ],
             [
              0.5555555555555556,
              "#d8576b"
             ],
             [
              0.6666666666666666,
              "#ed7953"
             ],
             [
              0.7777777777777778,
              "#fb9f3a"
             ],
             [
              0.8888888888888888,
              "#fdca26"
             ],
             [
              1,
              "#f0f921"
             ]
            ],
            "type": "histogram2dcontour"
           }
          ],
          "mesh3d": [
           {
            "colorbar": {
             "outlinewidth": 0,
             "ticks": ""
            },
            "type": "mesh3d"
           }
          ],
          "parcoords": [
           {
            "line": {
             "colorbar": {
              "outlinewidth": 0,
              "ticks": ""
             }
            },
            "type": "parcoords"
           }
          ],
          "pie": [
           {
            "automargin": true,
            "type": "pie"
           }
          ],
          "scatter": [
           {
            "fillpattern": {
             "fillmode": "overlay",
             "size": 10,
             "solidity": 0.2
            },
            "type": "scatter"
           }
          ],
          "scatter3d": [
           {
            "line": {
             "colorbar": {
              "outlinewidth": 0,
              "ticks": ""
             }
            },
            "marker": {
             "colorbar": {
              "outlinewidth": 0,
              "ticks": ""
             }
            },
            "type": "scatter3d"
           }
          ],
          "scattercarpet": [
           {
            "marker": {
             "colorbar": {
              "outlinewidth": 0,
              "ticks": ""
             }
            },
            "type": "scattercarpet"
           }
          ],
          "scattergeo": [
           {
            "marker": {
             "colorbar": {
              "outlinewidth": 0,
              "ticks": ""
             }
            },
            "type": "scattergeo"
           }
          ],
          "scattergl": [
           {
            "marker": {
             "colorbar": {
              "outlinewidth": 0,
              "ticks": ""
             }
            },
            "type": "scattergl"
           }
          ],
          "scattermapbox": [
           {
            "marker": {
             "colorbar": {
              "outlinewidth": 0,
              "ticks": ""
             }
            },
            "type": "scattermapbox"
           }
          ],
          "scatterpolar": [
           {
            "marker": {
             "colorbar": {
              "outlinewidth": 0,
              "ticks": ""
             }
            },
            "type": "scatterpolar"
           }
          ],
          "scatterpolargl": [
           {
            "marker": {
             "colorbar": {
              "outlinewidth": 0,
              "ticks": ""
             }
            },
            "type": "scatterpolargl"
           }
          ],
          "scatterternary": [
           {
            "marker": {
             "colorbar": {
              "outlinewidth": 0,
              "ticks": ""
             }
            },
            "type": "scatterternary"
           }
          ],
          "surface": [
           {
            "colorbar": {
             "outlinewidth": 0,
             "ticks": ""
            },
            "colorscale": [
             [
              0,
              "#0d0887"
             ],
             [
              0.1111111111111111,
              "#46039f"
             ],
             [
              0.2222222222222222,
              "#7201a8"
             ],
             [
              0.3333333333333333,
              "#9c179e"
             ],
             [
              0.4444444444444444,
              "#bd3786"
             ],
             [
              0.5555555555555556,
              "#d8576b"
             ],
             [
              0.6666666666666666,
              "#ed7953"
             ],
             [
              0.7777777777777778,
              "#fb9f3a"
             ],
             [
              0.8888888888888888,
              "#fdca26"
             ],
             [
              1,
              "#f0f921"
             ]
            ],
            "type": "surface"
           }
          ],
          "table": [
           {
            "cells": {
             "fill": {
              "color": "#EBF0F8"
             },
             "line": {
              "color": "white"
             }
            },
            "header": {
             "fill": {
              "color": "#C8D4E3"
             },
             "line": {
              "color": "white"
             }
            },
            "type": "table"
           }
          ]
         },
         "layout": {
          "annotationdefaults": {
           "arrowcolor": "#2a3f5f",
           "arrowhead": 0,
           "arrowwidth": 1
          },
          "autotypenumbers": "strict",
          "coloraxis": {
           "colorbar": {
            "outlinewidth": 0,
            "ticks": ""
           }
          },
          "colorscale": {
           "diverging": [
            [
             0,
             "#8e0152"
            ],
            [
             0.1,
             "#c51b7d"
            ],
            [
             0.2,
             "#de77ae"
            ],
            [
             0.3,
             "#f1b6da"
            ],
            [
             0.4,
             "#fde0ef"
            ],
            [
             0.5,
             "#f7f7f7"
            ],
            [
             0.6,
             "#e6f5d0"
            ],
            [
             0.7,
             "#b8e186"
            ],
            [
             0.8,
             "#7fbc41"
            ],
            [
             0.9,
             "#4d9221"
            ],
            [
             1,
             "#276419"
            ]
           ],
           "sequential": [
            [
             0,
             "#0d0887"
            ],
            [
             0.1111111111111111,
             "#46039f"
            ],
            [
             0.2222222222222222,
             "#7201a8"
            ],
            [
             0.3333333333333333,
             "#9c179e"
            ],
            [
             0.4444444444444444,
             "#bd3786"
            ],
            [
             0.5555555555555556,
             "#d8576b"
            ],
            [
             0.6666666666666666,
             "#ed7953"
            ],
            [
             0.7777777777777778,
             "#fb9f3a"
            ],
            [
             0.8888888888888888,
             "#fdca26"
            ],
            [
             1,
             "#f0f921"
            ]
           ],
           "sequentialminus": [
            [
             0,
             "#0d0887"
            ],
            [
             0.1111111111111111,
             "#46039f"
            ],
            [
             0.2222222222222222,
             "#7201a8"
            ],
            [
             0.3333333333333333,
             "#9c179e"
            ],
            [
             0.4444444444444444,
             "#bd3786"
            ],
            [
             0.5555555555555556,
             "#d8576b"
            ],
            [
             0.6666666666666666,
             "#ed7953"
            ],
            [
             0.7777777777777778,
             "#fb9f3a"
            ],
            [
             0.8888888888888888,
             "#fdca26"
            ],
            [
             1,
             "#f0f921"
            ]
           ]
          },
          "colorway": [
           "#636efa",
           "#EF553B",
           "#00cc96",
           "#ab63fa",
           "#FFA15A",
           "#19d3f3",
           "#FF6692",
           "#B6E880",
           "#FF97FF",
           "#FECB52"
          ],
          "font": {
           "color": "#2a3f5f"
          },
          "geo": {
           "bgcolor": "white",
           "lakecolor": "white",
           "landcolor": "white",
           "showlakes": true,
           "showland": true,
           "subunitcolor": "#C8D4E3"
          },
          "hoverlabel": {
           "align": "left"
          },
          "hovermode": "closest",
          "mapbox": {
           "style": "light"
          },
          "paper_bgcolor": "white",
          "plot_bgcolor": "white",
          "polar": {
           "angularaxis": {
            "gridcolor": "#EBF0F8",
            "linecolor": "#EBF0F8",
            "ticks": ""
           },
           "bgcolor": "white",
           "radialaxis": {
            "gridcolor": "#EBF0F8",
            "linecolor": "#EBF0F8",
            "ticks": ""
           }
          },
          "scene": {
           "xaxis": {
            "backgroundcolor": "white",
            "gridcolor": "#DFE8F3",
            "gridwidth": 2,
            "linecolor": "#EBF0F8",
            "showbackground": true,
            "ticks": "",
            "zerolinecolor": "#EBF0F8"
           },
           "yaxis": {
            "backgroundcolor": "white",
            "gridcolor": "#DFE8F3",
            "gridwidth": 2,
            "linecolor": "#EBF0F8",
            "showbackground": true,
            "ticks": "",
            "zerolinecolor": "#EBF0F8"
           },
           "zaxis": {
            "backgroundcolor": "white",
            "gridcolor": "#DFE8F3",
            "gridwidth": 2,
            "linecolor": "#EBF0F8",
            "showbackground": true,
            "ticks": "",
            "zerolinecolor": "#EBF0F8"
           }
          },
          "shapedefaults": {
           "line": {
            "color": "#2a3f5f"
           }
          },
          "ternary": {
           "aaxis": {
            "gridcolor": "#DFE8F3",
            "linecolor": "#A2B1C6",
            "ticks": ""
           },
           "baxis": {
            "gridcolor": "#DFE8F3",
            "linecolor": "#A2B1C6",
            "ticks": ""
           },
           "bgcolor": "white",
           "caxis": {
            "gridcolor": "#DFE8F3",
            "linecolor": "#A2B1C6",
            "ticks": ""
           }
          },
          "title": {
           "x": 0.05
          },
          "xaxis": {
           "automargin": true,
           "gridcolor": "#EBF0F8",
           "linecolor": "#EBF0F8",
           "ticks": "",
           "title": {
            "standoff": 15
           },
           "zerolinecolor": "#EBF0F8",
           "zerolinewidth": 2
          },
          "yaxis": {
           "automargin": true,
           "gridcolor": "#EBF0F8",
           "linecolor": "#EBF0F8",
           "ticks": "",
           "title": {
            "standoff": 15
           },
           "zerolinecolor": "#EBF0F8",
           "zerolinewidth": 2
          }
         }
        },
        "title": {
         "font": {
          "color": "Black",
          "size": 22
         },
         "text": "Topic Word Scores",
         "x": 0.5,
         "xanchor": "center",
         "yanchor": "top"
        },
        "width": 1000,
        "xaxis": {
         "anchor": "y",
         "domain": [
          0,
          0.175
         ],
         "showgrid": true
        },
        "xaxis10": {
         "anchor": "y10",
         "domain": [
          0.275,
          0.45
         ],
         "showgrid": true
        },
        "xaxis11": {
         "anchor": "y11",
         "domain": [
          0.55,
          0.7250000000000001
         ],
         "showgrid": true
        },
        "xaxis12": {
         "anchor": "y12",
         "domain": [
          0.825,
          1
         ],
         "showgrid": true
        },
        "xaxis2": {
         "anchor": "y2",
         "domain": [
          0.275,
          0.45
         ],
         "showgrid": true
        },
        "xaxis3": {
         "anchor": "y3",
         "domain": [
          0.55,
          0.7250000000000001
         ],
         "showgrid": true
        },
        "xaxis4": {
         "anchor": "y4",
         "domain": [
          0.825,
          1
         ],
         "showgrid": true
        },
        "xaxis5": {
         "anchor": "y5",
         "domain": [
          0,
          0.175
         ],
         "showgrid": true
        },
        "xaxis6": {
         "anchor": "y6",
         "domain": [
          0.275,
          0.45
         ],
         "showgrid": true
        },
        "xaxis7": {
         "anchor": "y7",
         "domain": [
          0.55,
          0.7250000000000001
         ],
         "showgrid": true
        },
        "xaxis8": {
         "anchor": "y8",
         "domain": [
          0.825,
          1
         ],
         "showgrid": true
        },
        "xaxis9": {
         "anchor": "y9",
         "domain": [
          0,
          0.175
         ],
         "showgrid": true
        },
        "yaxis": {
         "anchor": "x",
         "domain": [
          0.7555555555555555,
          1
         ],
         "showgrid": true
        },
        "yaxis10": {
         "anchor": "x10",
         "domain": [
          0,
          0.24444444444444446
         ],
         "showgrid": true
        },
        "yaxis11": {
         "anchor": "x11",
         "domain": [
          0,
          0.24444444444444446
         ],
         "showgrid": true
        },
        "yaxis12": {
         "anchor": "x12",
         "domain": [
          0,
          0.24444444444444446
         ],
         "showgrid": true
        },
        "yaxis2": {
         "anchor": "x2",
         "domain": [
          0.7555555555555555,
          1
         ],
         "showgrid": true
        },
        "yaxis3": {
         "anchor": "x3",
         "domain": [
          0.7555555555555555,
          1
         ],
         "showgrid": true
        },
        "yaxis4": {
         "anchor": "x4",
         "domain": [
          0.7555555555555555,
          1
         ],
         "showgrid": true
        },
        "yaxis5": {
         "anchor": "x5",
         "domain": [
          0.37777777777777777,
          0.6222222222222222
         ],
         "showgrid": true
        },
        "yaxis6": {
         "anchor": "x6",
         "domain": [
          0.37777777777777777,
          0.6222222222222222
         ],
         "showgrid": true
        },
        "yaxis7": {
         "anchor": "x7",
         "domain": [
          0.37777777777777777,
          0.6222222222222222
         ],
         "showgrid": true
        },
        "yaxis8": {
         "anchor": "x8",
         "domain": [
          0.37777777777777777,
          0.6222222222222222
         ],
         "showgrid": true
        },
        "yaxis9": {
         "anchor": "x9",
         "domain": [
          0,
          0.24444444444444446
         ],
         "showgrid": true
        }
       }
      }
     },
     "metadata": {},
     "output_type": "display_data"
    }
   ],
   "source": [
    "model.visualize_barchart(top_n_topics=12)"
   ]
  },
  {
   "cell_type": "code",
   "execution_count": 24,
   "metadata": {},
   "outputs": [],
   "source": [
    "# import plotly.express as px\n",
    "\n",
    "# u = UMAP(n_neighbors=15, n_components=3, min_dist=0, metric='cosine').fit_transform(embeded_sentences_new)\n",
    "\n",
    "# fig = px.scatter_3d(x=u[:,0], y=u[:,1], z=u[:,2], color=topics, opacity=0.5, custom_data=[df['title']])\n",
    "\n",
    "# fig.update_traces(\n",
    "#     hovertemplate=\"<br>\".join([\n",
    "#         \"Topic: %{marker.color}\",\n",
    "#         \"Title: %{customdata[0]}\"\n",
    "#     ])\n",
    "# )"
   ]
  },
  {
   "cell_type": "code",
   "execution_count": 25,
   "metadata": {},
   "outputs": [],
   "source": [
    "# import plotly.express as px\n",
    "\n",
    "# u = UMAP(n_neighbors=15, n_components=3, min_dist=0.5, metric='cosine').fit_transform(embeded_sentences_new)\n",
    "\n",
    "# fig = px.scatter_3d(x=u[:,0], y=u[:,1], z=u[:,2], color=topics, opacity=0.5, custom_data=[df['title']])\n",
    "\n",
    "# fig.update_traces(\n",
    "#     hovertemplate=\"<br>\".join([\n",
    "#         \"Topic: %{marker.color}\",\n",
    "#         \"Title: %{customdata[0]}\"\n",
    "#     ])\n",
    "# )"
   ]
  },
  {
   "cell_type": "code",
   "execution_count": 26,
   "metadata": {},
   "outputs": [],
   "source": [
    "# # Do the same but in 2D\n",
    "# u = UMAP(n_neighbors=15, n_components=2, min_dist=0.5, metric='cosine').fit_transform(embeded_sentences_new)\n",
    "\n",
    "# fig = px.scatter(x=u[:,0], y=u[:,1], color=topics, opacity=0.5, custom_data=[df['title']])\n",
    "\n",
    "# fig.update_traces(\n",
    "#     hovertemplate=\"<br>\".join([\n",
    "#         \"Topic: %{marker.color}\",\n",
    "#         \"Title: %{customdata[0]}\"\n",
    "#     ])\n",
    "# )"
   ]
  },
  {
   "cell_type": "code",
   "execution_count": 27,
   "metadata": {},
   "outputs": [],
   "source": [
    "# # Do the same but in 2D\n",
    "# u = UMAP(n_neighbors=30, n_components=2, min_dist=0, metric='cosine').fit_transform(embeded_sentences_new)\n",
    "\n",
    "# fig = px.scatter(x=u[:,0], y=u[:,1], color=topics, opacity=0.5, custom_data=[df['title']])\n",
    "\n",
    "# fig.update_traces(\n",
    "#     hovertemplate=\"<br>\".join([\n",
    "#         \"Topic: %{marker.color}\",\n",
    "#         \"Title: %{customdata[0]}\"\n",
    "#     ])\n",
    "# )"
   ]
  },
  {
   "cell_type": "code",
   "execution_count": 28,
   "metadata": {},
   "outputs": [],
   "source": [
    "# # Do the same but in 2D\n",
    "# u = UMAP(n_neighbors=30, n_components=2, min_dist=0.5, metric='cosine').fit_transform(embeded_sentences_new)\n",
    "\n",
    "# fig = px.scatter(x=u[:,0], y=u[:,1], color=topics, opacity=0.5, custom_data=[df['title']])\n",
    "\n",
    "# fig.update_traces(\n",
    "#     hovertemplate=\"<br>\".join([\n",
    "#         \"Topic: %{marker.color}\",\n",
    "#         \"Title: %{customdata[0]}\"\n",
    "#     ])\n",
    "# )"
   ]
  },
  {
   "cell_type": "code",
   "execution_count": 29,
   "metadata": {},
   "outputs": [],
   "source": [
    "# import plotly.express as px\n",
    "\n",
    "# u = UMAP(n_neighbors=30, n_components=3, min_dist=0, metric='cosine').fit_transform(embeded_sentences_new)\n",
    "\n",
    "# fig = px.scatter_3d(x=u[:,0], y=u[:,1], z=u[:,2], color=topics, opacity=0.5, custom_data=[df['title']])\n",
    "\n",
    "# fig.update_traces(\n",
    "#     hovertemplate=\"<br>\".join([\n",
    "#         \"Topic: %{marker.color}\",\n",
    "#         \"Title: %{customdata[0]}\"\n",
    "#     ])\n",
    "# )"
   ]
  },
  {
   "cell_type": "code",
   "execution_count": 30,
   "metadata": {},
   "outputs": [],
   "source": [
    "# add the topics to the dataframe\n",
    "df['topic'] = topics"
   ]
  },
  {
   "cell_type": "code",
   "execution_count": 31,
   "metadata": {},
   "outputs": [
    {
     "name": "stdout",
     "output_type": "stream",
     "text": [
      "Topic 0:\n"
     ]
    },
    {
     "data": {
      "text/plain": [
       "['[\"Cook beef until tender, then shred or chop beef.\", \"Put back into liquid and add all seasonings.\", \"Cook on low all day.\", \"Stir once or twice.\"]',\n",
       " '[\"Mix soup into drained tuna.\", \"Spoon into greased baking dish. Crush soda crackers and pour into melted butter.\", \"Spread cracker mix over top of tuna and bake for 30 minutes at 400\\\\u00b0.\"]',\n",
       " '[\"Heat oven to 350\\\\u00b0.\", \"In large skillet, cook and stir ground beef until brown.\", \"Drain fat.\", \"Add onions and pepper.\", \"Cook and stir onions until tender.\", \"Stir in remaining ingredients.\", \"Pour into an ungreased 2-quart casserole dish.\", \"Cover and bake for 1 hour.\"]',\n",
       " '[\"Season pork chops with salt and pepper.\", \"Brown in 1 tablespoon hot oil in a skillet.\", \"Remove from skillet and place in baking dish.\", \"Saute onion and celery in margarine in a small skillet. Combine with bread cubes, poultry seasoning, celery salt and 1/4 cup water; mix lightly.\", \"Shape dressing into mounds on top of chops.\", \"Coat potatoes with oil; place around chops.\", \"Combine soup and 1/2 cup water; pour over chops and potatoes.\", \"Bake at 350\\\\u00b0 for 1 hour, or until meat is tender.\", \"Serves 6.\"]',\n",
       " '[\"Chop onions and garlic.\", \"Combine all ingredients in a heavy kettle and simmer with meat slowly about 3 hours.\", \"Remove meat; strain gravy and thicken with flour.\", \"Serve over noodles.\"]']"
      ]
     },
     "metadata": {},
     "output_type": "display_data"
    },
    {
     "name": "stdout",
     "output_type": "stream",
     "text": [
      "\n",
      "\n"
     ]
    }
   ],
   "source": [
    "# print couple of recipes from each topic\n",
    "for topic in df['topic'].unique():\n",
    "    if topic == 0:\n",
    "        print(f'Topic {topic}:')\n",
    "        display(df[df['topic'] == topic]['directions'].sample(5).tolist())\n",
    "        print('\\n')"
   ]
  },
  {
   "cell_type": "code",
   "execution_count": 32,
   "metadata": {},
   "outputs": [],
   "source": [
    "from mlxtend.preprocessing import TransactionEncoder\n",
    "from mlxtend.frequent_patterns import apriori, association_rules, fpgrowth\n",
    "import nltk\n",
    "from nltk.corpus import stopwords\n"
   ]
  },
  {
   "cell_type": "code",
   "execution_count": 33,
   "metadata": {},
   "outputs": [],
   "source": [
    "def encode_directions(df_sample2):\n",
    "    # Load the dataset\n",
    "\n",
    "    # Convert the ingredients column to a list of lists\n",
    "    transactions = df_sample2['directions'].to_numpy().tolist()\n",
    "    transactions = [eval(x) for x in transactions]\n",
    "\n",
    "    tokenizer = nltk.tokenize.RegexpTokenizer(r'\\w+')\n",
    "\n",
    "    transactions_word_scale = []\n",
    "    #nltk.download('stopwords')\n",
    "    stop_words = set(stopwords.words('english'))\n",
    "\n",
    "    for transaction in transactions:\n",
    "        recipe = []\n",
    "        for sentence in transaction:\n",
    "            # remove stop words and tokenize\n",
    "            tokens = tokenizer.tokenize(sentence)\n",
    "            # convert to lowercase, remove punctuation, and remove stop words\n",
    "            tokens = [word.lower() for word in tokens if word.isalpha() and not word in stop_words]\n",
    "            recipe += tokens\n",
    "        transactions_word_scale.append(recipe)\n",
    "\n",
    "    # Create a TransactionEncoder object to convert the list of lists into a one-hot encoded matrix\n",
    "    te = TransactionEncoder()\n",
    "    transactions_one_hot = te.fit(transactions_word_scale).transform(transactions_word_scale, sparse=True)\n",
    "    # te_ary_word_scale = te.transform(transactions_word_scale)\n",
    "    df_word_scale = pd.DataFrame.sparse.from_spmatrix(transactions_one_hot, columns=te.columns_)\n",
    "\n",
    "    return df_sample2, df_word_scale"
   ]
  },
  {
   "cell_type": "code",
   "execution_count": 34,
   "metadata": {},
   "outputs": [],
   "source": [
    "# run ARM for each topic\n",
    "\n",
    "frequent_itemsets_word_per_topic = []\n",
    "\n",
    "run_count = 0\n",
    "\n",
    "# check if the file exists\n",
    "if os.path.exists(f'{DATA_DIR}/frequent_itemsets_word_per_topic.pkl'):\n",
    "    # load the file\n",
    "    with open(f'{DATA_DIR}/frequent_itemsets_word_per_topic.pkl', 'rb') as f:\n",
    "        frequent_itemsets_word_per_topic = pickle.load(f)\n",
    "else:\n",
    "    for topic in tqdm(df['topic'].unique()):\n",
    "        if topic == -1:\n",
    "            continue\n",
    "        print(f'Run count: {run_count}')\n",
    "        df_sample2 = df[df['topic'] == topic].copy()\n",
    "        df_sample2, df_word_scale = encode_directions(df_sample2)\n",
    "        frequent_itemsets_word_per_topic.append(fpgrowth(df_word_scale, min_support=0.01, use_colnames=True, max_len=5))\n",
    "        run_count += 1\n",
    "        if run_count == 5:\n",
    "            break\n",
    "    # save the file\n",
    "    with open(f'{DATA_DIR}/frequent_itemsets_word_per_topic.pkl', 'wb') as f:\n",
    "        pickle.dump(frequent_itemsets_word_per_topic, f)"
   ]
  },
  {
   "cell_type": "code",
   "execution_count": 35,
   "metadata": {},
   "outputs": [
    {
     "name": "stdout",
     "output_type": "stream",
     "text": [
      "Topic: 84\n"
     ]
    },
    {
     "data": {
      "text/html": [
       "<div>\n",
       "<style scoped>\n",
       "    .dataframe tbody tr th:only-of-type {\n",
       "        vertical-align: middle;\n",
       "    }\n",
       "\n",
       "    .dataframe tbody tr th {\n",
       "        vertical-align: top;\n",
       "    }\n",
       "\n",
       "    .dataframe thead th {\n",
       "        text-align: right;\n",
       "    }\n",
       "</style>\n",
       "<table border=\"1\" class=\"dataframe\">\n",
       "  <thead>\n",
       "    <tr style=\"text-align: right;\">\n",
       "      <th></th>\n",
       "      <th>antecedents</th>\n",
       "      <th>consequents</th>\n",
       "      <th>antecedent support</th>\n",
       "      <th>consequent support</th>\n",
       "      <th>support</th>\n",
       "      <th>confidence</th>\n",
       "      <th>lift</th>\n",
       "      <th>leverage</th>\n",
       "      <th>conviction</th>\n",
       "      <th>zhangs_metric</th>\n",
       "    </tr>\n",
       "  </thead>\n",
       "  <tbody>\n",
       "    <tr>\n",
       "      <th>569836</th>\n",
       "      <td>(bake, pour, serve)</td>\n",
       "      <td>(rice, dish)</td>\n",
       "      <td>0.123288</td>\n",
       "      <td>0.123288</td>\n",
       "      <td>0.10274</td>\n",
       "      <td>0.833333</td>\n",
       "      <td>6.759259</td>\n",
       "      <td>0.087540</td>\n",
       "      <td>5.260274</td>\n",
       "      <td>0.971875</td>\n",
       "    </tr>\n",
       "    <tr>\n",
       "      <th>569853</th>\n",
       "      <td>(rice, dish)</td>\n",
       "      <td>(bake, pour, serve)</td>\n",
       "      <td>0.123288</td>\n",
       "      <td>0.123288</td>\n",
       "      <td>0.10274</td>\n",
       "      <td>0.833333</td>\n",
       "      <td>6.759259</td>\n",
       "      <td>0.087540</td>\n",
       "      <td>5.260274</td>\n",
       "      <td>0.971875</td>\n",
       "    </tr>\n",
       "    <tr>\n",
       "      <th>574233</th>\n",
       "      <td>(rice, place)</td>\n",
       "      <td>(bake, chicken, serve)</td>\n",
       "      <td>0.102740</td>\n",
       "      <td>0.150685</td>\n",
       "      <td>0.10274</td>\n",
       "      <td>1.000000</td>\n",
       "      <td>6.636364</td>\n",
       "      <td>0.087258</td>\n",
       "      <td>inf</td>\n",
       "      <td>0.946565</td>\n",
       "    </tr>\n",
       "    <tr>\n",
       "      <th>574216</th>\n",
       "      <td>(bake, chicken, serve)</td>\n",
       "      <td>(rice, place)</td>\n",
       "      <td>0.150685</td>\n",
       "      <td>0.102740</td>\n",
       "      <td>0.10274</td>\n",
       "      <td>0.681818</td>\n",
       "      <td>6.636364</td>\n",
       "      <td>0.087258</td>\n",
       "      <td>2.819961</td>\n",
       "      <td>1.000000</td>\n",
       "    </tr>\n",
       "    <tr>\n",
       "      <th>572817</th>\n",
       "      <td>(bacon, serve)</td>\n",
       "      <td>(rice, wrap, sour)</td>\n",
       "      <td>0.143836</td>\n",
       "      <td>0.109589</td>\n",
       "      <td>0.10274</td>\n",
       "      <td>0.714286</td>\n",
       "      <td>6.517857</td>\n",
       "      <td>0.086977</td>\n",
       "      <td>3.116438</td>\n",
       "      <td>0.988800</td>\n",
       "    </tr>\n",
       "  </tbody>\n",
       "</table>\n",
       "</div>"
      ],
      "text/plain": [
       "                   antecedents             consequents  antecedent support  \\\n",
       "569836     (bake, pour, serve)            (rice, dish)            0.123288   \n",
       "569853            (rice, dish)     (bake, pour, serve)            0.123288   \n",
       "574233           (rice, place)  (bake, chicken, serve)            0.102740   \n",
       "574216  (bake, chicken, serve)           (rice, place)            0.150685   \n",
       "572817          (bacon, serve)      (rice, wrap, sour)            0.143836   \n",
       "\n",
       "        consequent support  support  confidence      lift  leverage  \\\n",
       "569836            0.123288  0.10274    0.833333  6.759259  0.087540   \n",
       "569853            0.123288  0.10274    0.833333  6.759259  0.087540   \n",
       "574233            0.150685  0.10274    1.000000  6.636364  0.087258   \n",
       "574216            0.102740  0.10274    0.681818  6.636364  0.087258   \n",
       "572817            0.109589  0.10274    0.714286  6.517857  0.086977   \n",
       "\n",
       "        conviction  zhangs_metric  \n",
       "569836    5.260274       0.971875  \n",
       "569853    5.260274       0.971875  \n",
       "574233         inf       0.946565  \n",
       "574216    2.819961       1.000000  \n",
       "572817    3.116438       0.988800  "
      ]
     },
     "metadata": {},
     "output_type": "display_data"
    },
    {
     "data": {
      "application/vnd.jupyter.widget-view+json": {
       "model_id": "0eafba4e02f644b6a2f2304cf1a8749e",
       "version_major": 2,
       "version_minor": 0
      },
      "text/plain": [
       "  0%|          | 0/46356 [00:00<?, ?it/s]"
      ]
     },
     "metadata": {},
     "output_type": "display_data"
    },
    {
     "name": "stdout",
     "output_type": "stream",
     "text": [
      "Topic: 1\n"
     ]
    },
    {
     "data": {
      "text/html": [
       "<div>\n",
       "<style scoped>\n",
       "    .dataframe tbody tr th:only-of-type {\n",
       "        vertical-align: middle;\n",
       "    }\n",
       "\n",
       "    .dataframe tbody tr th {\n",
       "        vertical-align: top;\n",
       "    }\n",
       "\n",
       "    .dataframe thead th {\n",
       "        text-align: right;\n",
       "    }\n",
       "</style>\n",
       "<table border=\"1\" class=\"dataframe\">\n",
       "  <thead>\n",
       "    <tr style=\"text-align: right;\">\n",
       "      <th></th>\n",
       "      <th>antecedents</th>\n",
       "      <th>consequents</th>\n",
       "      <th>antecedent support</th>\n",
       "      <th>consequent support</th>\n",
       "      <th>support</th>\n",
       "      <th>confidence</th>\n",
       "      <th>lift</th>\n",
       "      <th>leverage</th>\n",
       "      <th>conviction</th>\n",
       "      <th>zhangs_metric</th>\n",
       "    </tr>\n",
       "  </thead>\n",
       "  <tbody>\n",
       "    <tr>\n",
       "      <th>2730</th>\n",
       "      <td>(bake, inch)</td>\n",
       "      <td>(x)</td>\n",
       "      <td>0.157730</td>\n",
       "      <td>0.172215</td>\n",
       "      <td>0.140618</td>\n",
       "      <td>0.891515</td>\n",
       "      <td>5.176748</td>\n",
       "      <td>0.113455</td>\n",
       "      <td>7.630373</td>\n",
       "      <td>0.957921</td>\n",
       "    </tr>\n",
       "    <tr>\n",
       "      <th>2735</th>\n",
       "      <td>(x)</td>\n",
       "      <td>(bake, inch)</td>\n",
       "      <td>0.172215</td>\n",
       "      <td>0.157730</td>\n",
       "      <td>0.140618</td>\n",
       "      <td>0.816527</td>\n",
       "      <td>5.176748</td>\n",
       "      <td>0.113455</td>\n",
       "      <td>4.590711</td>\n",
       "      <td>0.974684</td>\n",
       "    </tr>\n",
       "    <tr>\n",
       "      <th>2744</th>\n",
       "      <td>(chicken, x)</td>\n",
       "      <td>(bake, inch)</td>\n",
       "      <td>0.171283</td>\n",
       "      <td>0.157730</td>\n",
       "      <td>0.139856</td>\n",
       "      <td>0.816518</td>\n",
       "      <td>5.176691</td>\n",
       "      <td>0.112840</td>\n",
       "      <td>4.590486</td>\n",
       "      <td>0.973585</td>\n",
       "    </tr>\n",
       "    <tr>\n",
       "      <th>2741</th>\n",
       "      <td>(bake, inch)</td>\n",
       "      <td>(chicken, x)</td>\n",
       "      <td>0.157730</td>\n",
       "      <td>0.171283</td>\n",
       "      <td>0.139856</td>\n",
       "      <td>0.886681</td>\n",
       "      <td>5.176691</td>\n",
       "      <td>0.112840</td>\n",
       "      <td>7.313130</td>\n",
       "      <td>0.957919</td>\n",
       "    </tr>\n",
       "    <tr>\n",
       "      <th>2749</th>\n",
       "      <td>(x)</td>\n",
       "      <td>(bake, chicken, inch)</td>\n",
       "      <td>0.172215</td>\n",
       "      <td>0.156883</td>\n",
       "      <td>0.139856</td>\n",
       "      <td>0.812100</td>\n",
       "      <td>5.176482</td>\n",
       "      <td>0.112838</td>\n",
       "      <td>4.487062</td>\n",
       "      <td>0.974672</td>\n",
       "    </tr>\n",
       "  </tbody>\n",
       "</table>\n",
       "</div>"
      ],
      "text/plain": [
       "       antecedents            consequents  antecedent support  \\\n",
       "2730  (bake, inch)                    (x)            0.157730   \n",
       "2735           (x)           (bake, inch)            0.172215   \n",
       "2744  (chicken, x)           (bake, inch)            0.171283   \n",
       "2741  (bake, inch)           (chicken, x)            0.157730   \n",
       "2749           (x)  (bake, chicken, inch)            0.172215   \n",
       "\n",
       "      consequent support   support  confidence      lift  leverage  \\\n",
       "2730            0.172215  0.140618    0.891515  5.176748  0.113455   \n",
       "2735            0.157730  0.140618    0.816527  5.176748  0.113455   \n",
       "2744            0.157730  0.139856    0.816518  5.176691  0.112840   \n",
       "2741            0.171283  0.139856    0.886681  5.176691  0.112840   \n",
       "2749            0.156883  0.139856    0.812100  5.176482  0.112838   \n",
       "\n",
       "      conviction  zhangs_metric  \n",
       "2730    7.630373       0.957921  \n",
       "2735    4.590711       0.974684  \n",
       "2744    4.590486       0.973585  \n",
       "2741    7.313130       0.957919  \n",
       "2749    4.487062       0.974672  "
      ]
     },
     "metadata": {},
     "output_type": "display_data"
    },
    {
     "data": {
      "application/vnd.jupyter.widget-view+json": {
       "model_id": "7665724d060747f2b7994150495a6b77",
       "version_major": 2,
       "version_minor": 0
      },
      "text/plain": [
       "  0%|          | 0/906 [00:00<?, ?it/s]"
      ]
     },
     "metadata": {},
     "output_type": "display_data"
    },
    {
     "name": "stdout",
     "output_type": "stream",
     "text": [
      "Topic: 0\n"
     ]
    },
    {
     "data": {
      "text/html": [
       "<div>\n",
       "<style scoped>\n",
       "    .dataframe tbody tr th:only-of-type {\n",
       "        vertical-align: middle;\n",
       "    }\n",
       "\n",
       "    .dataframe tbody tr th {\n",
       "        vertical-align: top;\n",
       "    }\n",
       "\n",
       "    .dataframe thead th {\n",
       "        text-align: right;\n",
       "    }\n",
       "</style>\n",
       "<table border=\"1\" class=\"dataframe\">\n",
       "  <thead>\n",
       "    <tr style=\"text-align: right;\">\n",
       "      <th></th>\n",
       "      <th>antecedents</th>\n",
       "      <th>consequents</th>\n",
       "      <th>antecedent support</th>\n",
       "      <th>consequent support</th>\n",
       "      <th>support</th>\n",
       "      <th>confidence</th>\n",
       "      <th>lift</th>\n",
       "      <th>leverage</th>\n",
       "      <th>conviction</th>\n",
       "      <th>zhangs_metric</th>\n",
       "    </tr>\n",
       "  </thead>\n",
       "  <tbody>\n",
       "    <tr>\n",
       "      <th>1175</th>\n",
       "      <td>(x)</td>\n",
       "      <td>(inch)</td>\n",
       "      <td>0.114293</td>\n",
       "      <td>0.185720</td>\n",
       "      <td>0.105872</td>\n",
       "      <td>0.926316</td>\n",
       "      <td>4.987704</td>\n",
       "      <td>0.084645</td>\n",
       "      <td>11.050944</td>\n",
       "      <td>0.902677</td>\n",
       "    </tr>\n",
       "    <tr>\n",
       "      <th>1174</th>\n",
       "      <td>(inch)</td>\n",
       "      <td>(x)</td>\n",
       "      <td>0.185720</td>\n",
       "      <td>0.114293</td>\n",
       "      <td>0.105872</td>\n",
       "      <td>0.570061</td>\n",
       "      <td>4.987704</td>\n",
       "      <td>0.084645</td>\n",
       "      <td>2.060073</td>\n",
       "      <td>0.981857</td>\n",
       "    </tr>\n",
       "    <tr>\n",
       "      <th>1121</th>\n",
       "      <td>(bake, dish)</td>\n",
       "      <td>(baking)</td>\n",
       "      <td>0.214411</td>\n",
       "      <td>0.171571</td>\n",
       "      <td>0.113221</td>\n",
       "      <td>0.528056</td>\n",
       "      <td>3.077775</td>\n",
       "      <td>0.076434</td>\n",
       "      <td>1.755354</td>\n",
       "      <td>0.859342</td>\n",
       "    </tr>\n",
       "    <tr>\n",
       "      <th>1124</th>\n",
       "      <td>(baking)</td>\n",
       "      <td>(bake, dish)</td>\n",
       "      <td>0.171571</td>\n",
       "      <td>0.214411</td>\n",
       "      <td>0.113221</td>\n",
       "      <td>0.659909</td>\n",
       "      <td>3.077775</td>\n",
       "      <td>0.076434</td>\n",
       "      <td>2.309935</td>\n",
       "      <td>0.814903</td>\n",
       "    </tr>\n",
       "    <tr>\n",
       "      <th>1125</th>\n",
       "      <td>(dish)</td>\n",
       "      <td>(bake, baking)</td>\n",
       "      <td>0.256571</td>\n",
       "      <td>0.153969</td>\n",
       "      <td>0.113221</td>\n",
       "      <td>0.441284</td>\n",
       "      <td>2.866062</td>\n",
       "      <td>0.073717</td>\n",
       "      <td>1.514243</td>\n",
       "      <td>0.875792</td>\n",
       "    </tr>\n",
       "  </tbody>\n",
       "</table>\n",
       "</div>"
      ],
      "text/plain": [
       "       antecedents     consequents  antecedent support  consequent support  \\\n",
       "1175           (x)          (inch)            0.114293            0.185720   \n",
       "1174        (inch)             (x)            0.185720            0.114293   \n",
       "1121  (bake, dish)        (baking)            0.214411            0.171571   \n",
       "1124      (baking)    (bake, dish)            0.171571            0.214411   \n",
       "1125        (dish)  (bake, baking)            0.256571            0.153969   \n",
       "\n",
       "       support  confidence      lift  leverage  conviction  zhangs_metric  \n",
       "1175  0.105872    0.926316  4.987704  0.084645   11.050944       0.902677  \n",
       "1174  0.105872    0.570061  4.987704  0.084645    2.060073       0.981857  \n",
       "1121  0.113221    0.528056  3.077775  0.076434    1.755354       0.859342  \n",
       "1124  0.113221    0.659909  3.077775  0.076434    2.309935       0.814903  \n",
       "1125  0.113221    0.441284  2.866062  0.073717    1.514243       0.875792  "
      ]
     },
     "metadata": {},
     "output_type": "display_data"
    },
    {
     "data": {
      "application/vnd.jupyter.widget-view+json": {
       "model_id": "67a38603ab3946a2a708d758821151c2",
       "version_major": 2,
       "version_minor": 0
      },
      "text/plain": [
       "  0%|          | 0/226 [00:00<?, ?it/s]"
      ]
     },
     "metadata": {},
     "output_type": "display_data"
    },
    {
     "name": "stdout",
     "output_type": "stream",
     "text": [
      "Topic: 3\n"
     ]
    },
    {
     "data": {
      "text/html": [
       "<div>\n",
       "<style scoped>\n",
       "    .dataframe tbody tr th:only-of-type {\n",
       "        vertical-align: middle;\n",
       "    }\n",
       "\n",
       "    .dataframe tbody tr th {\n",
       "        vertical-align: top;\n",
       "    }\n",
       "\n",
       "    .dataframe thead th {\n",
       "        text-align: right;\n",
       "    }\n",
       "</style>\n",
       "<table border=\"1\" class=\"dataframe\">\n",
       "  <thead>\n",
       "    <tr style=\"text-align: right;\">\n",
       "      <th></th>\n",
       "      <th>antecedents</th>\n",
       "      <th>consequents</th>\n",
       "      <th>antecedent support</th>\n",
       "      <th>consequent support</th>\n",
       "      <th>support</th>\n",
       "      <th>confidence</th>\n",
       "      <th>lift</th>\n",
       "      <th>leverage</th>\n",
       "      <th>conviction</th>\n",
       "      <th>zhangs_metric</th>\n",
       "    </tr>\n",
       "  </thead>\n",
       "  <tbody>\n",
       "    <tr>\n",
       "      <th>1360</th>\n",
       "      <td>(water, o)</td>\n",
       "      <td>(add, jell)</td>\n",
       "      <td>0.113248</td>\n",
       "      <td>0.141861</td>\n",
       "      <td>0.100505</td>\n",
       "      <td>0.887473</td>\n",
       "      <td>6.255936</td>\n",
       "      <td>0.084439</td>\n",
       "      <td>7.626103</td>\n",
       "      <td>0.947449</td>\n",
       "    </tr>\n",
       "    <tr>\n",
       "      <th>1357</th>\n",
       "      <td>(add, jell)</td>\n",
       "      <td>(water, o)</td>\n",
       "      <td>0.141861</td>\n",
       "      <td>0.113248</td>\n",
       "      <td>0.100505</td>\n",
       "      <td>0.708475</td>\n",
       "      <td>6.255936</td>\n",
       "      <td>0.084439</td>\n",
       "      <td>3.041764</td>\n",
       "      <td>0.979039</td>\n",
       "    </tr>\n",
       "    <tr>\n",
       "      <th>1356</th>\n",
       "      <td>(add, o)</td>\n",
       "      <td>(jell, water)</td>\n",
       "      <td>0.127434</td>\n",
       "      <td>0.126473</td>\n",
       "      <td>0.100505</td>\n",
       "      <td>0.788679</td>\n",
       "      <td>6.235964</td>\n",
       "      <td>0.084388</td>\n",
       "      <td>4.133656</td>\n",
       "      <td>0.962266</td>\n",
       "    </tr>\n",
       "    <tr>\n",
       "      <th>1361</th>\n",
       "      <td>(jell, water)</td>\n",
       "      <td>(add, o)</td>\n",
       "      <td>0.126473</td>\n",
       "      <td>0.127434</td>\n",
       "      <td>0.100505</td>\n",
       "      <td>0.794677</td>\n",
       "      <td>6.235964</td>\n",
       "      <td>0.084388</td>\n",
       "      <td>4.249717</td>\n",
       "      <td>0.961206</td>\n",
       "    </tr>\n",
       "    <tr>\n",
       "      <th>1354</th>\n",
       "      <td>(add, jell, water)</td>\n",
       "      <td>(o)</td>\n",
       "      <td>0.111806</td>\n",
       "      <td>0.148834</td>\n",
       "      <td>0.100505</td>\n",
       "      <td>0.898925</td>\n",
       "      <td>6.039787</td>\n",
       "      <td>0.083864</td>\n",
       "      <td>8.421112</td>\n",
       "      <td>0.939469</td>\n",
       "    </tr>\n",
       "  </tbody>\n",
       "</table>\n",
       "</div>"
      ],
      "text/plain": [
       "             antecedents    consequents  antecedent support  \\\n",
       "1360          (water, o)    (add, jell)            0.113248   \n",
       "1357         (add, jell)     (water, o)            0.141861   \n",
       "1356            (add, o)  (jell, water)            0.127434   \n",
       "1361       (jell, water)       (add, o)            0.126473   \n",
       "1354  (add, jell, water)            (o)            0.111806   \n",
       "\n",
       "      consequent support   support  confidence      lift  leverage  \\\n",
       "1360            0.141861  0.100505    0.887473  6.255936  0.084439   \n",
       "1357            0.113248  0.100505    0.708475  6.255936  0.084439   \n",
       "1356            0.126473  0.100505    0.788679  6.235964  0.084388   \n",
       "1361            0.127434  0.100505    0.794677  6.235964  0.084388   \n",
       "1354            0.148834  0.100505    0.898925  6.039787  0.083864   \n",
       "\n",
       "      conviction  zhangs_metric  \n",
       "1360    7.626103       0.947449  \n",
       "1357    3.041764       0.979039  \n",
       "1356    4.133656       0.962266  \n",
       "1361    4.249717       0.961206  \n",
       "1354    8.421112       0.939469  "
      ]
     },
     "metadata": {},
     "output_type": "display_data"
    },
    {
     "data": {
      "application/vnd.jupyter.widget-view+json": {
       "model_id": "b216f3f21de64cae999666ba53b774b0",
       "version_major": 2,
       "version_minor": 0
      },
      "text/plain": [
       "  0%|          | 0/378 [00:00<?, ?it/s]"
      ]
     },
     "metadata": {},
     "output_type": "display_data"
    }
   ],
   "source": [
    "topics = df['topic'].unique()\n",
    "# run association rule mining for each topic\n",
    "for i, freq_item_set in enumerate(frequent_itemsets_word_per_topic):\n",
    "    topic = topics[i]\n",
    "    if topic == -1 or 0:\n",
    "        continue\n",
    "    print(f'Topic: {topic}')\n",
    "    rules = association_rules(freq_item_set, metric=\"support\", min_threshold=0.1)\n",
    "    display(rules.sort_values(by=\"lift\", ascending=False).head(5))\n",
    "    import networkx as nx\n",
    "    import matplotlib.pyplot as plt\n",
    "    # Create a network graph of the association rules\n",
    "\n",
    "    # Only consider rules with lift greater than X\n",
    "    filtered_rules = rules[rules.lift >= 1.5]\n",
    "\n",
    "    G = nx.DiGraph()\n",
    "    for i in tqdm(range(len(filtered_rules))):\n",
    "        # add edge with an arrow from antecedents to consequents\n",
    "        G.add_edge(filtered_rules.iloc[i]['antecedents'], filtered_rules.iloc[i]['consequents'], weight=filtered_rules.iloc[i]['lift'])\n",
    "\n",
    "    # Apply page rank to the network graph\n",
    "    page_rank = nx.pagerank(G)\n",
    "    # Sort the recipes by page rank\n",
    "    sorted(page_rank.items(), key=lambda x: x[1], reverse=True)[:25]\n",
    "    with open(f'dataset/rules_extracted_topic_{topic}.txt', 'w') as f:\n",
    "        for recipe in sorted(page_rank.items(), key=lambda x: x[1], reverse=True)[:5]:\n",
    "            f.write(f\"Recipe: {recipe[0]}\\n\")\n",
    "            # Find the most important 5 neighbors of the recipe\n",
    "            neighbors = sorted(G[recipe[0]].items(), key=lambda x: x[1]['weight'], reverse=True)[:5]\n",
    "            # Combine the sets of all neighbors into one list sorted by weight\n",
    "            all_neighbors = sorted([(neighbor[0], neighbor[1]['weight']) for neighbor in neighbors], key=lambda x: x[1], reverse=True)\n",
    "            # Eliminate weights\n",
    "            all_neighbors = [neighbor[0] for neighbor in all_neighbors]\n",
    "            # Combine all sets into one set\n",
    "            new_all_neighbors = set()\n",
    "            for neighbor in all_neighbors:\n",
    "                new_all_neighbors = new_all_neighbors.union(neighbor)\n",
    "            # Write to a file\n",
    "            f.write(f\"Neighbors: {new_all_neighbors}\\n\")\n",
    "            f.write('\\n')\n",
    "    G.clear()"
   ]
  },
  {
   "cell_type": "code",
   "execution_count": null,
   "metadata": {},
   "outputs": [],
   "source": []
  }
 ],
 "metadata": {
  "kernelspec": {
   "display_name": "venv",
   "language": "python",
   "name": "python3"
  },
  "language_info": {
   "codemirror_mode": {
    "name": "ipython",
    "version": 3
   },
   "file_extension": ".py",
   "mimetype": "text/x-python",
   "name": "python",
   "nbconvert_exporter": "python",
   "pygments_lexer": "ipython3",
   "version": "3.11.5"
  },
  "orig_nbformat": 4
 },
 "nbformat": 4,
 "nbformat_minor": 2
}
