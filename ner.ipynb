{
 "cells": [
  {
   "cell_type": "code",
   "execution_count": 1,
   "metadata": {},
   "outputs": [],
   "source": [
    "import pandas as pd\n",
    "import numpy as np\n",
    "\n",
    "DATA_DIR = 'dataset'\n",
    "\n",
    "# Read in the data\n",
    "df = pd.read_csv(f'{DATA_DIR}/full_dataset.csv')"
   ]
  },
  {
   "cell_type": "code",
   "execution_count": 2,
   "metadata": {},
   "outputs": [
    {
     "data": {
      "text/html": [
       "<div>\n",
       "<style scoped>\n",
       "    .dataframe tbody tr th:only-of-type {\n",
       "        vertical-align: middle;\n",
       "    }\n",
       "\n",
       "    .dataframe tbody tr th {\n",
       "        vertical-align: top;\n",
       "    }\n",
       "\n",
       "    .dataframe thead th {\n",
       "        text-align: right;\n",
       "    }\n",
       "</style>\n",
       "<table border=\"1\" class=\"dataframe\">\n",
       "  <thead>\n",
       "    <tr style=\"text-align: right;\">\n",
       "      <th></th>\n",
       "      <th>Unnamed: 0</th>\n",
       "      <th>title</th>\n",
       "      <th>ingredients</th>\n",
       "      <th>directions</th>\n",
       "      <th>link</th>\n",
       "      <th>source</th>\n",
       "      <th>NER</th>\n",
       "    </tr>\n",
       "  </thead>\n",
       "  <tbody>\n",
       "    <tr>\n",
       "      <th>0</th>\n",
       "      <td>0</td>\n",
       "      <td>No-Bake Nut Cookies</td>\n",
       "      <td>[\"1 c. firmly packed brown sugar\", \"1/2 c. eva...</td>\n",
       "      <td>[\"In a heavy 2-quart saucepan, mix brown sugar...</td>\n",
       "      <td>www.cookbooks.com/Recipe-Details.aspx?id=44874</td>\n",
       "      <td>Gathered</td>\n",
       "      <td>[\"brown sugar\", \"milk\", \"vanilla\", \"nuts\", \"bu...</td>\n",
       "    </tr>\n",
       "    <tr>\n",
       "      <th>1</th>\n",
       "      <td>1</td>\n",
       "      <td>Jewell Ball'S Chicken</td>\n",
       "      <td>[\"1 small jar chipped beef, cut up\", \"4 boned ...</td>\n",
       "      <td>[\"Place chipped beef on bottom of baking dish....</td>\n",
       "      <td>www.cookbooks.com/Recipe-Details.aspx?id=699419</td>\n",
       "      <td>Gathered</td>\n",
       "      <td>[\"beef\", \"chicken breasts\", \"cream of mushroom...</td>\n",
       "    </tr>\n",
       "    <tr>\n",
       "      <th>2</th>\n",
       "      <td>2</td>\n",
       "      <td>Creamy Corn</td>\n",
       "      <td>[\"2 (16 oz.) pkg. frozen corn\", \"1 (8 oz.) pkg...</td>\n",
       "      <td>[\"In a slow cooker, combine all ingredients. C...</td>\n",
       "      <td>www.cookbooks.com/Recipe-Details.aspx?id=10570</td>\n",
       "      <td>Gathered</td>\n",
       "      <td>[\"frozen corn\", \"cream cheese\", \"butter\", \"gar...</td>\n",
       "    </tr>\n",
       "    <tr>\n",
       "      <th>3</th>\n",
       "      <td>3</td>\n",
       "      <td>Chicken Funny</td>\n",
       "      <td>[\"1 large whole chicken\", \"2 (10 1/2 oz.) cans...</td>\n",
       "      <td>[\"Boil and debone chicken.\", \"Put bite size pi...</td>\n",
       "      <td>www.cookbooks.com/Recipe-Details.aspx?id=897570</td>\n",
       "      <td>Gathered</td>\n",
       "      <td>[\"chicken\", \"chicken gravy\", \"cream of mushroo...</td>\n",
       "    </tr>\n",
       "    <tr>\n",
       "      <th>4</th>\n",
       "      <td>4</td>\n",
       "      <td>Reeses Cups(Candy)</td>\n",
       "      <td>[\"1 c. peanut butter\", \"3/4 c. graham cracker ...</td>\n",
       "      <td>[\"Combine first four ingredients and press in ...</td>\n",
       "      <td>www.cookbooks.com/Recipe-Details.aspx?id=659239</td>\n",
       "      <td>Gathered</td>\n",
       "      <td>[\"peanut butter\", \"graham cracker crumbs\", \"bu...</td>\n",
       "    </tr>\n",
       "  </tbody>\n",
       "</table>\n",
       "</div>"
      ],
      "text/plain": [
       "   Unnamed: 0                  title  \\\n",
       "0           0    No-Bake Nut Cookies   \n",
       "1           1  Jewell Ball'S Chicken   \n",
       "2           2            Creamy Corn   \n",
       "3           3          Chicken Funny   \n",
       "4           4   Reeses Cups(Candy)     \n",
       "\n",
       "                                         ingredients  \\\n",
       "0  [\"1 c. firmly packed brown sugar\", \"1/2 c. eva...   \n",
       "1  [\"1 small jar chipped beef, cut up\", \"4 boned ...   \n",
       "2  [\"2 (16 oz.) pkg. frozen corn\", \"1 (8 oz.) pkg...   \n",
       "3  [\"1 large whole chicken\", \"2 (10 1/2 oz.) cans...   \n",
       "4  [\"1 c. peanut butter\", \"3/4 c. graham cracker ...   \n",
       "\n",
       "                                          directions  \\\n",
       "0  [\"In a heavy 2-quart saucepan, mix brown sugar...   \n",
       "1  [\"Place chipped beef on bottom of baking dish....   \n",
       "2  [\"In a slow cooker, combine all ingredients. C...   \n",
       "3  [\"Boil and debone chicken.\", \"Put bite size pi...   \n",
       "4  [\"Combine first four ingredients and press in ...   \n",
       "\n",
       "                                              link    source  \\\n",
       "0   www.cookbooks.com/Recipe-Details.aspx?id=44874  Gathered   \n",
       "1  www.cookbooks.com/Recipe-Details.aspx?id=699419  Gathered   \n",
       "2   www.cookbooks.com/Recipe-Details.aspx?id=10570  Gathered   \n",
       "3  www.cookbooks.com/Recipe-Details.aspx?id=897570  Gathered   \n",
       "4  www.cookbooks.com/Recipe-Details.aspx?id=659239  Gathered   \n",
       "\n",
       "                                                 NER  \n",
       "0  [\"brown sugar\", \"milk\", \"vanilla\", \"nuts\", \"bu...  \n",
       "1  [\"beef\", \"chicken breasts\", \"cream of mushroom...  \n",
       "2  [\"frozen corn\", \"cream cheese\", \"butter\", \"gar...  \n",
       "3  [\"chicken\", \"chicken gravy\", \"cream of mushroo...  \n",
       "4  [\"peanut butter\", \"graham cracker crumbs\", \"bu...  "
      ]
     },
     "execution_count": 2,
     "metadata": {},
     "output_type": "execute_result"
    }
   ],
   "source": [
    "df.head(5)"
   ]
  },
  {
   "cell_type": "code",
   "execution_count": 3,
   "metadata": {},
   "outputs": [
    {
     "data": {
      "application/vnd.jupyter.widget-view+json": {
       "model_id": "c48e0ac1327840c2bae86a269b3e9acf",
       "version_major": 2,
       "version_minor": 0
      },
      "text/plain": [
       "  0%|          | 0/2231142 [00:00<?, ?it/s]"
      ]
     },
     "metadata": {},
     "output_type": "display_data"
    }
   ],
   "source": [
    "from nltk.tokenize import word_tokenize\n",
    "from nltk.tag import pos_tag, pos_tag_sents\n",
    "from nltk.chunk import ne_chunk\n",
    "from nltk.corpus import stopwords\n",
    "from nltk import download as nltk_download\n",
    "from tqdm.notebook import tqdm\n",
    "\n",
    "# Extract the directions column as a list of lists of strings\n",
    "recipes = df['directions'].tolist()\n",
    "recipes = [eval(recipe) for recipe in tqdm(recipes)]"
   ]
  },
  {
   "cell_type": "code",
   "execution_count": 4,
   "metadata": {},
   "outputs": [],
   "source": [
    "import pickle\n",
    "import os\n",
    "# Tokenize each recipe into words\n",
    "# Check if recipe_tokens.pkl exists\n",
    "if os.path.exists(f'{DATA_DIR}/recipe_tokens.pkl'):\n",
    "    # load recipe_tokens from a pickle file\n",
    "    print('Loading recipe_tokens from a pickle file')\n",
    "    with open(f'{DATA_DIR}/recipe_tokens.pkl', 'rb') as f:\n",
    "        recipe_tokens = pickle.load(f)\n",
    "else:\n",
    "    print('recipe_tokens.pkl does not exist. Creating recipe_tokens...')\n",
    "    recipe_tokens = [word_tokenize(' '.join(recipe)) for recipe in tqdm(recipes)]\n",
    "    # save recipe_tokens to a pickle file\n",
    "    with open(f'{DATA_DIR}/recipe_tokens.pkl', 'wb') as f:\n",
    "        pickle.dump(recipe_tokens, f)"
   ]
  },
  {
   "cell_type": "code",
   "execution_count": 5,
   "metadata": {},
   "outputs": [
    {
     "data": {
      "text/plain": [
       "['In',\n",
       " 'a',\n",
       " 'heavy',\n",
       " '2-quart',\n",
       " 'saucepan',\n",
       " ',',\n",
       " 'mix',\n",
       " 'brown',\n",
       " 'sugar',\n",
       " ',',\n",
       " 'nuts',\n",
       " ',',\n",
       " 'evaporated',\n",
       " 'milk',\n",
       " 'and',\n",
       " 'butter',\n",
       " 'or',\n",
       " 'margarine',\n",
       " '.',\n",
       " 'Stir',\n",
       " 'over',\n",
       " 'medium',\n",
       " 'heat',\n",
       " 'until',\n",
       " 'mixture',\n",
       " 'bubbles',\n",
       " 'all',\n",
       " 'over',\n",
       " 'top',\n",
       " '.',\n",
       " 'Boil',\n",
       " 'and',\n",
       " 'stir',\n",
       " '5',\n",
       " 'minutes',\n",
       " 'more',\n",
       " '.',\n",
       " 'Take',\n",
       " 'off',\n",
       " 'heat',\n",
       " '.',\n",
       " 'Stir',\n",
       " 'in',\n",
       " 'vanilla',\n",
       " 'and',\n",
       " 'cereal',\n",
       " ';',\n",
       " 'mix',\n",
       " 'well',\n",
       " '.',\n",
       " 'Using',\n",
       " '2',\n",
       " 'teaspoons',\n",
       " ',',\n",
       " 'drop',\n",
       " 'and',\n",
       " 'shape',\n",
       " 'into',\n",
       " '30',\n",
       " 'clusters',\n",
       " 'on',\n",
       " 'wax',\n",
       " 'paper',\n",
       " '.',\n",
       " 'Let',\n",
       " 'stand',\n",
       " 'until',\n",
       " 'firm',\n",
       " ',',\n",
       " 'about',\n",
       " '30',\n",
       " 'minutes',\n",
       " '.']"
      ]
     },
     "execution_count": 5,
     "metadata": {},
     "output_type": "execute_result"
    }
   ],
   "source": [
    "recipe_tokens[0]"
   ]
  },
  {
   "cell_type": "code",
   "execution_count": 6,
   "metadata": {},
   "outputs": [
    {
     "name": "stdout",
     "output_type": "stream",
     "text": [
      "Loading recipe_pos from a pickle file\n"
     ]
    }
   ],
   "source": [
    "# Check if recipe_pos.pkl exists\n",
    "if os.path.exists(f'{DATA_DIR}/recipe_pos.pkl'):\n",
    "    # load recipe_pos from a pickle file\n",
    "    print('Loading recipe_pos from a pickle file')\n",
    "    with open(f'{DATA_DIR}/recipe_pos.pkl', 'rb') as f:\n",
    "        recipe_pos = pickle.load(f)\n",
    "else:\n",
    "    print('recipe_pos not found. Generating recipe_pos...')\n",
    "    nltk_download('averaged_perceptron_tagger')\n",
    "    # Tag each word with its part of speech\n",
    "    recipe_pos = [pos_tag(tokens) for tokens in tqdm(recipe_tokens)]\n",
    "    # save to a file\n",
    "    with open(f'{DATA_DIR}/recipe_pos.pkl', 'wb') as f:\n",
    "        pickle.dump(recipe_pos, f)"
   ]
  },
  {
   "cell_type": "code",
   "execution_count": 10,
   "metadata": {},
   "outputs": [
    {
     "name": "stdout",
     "output_type": "stream",
     "text": [
      "recipe_ner not found. Generating recipe_ner...\n"
     ]
    },
    {
     "name": "stderr",
     "output_type": "stream",
     "text": [
      "[nltk_data] Downloading package maxent_ne_chunker to\n",
      "[nltk_data]     /Users/aybarsyazici/nltk_data...\n",
      "[nltk_data]   Package maxent_ne_chunker is already up-to-date!\n",
      "[nltk_data] Downloading package words to\n",
      "[nltk_data]     /Users/aybarsyazici/nltk_data...\n",
      "[nltk_data]   Package words is already up-to-date!\n"
     ]
    },
    {
     "data": {
      "application/vnd.jupyter.widget-view+json": {
       "model_id": "3db51c91db5d4ec7b2c108667cde1ef6",
       "version_major": 2,
       "version_minor": 0
      },
      "text/plain": [
       "  0%|          | 0/2231142 [00:00<?, ?it/s]"
      ]
     },
     "metadata": {},
     "output_type": "display_data"
    }
   ],
   "source": [
    "if os.path.exists(f'{DATA_DIR}/recipe_ner.pkl'):\n",
    "    # load recipe_ner from a pickle file\n",
    "    print('Loading recipe_ner from a pickle file')\n",
    "    with open(f'{DATA_DIR}/recipe_ner.pkl', 'rb') as f:\n",
    "        recipe_ner = pickle.load(f)\n",
    "else:\n",
    "    print('recipe_ner not found. Generating recipe_ner...')\n",
    "    nltk_download('maxent_ne_chunker')\n",
    "    nltk_download('words')\n",
    "    # Perform named entity recognition on each recipe\n",
    "    recipe_ner = [ne_chunk(pos) for pos in tqdm(recipe_pos)]\n",
    "    # save to a file\n",
    "    with open(f'{DATA_DIR}/recipe_ner.pkl', 'wb') as f:\n",
    "        pickle.dump(recipe_ner, f)"
   ]
  },
  {
   "cell_type": "code",
   "execution_count": null,
   "metadata": {},
   "outputs": [],
   "source": []
  }
 ],
 "metadata": {
  "kernelspec": {
   "display_name": "venv",
   "language": "python",
   "name": "python3"
  },
  "language_info": {
   "codemirror_mode": {
    "name": "ipython",
    "version": 3
   },
   "file_extension": ".py",
   "mimetype": "text/x-python",
   "name": "python",
   "nbconvert_exporter": "python",
   "pygments_lexer": "ipython3",
   "version": "3.11.5"
  },
  "orig_nbformat": 4
 },
 "nbformat": 4,
 "nbformat_minor": 2
}
