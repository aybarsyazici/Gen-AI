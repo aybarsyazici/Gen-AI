{
 "cells": [
  {
   "cell_type": "code",
   "execution_count": 1,
   "metadata": {},
   "outputs": [],
   "source": [
    "import pandas as pd\n",
    "import numpy as np\n",
    "from tqdm.notebook import tqdm\n",
    "import pickle\n",
    "import os\n",
    "from multiprocessing import Pool\n",
    "from math import ceil\n",
    "from sentence_transformers import SentenceTransformer\n",
    "# scikit-learn grid search\n",
    "from sklearn.model_selection import ParameterGrid\n",
    "from bertopic import BERTopic\n",
    "from functools import partial\n",
    "from bert_topic_grid_search import apply_bert_topic\n",
    "from functools import partial\n",
    "from numba import jit, cuda\n",
    "\n",
    "DATA_DIR = 'dataset'"
   ]
  },
  {
   "cell_type": "code",
   "execution_count": 2,
   "metadata": {},
   "outputs": [],
   "source": [
    "# Read in the data\n",
    "df = pd.read_csv(f'{DATA_DIR}/full_dataset.csv', nrows=200000)\n",
    "# Only use the first 100000 rows\n",
    "#df = df[:100000]"
   ]
  },
  {
   "cell_type": "code",
   "execution_count": 3,
   "metadata": {},
   "outputs": [],
   "source": [
    "# # find recipes that have directions less than 20 words\n",
    "# # directions is a list of list of strings\n",
    "# directions = df['directions'].apply(lambda x: ''.join(x).split())\n",
    "# # find directions less than 20 words\n",
    "# idx = directions.apply(lambda x: len(x) < 20)\n",
    "# print(f'Number of recipes with directions less than 20 words: {idx.sum()}')"
   ]
  },
  {
   "cell_type": "code",
   "execution_count": 4,
   "metadata": {},
   "outputs": [],
   "source": [
    "# # print some of the short recipes\n",
    "# print('Some of the short recipes:')\n",
    "# for i in range(5):\n",
    "#     print(f'Index: {idx[idx].index[i]}')\n",
    "#     print(f'Directions: {directions[idx].iloc[i]}')\n",
    "#     print()"
   ]
  },
  {
   "cell_type": "code",
   "execution_count": 5,
   "metadata": {},
   "outputs": [
    {
     "data": {
      "application/vnd.jupyter.widget-view+json": {
       "model_id": "2be5dfa331884fca964610f9ee45bbc1",
       "version_major": 2,
       "version_minor": 0
      },
      "text/plain": [
       "  0%|          | 0/200000 [00:00<?, ?it/s]"
      ]
     },
     "metadata": {},
     "output_type": "display_data"
    }
   ],
   "source": [
    "# Extract the directions column as a list of lists of strings\n",
    "recipes = df['directions'].tolist()\n",
    "recipes = [eval(recipe) for recipe in tqdm(recipes)]"
   ]
  },
  {
   "cell_type": "code",
   "execution_count": 6,
   "metadata": {},
   "outputs": [
    {
     "data": {
      "application/vnd.jupyter.widget-view+json": {
       "model_id": "b04fc5d2a2394e60a94789fc872adb90",
       "version_major": 2,
       "version_minor": 0
      },
      "text/plain": [
       "  0%|          | 0/200000 [00:00<?, ?it/s]"
      ]
     },
     "metadata": {},
     "output_type": "display_data"
    }
   ],
   "source": [
    "recipe_sentences = [' '.join(recipe) for recipe in tqdm(recipes)]"
   ]
  },
  {
   "cell_type": "code",
   "execution_count": 7,
   "metadata": {},
   "outputs": [
    {
     "data": {
      "text/plain": [
       "['In a heavy 2-quart saucepan, mix brown sugar, nuts, evaporated milk and butter or margarine. Stir over medium heat until mixture bubbles all over top. Boil and stir 5 minutes more. Take off heat. Stir in vanilla and cereal; mix well. Using 2 teaspoons, drop and shape into 30 clusters on wax paper. Let stand until firm, about 30 minutes.',\n",
       " 'Place chipped beef on bottom of baking dish. Place chicken on top of beef. Mix soup and cream together; pour over chicken. Bake, uncovered, at 275° for 3 hours.',\n",
       " 'In a slow cooker, combine all ingredients. Cover and cook on low for 4 hours or until heated through and cheese is melted. Stir well before serving. Yields 6 servings.',\n",
       " 'Boil and debone chicken. Put bite size pieces in average size square casserole dish. Pour gravy and cream of mushroom soup over chicken; level. Make stuffing according to instructions on box (do not make too moist). Put stuffing on top of chicken and gravy; level. Sprinkle shredded cheese on top and bake at 350° for approximately 20 minutes or until golden and bubbly.',\n",
       " 'Combine first four ingredients and press in 13 x 9-inch ungreased pan. Melt chocolate chips and spread over mixture. Refrigerate for about 20 minutes and cut into pieces before chocolate gets hard. Keep in refrigerator.']"
      ]
     },
     "execution_count": 7,
     "metadata": {},
     "output_type": "execute_result"
    }
   ],
   "source": [
    "recipe_sentences[:5]"
   ]
  },
  {
   "cell_type": "code",
   "execution_count": 8,
   "metadata": {},
   "outputs": [
    {
     "data": {
      "text/plain": [
       "200000"
      ]
     },
     "metadata": {},
     "output_type": "display_data"
    },
    {
     "data": {
      "text/plain": [
       "175281"
      ]
     },
     "metadata": {},
     "output_type": "display_data"
    }
   ],
   "source": [
    "# Remove recipes that are less than 100 characters\n",
    "display(len(recipe_sentences))\n",
    "recipe_sentences_new = [recipe for recipe in recipe_sentences if len(recipe) > 100]\n",
    "display(len(recipe_sentences_new))"
   ]
  },
  {
   "cell_type": "code",
   "execution_count": null,
   "metadata": {},
   "outputs": [],
   "source": []
  },
  {
   "cell_type": "code",
   "execution_count": 11,
   "metadata": {},
   "outputs": [
    {
     "name": "stdout",
     "output_type": "stream",
     "text": [
      "Average length of the recipes: 239.0\n"
     ]
    }
   ],
   "source": [
    "# print the average length of the recipes\n",
    "print(f'Average length of the recipes: {np.median([len(recipe) for recipe in recipe_sentences_new])}')"
   ]
  },
  {
   "cell_type": "code",
   "execution_count": 9,
   "metadata": {},
   "outputs": [],
   "source": [
    "# get the first five recipes from df\n",
    "df_new = df.iloc[:5].copy()"
   ]
  },
  {
   "cell_type": "code",
   "execution_count": 10,
   "metadata": {},
   "outputs": [],
   "source": [
    "# drop the same recipes from the dataframe\n",
    "df = df[df['directions'].apply(lambda x: len(' '.join(eval(x)))) > 100]"
   ]
  },
  {
   "cell_type": "code",
   "execution_count": 11,
   "metadata": {},
   "outputs": [],
   "source": [
    "embedding_model = SentenceTransformer('bert-base-nli-mean-tokens', device='mps')"
   ]
  },
  {
   "cell_type": "code",
   "execution_count": 12,
   "metadata": {},
   "outputs": [],
   "source": [
    "# Check if embeddings_new.pkl exists\n",
    "if os.path.exists(f'{DATA_DIR}/embeddings_new.pkl'):\n",
    "    # Load the embeddings from the pickle file\n",
    "    with open(f'{DATA_DIR}/embeddings_new.pkl', 'rb') as f:\n",
    "        embeded_sentences_new = pickle.load(f)\n",
    "else:\n",
    "    #embeded_sentences = embedding_model.encode(recipes, show_progress_bar=True)\n",
    "    # Use multiprocessing to speed up the embedding\n",
    "    cpu_ratio = 0.8\n",
    "    cpu_count = ceil(os.cpu_count() * cpu_ratio)\n",
    "    print(f'Using {cpu_count} cores')\n",
    "    with Pool(cpu_count) as p:\n",
    "        embeded_sentences_new = list(tqdm(p.imap(embedding_model.encode, recipe_sentences_new), total=len(recipe_sentences_new)))\n",
    "    # Save the embeddings\n",
    "    with open(f'{DATA_DIR}/embeddings_new.pkl', 'wb') as f:\n",
    "        pickle.dump(embeded_sentences_new, f)"
   ]
  },
  {
   "cell_type": "code",
   "execution_count": 13,
   "metadata": {},
   "outputs": [],
   "source": [
    "# # Check if embeddings.pkl exists\n",
    "# if os.path.exists(f'{DATA_DIR}/embeddings.pkl'):\n",
    "#     # Load the embeddings from the pickle file\n",
    "#     with open(f'{DATA_DIR}/embeddings.pkl', 'rb') as f:\n",
    "#         embeded_sentences = pickle.load(f)\n",
    "# else:\n",
    "#     #embeded_sentences = embedding_model.encode(recipes, show_progress_bar=True)\n",
    "#     # Use multiprocessing to speed up the embedding\n",
    "#     cpu_ratio = 1.0\n",
    "#     cpu_count = ceil(os.cpu_count() * cpu_ratio)\n",
    "#     print(f'Using {cpu_count} cores')\n",
    "#     with Pool(cpu_count) as p:\n",
    "#         embeded_sentences = list(tqdm(p.imap(embedding_model.encode, recipe_sentences), total=len(recipe_sentences)))\n",
    "#     # Save the embeddings\n",
    "#     with open(f'{DATA_DIR}/embeddings.pkl', 'wb') as f:\n",
    "#         pickle.dump(embeded_sentences, f)"
   ]
  },
  {
   "cell_type": "code",
   "execution_count": 14,
   "metadata": {},
   "outputs": [],
   "source": [
    "# embeded_sentences = np.array(embeded_sentences)"
   ]
  },
  {
   "cell_type": "code",
   "execution_count": 15,
   "metadata": {},
   "outputs": [],
   "source": [
    "embeded_sentences_new = np.array(embeded_sentences_new)"
   ]
  },
  {
   "cell_type": "code",
   "execution_count": 16,
   "metadata": {},
   "outputs": [
    {
     "data": {
      "text/plain": [
       "7560"
      ]
     },
     "execution_count": 16,
     "metadata": {},
     "output_type": "execute_result"
    }
   ],
   "source": [
    "DATA_DIR = 'dataset'\n",
    "\n",
    "grid = {\n",
    "    'n_neighbors': [5, 10, 15, 20, 25, 50, 100, 250, 500, 1000],\n",
    "    'min_dist': [0.0, 0.05, 0.1],\n",
    "    'min_cluster_size': [5, 10, 25, 50, 100, 250, 500, 1000],\n",
    "    'min_samples': [5, 10, 25, 50, 100, 250, 500, 1000],\n",
    "    'n_components': [2, 3, 5, 10, 20, 50, 100]\n",
    "}\n",
    "\n",
    "\n",
    "# # Use grid search to find the best parameters\n",
    "file_to_save_first_half = f'{DATA_DIR}/grid_search_results_first_half.pkl'\n",
    "file_to_save_second_half = f'{DATA_DIR}/grid_search_results_second_half.pkl'\n",
    "\n",
    "search_grid = ParameterGrid(grid)\n",
    "\n",
    "# Drop combinations that that have min_samples > min_cluster_size\n",
    "search_grid = [params for params in search_grid if params['min_samples'] <= params['min_cluster_size']]\n",
    "len(search_grid)"
   ]
  },
  {
   "cell_type": "code",
   "execution_count": 17,
   "metadata": {},
   "outputs": [],
   "source": [
    "first_half = ceil(len(search_grid) / 2)"
   ]
  },
  {
   "cell_type": "code",
   "execution_count": 18,
   "metadata": {},
   "outputs": [
    {
     "data": {
      "text/plain": [
       "7560"
      ]
     },
     "execution_count": 18,
     "metadata": {},
     "output_type": "execute_result"
    }
   ],
   "source": [
    "len(search_grid[:first_half] + search_grid[first_half:])"
   ]
  },
  {
   "cell_type": "code",
   "execution_count": 19,
   "metadata": {},
   "outputs": [],
   "source": [
    "# # Use multiprocessing to speed up the grid search\n",
    "# # Write the results to a file\n",
    "# cpu_ratio = 1\n",
    "# cpu_count = ceil(os.cpu_count() * cpu_ratio)\n",
    "# print(f'Using {cpu_count} cores')\n",
    "# fn = partial(apply_bert_topic, embeded_sentences=embeded_sentences, recipe_sentences=recipe_sentences)\n",
    "# # First do the first half of the grid search\n",
    "# with Pool(cpu_count) as p:\n",
    "#     results = p.map(fn, search_grid[:first_half])\n",
    "# # Save the results\n",
    "# with open(file_to_save_first_half, 'wb') as f:\n",
    "#     pickle.dump(results, f)"
   ]
  },
  {
   "cell_type": "code",
   "execution_count": 20,
   "metadata": {},
   "outputs": [],
   "source": [
    "# # Now do the second half of the grid search\n",
    "# with Pool(cpu_count) as p:\n",
    "#     results = p.map(fn, search_grid[first_half:])\n",
    "# # Save the results\n",
    "# with open(file_to_save_second_half, 'wb') as f:\n",
    "#     pickle.dump(results, f)"
   ]
  },
  {
   "cell_type": "code",
   "execution_count": 16,
   "metadata": {},
   "outputs": [
    {
     "name": "stderr",
     "output_type": "stream",
     "text": [
      "/Users/aybarsyazici/Documents/GenAI/venv/lib/python3.11/site-packages/pynndescent/pynndescent_.py:346: NumbaPendingDeprecationWarning: Code using Numba extension API maybe depending on 'old_style' error-capturing, which is deprecated and will be replaced by 'new_style' in a future release. See details at https://numba.readthedocs.io/en/latest/reference/deprecation.html#deprecation-of-old-style-numba-captured-errors\n",
      "Exception origin:\n",
      "  File \"/Users/aybarsyazici/Documents/GenAI/venv/lib/python3.11/site-packages/numba/core/types/functions.py\", line 486, in __getnewargs__\n",
      "    raise ReferenceError(\"underlying object has vanished\")\n",
      "\n",
      "  init_rp_tree(data, dist, current_graph, leaf_array)\n",
      "/Users/aybarsyazici/Documents/GenAI/venv/lib/python3.11/site-packages/pynndescent/pynndescent_.py:348: NumbaPendingDeprecationWarning: Code using Numba extension API maybe depending on 'old_style' error-capturing, which is deprecated and will be replaced by 'new_style' in a future release. See details at https://numba.readthedocs.io/en/latest/reference/deprecation.html#deprecation-of-old-style-numba-captured-errors\n",
      "Exception origin:\n",
      "  File \"/Users/aybarsyazici/Documents/GenAI/venv/lib/python3.11/site-packages/numba/core/types/functions.py\", line 486, in __getnewargs__\n",
      "    raise ReferenceError(\"underlying object has vanished\")\n",
      "\n",
      "  init_random(n_neighbors, data, current_graph, dist, rng_state)\n",
      "/Users/aybarsyazici/Documents/GenAI/venv/lib/python3.11/site-packages/pynndescent/pynndescent_.py:358: NumbaPendingDeprecationWarning: Code using Numba extension API maybe depending on 'old_style' error-capturing, which is deprecated and will be replaced by 'new_style' in a future release. See details at https://numba.readthedocs.io/en/latest/reference/deprecation.html#deprecation-of-old-style-numba-captured-errors\n",
      "Exception origin:\n",
      "  File \"/Users/aybarsyazici/Documents/GenAI/venv/lib/python3.11/site-packages/numba/core/types/functions.py\", line 486, in __getnewargs__\n",
      "    raise ReferenceError(\"underlying object has vanished\")\n",
      "\n",
      "  nn_descent_internal_low_memory_parallel(\n",
      "2023-10-12 17:14:34,810 - BERTopic - Reduced dimensionality\n",
      "2023-10-12 17:14:39,246 - BERTopic - Clustered reduced embeddings\n"
     ]
    },
    {
     "data": {
      "text/html": [
       "<div>\n",
       "<style scoped>\n",
       "    .dataframe tbody tr th:only-of-type {\n",
       "        vertical-align: middle;\n",
       "    }\n",
       "\n",
       "    .dataframe tbody tr th {\n",
       "        vertical-align: top;\n",
       "    }\n",
       "\n",
       "    .dataframe thead th {\n",
       "        text-align: right;\n",
       "    }\n",
       "</style>\n",
       "<table border=\"1\" class=\"dataframe\">\n",
       "  <thead>\n",
       "    <tr style=\"text-align: right;\">\n",
       "      <th></th>\n",
       "      <th>Topic</th>\n",
       "      <th>Count</th>\n",
       "    </tr>\n",
       "  </thead>\n",
       "  <tbody>\n",
       "    <tr>\n",
       "      <th>3</th>\n",
       "      <td>0</td>\n",
       "      <td>64559</td>\n",
       "    </tr>\n",
       "    <tr>\n",
       "      <th>0</th>\n",
       "      <td>-1</td>\n",
       "      <td>44699</td>\n",
       "    </tr>\n",
       "    <tr>\n",
       "      <th>2</th>\n",
       "      <td>1</td>\n",
       "      <td>11764</td>\n",
       "    </tr>\n",
       "    <tr>\n",
       "      <th>5</th>\n",
       "      <td>2</td>\n",
       "      <td>4521</td>\n",
       "    </tr>\n",
       "    <tr>\n",
       "      <th>15</th>\n",
       "      <td>3</td>\n",
       "      <td>4363</td>\n",
       "    </tr>\n",
       "    <tr>\n",
       "      <th>...</th>\n",
       "      <td>...</td>\n",
       "      <td>...</td>\n",
       "    </tr>\n",
       "    <tr>\n",
       "      <th>87</th>\n",
       "      <td>118</td>\n",
       "      <td>86</td>\n",
       "    </tr>\n",
       "    <tr>\n",
       "      <th>61</th>\n",
       "      <td>119</td>\n",
       "      <td>85</td>\n",
       "    </tr>\n",
       "    <tr>\n",
       "      <th>68</th>\n",
       "      <td>120</td>\n",
       "      <td>82</td>\n",
       "    </tr>\n",
       "    <tr>\n",
       "      <th>108</th>\n",
       "      <td>121</td>\n",
       "      <td>81</td>\n",
       "    </tr>\n",
       "    <tr>\n",
       "      <th>122</th>\n",
       "      <td>122</td>\n",
       "      <td>81</td>\n",
       "    </tr>\n",
       "  </tbody>\n",
       "</table>\n",
       "<p>124 rows × 2 columns</p>\n",
       "</div>"
      ],
      "text/plain": [
       "     Topic  Count\n",
       "3        0  64559\n",
       "0       -1  44699\n",
       "2        1  11764\n",
       "5        2   4521\n",
       "15       3   4363\n",
       "..     ...    ...\n",
       "87     118     86\n",
       "61     119     85\n",
       "68     120     82\n",
       "108    121     81\n",
       "122    122     81\n",
       "\n",
       "[124 rows x 2 columns]"
      ]
     },
     "metadata": {},
     "output_type": "display_data"
    }
   ],
   "source": [
    "from umap import UMAP\n",
    "from hdbscan import HDBSCAN\n",
    "from sklearn.feature_extraction.text import TfidfVectorizer\n",
    "\n",
    "umap = UMAP(n_neighbors=30, n_components=2, min_dist=0, metric='cosine', low_memory=False)\n",
    "hdbscan = HDBSCAN(min_cluster_size=80, min_samples=10, metric='euclidean', cluster_selection_method='eom', leaf_size=20)\n",
    "vectorizer = TfidfVectorizer(stop_words='english', lowercase=True)\n",
    "# Create the model\n",
    "model = BERTopic(\n",
    "    language=\"english\",\n",
    "    top_n_words=10,\n",
    "    umap_model=umap,\n",
    "    embedding_model=embedding_model,\n",
    "    hdbscan_model=hdbscan,\n",
    "    vectorizer_model=vectorizer,\n",
    "    verbose=True,\n",
    "    low_memory=False\n",
    ")\n",
    "\n",
    "# Use preembedded sentences\n",
    "topics, probs = model.fit_transform(documents=recipe_sentences_new, embeddings=embeded_sentences_new)\n",
    "\n",
    "display(model.get_topic_freq())"
   ]
  },
  {
   "cell_type": "code",
   "execution_count": 17,
   "metadata": {},
   "outputs": [
    {
     "data": {
      "text/plain": [
       "<Axes: ylabel='$\\\\lambda$ value'>"
      ]
     },
     "execution_count": 17,
     "metadata": {},
     "output_type": "execute_result"
    },
    {
     "data": {
      "image/png": "[encoded data removed]",
      "text/plain": [
       "<Figure size 640x480 with 2 Axes>"
      ]
     },
     "metadata": {},
     "output_type": "display_data"
    }
   ],
   "source": [
    "# import sns.color_palette()\n",
    "import seaborn as sns\n",
    "\n",
    "hdbscan.condensed_tree_.plot(select_clusters=True, selection_palette=sns.color_palette())"
   ]
  },
  {
   "cell_type": "code",
   "execution_count": 18,
   "metadata": {},
   "outputs": [
    {
     "data": {
      "application/vnd.plotly.v1+json": {
       "config": {
        "plotlyServerURL": "https://plot.ly"
       },
       "data": [
        {
         "marker": {
          "color": "#D55E00"
         },
         "orientation": "h",
         "type": "bar",
         "x": [
          0.028540391950257614,
          0.029719367165212,
          0.03478361870800097,
          0.037648455672483545,
          0.042731391815343064
         ],
         "xaxis": "x",
         "y": [
          "beef  ",
          "pepper  ",
          "onions  ",
          "meat  ",
          "onion  "
         ],
         "yaxis": "y"
        },
        {
         "marker": {
          "color": "#0072B2"
         },
         "orientation": "h",
         "type": "bar",
         "x": [
          0.025597244925495508,
          0.03019465812785989,
          0.03976567303117762,
          0.04557037654096587,
          0.22087834169778245
         ],
         "xaxis": "x2",
         "y": [
          "onion  ",
          "breasts  ",
          "soup  ",
          "broth  ",
          "chicken  "
         ],
         "yaxis": "y2"
        },
        {
         "marker": {
          "color": "#CC79A7"
         },
         "orientation": "h",
         "type": "bar",
         "x": [
          0.02754598605849317,
          0.028545151171884126,
          0.030567850447108986,
          0.03398406447526508,
          0.04291666675199076
         ],
         "xaxis": "x3",
         "y": [
          "juice  ",
          "dissolve  ",
          "jell  ",
          "pineapple  ",
          "jello  "
         ],
         "yaxis": "y3"
        },
        {
         "marker": {
          "color": "#E69F00"
         },
         "orientation": "h",
         "type": "bar",
         "x": [
          0.019237623113884328,
          0.020401811809269796,
          0.026350920699428036,
          0.027213084725431456,
          0.033533462143932526
         ],
         "xaxis": "x4",
         "y": [
          "apart  ",
          "dozen  ",
          "cookies  ",
          "sheet  ",
          "cookie  "
         ],
         "yaxis": "y4"
        },
        {
         "marker": {
          "color": "#56B4E9"
         },
         "orientation": "h",
         "type": "bar",
         "x": [
          0.0199469534201736,
          0.020269428126017817,
          0.02158352045982661,
          0.022682301318664003,
          0.023790853805504532
         ],
         "xaxis": "x5",
         "y": [
          "casserole  ",
          "45  ",
          "bake  ",
          "ingredients  ",
          "350  "
         ],
         "yaxis": "y5"
        },
        {
         "marker": {
          "color": "#009E73"
         },
         "orientation": "h",
         "type": "bar",
         "x": [
          0.01848755786692562,
          0.02711884749101666,
          0.02767874830170079,
          0.04233209580914463,
          0.045396046261367534
         ],
         "xaxis": "x6",
         "y": [
          "warm  ",
          "dough  ",
          "knead  ",
          "rise  ",
          "yeast  "
         ],
         "yaxis": "y6"
        },
        {
         "marker": {
          "color": "#F0E442"
         },
         "orientation": "h",
         "type": "bar",
         "x": [
          0.01768072740171123,
          0.02342180909897883,
          0.032177310624177544,
          0.04986881185794239,
          0.12443962743294436
         ],
         "xaxis": "x7",
         "y": [
          "tender  ",
          "cinnamon  ",
          "core  ",
          "apple  ",
          "apples  "
         ],
         "yaxis": "y7"
        },
        {
         "marker": {
          "color": "#D55E00"
         },
         "orientation": "h",
         "type": "bar",
         "x": [
          0.030444250562193423,
          0.03159121763187785,
          0.031885131212073994,
          0.038533872105023716,
          0.0737842539189132
         ],
         "xaxis": "x8",
         "y": [
          "pudding  ",
          "directed  ",
          "directions  ",
          "holes  ",
          "cake  "
         ],
         "yaxis": "y8"
        },
        {
         "marker": {
          "color": "#0072B2"
         },
         "orientation": "h",
         "type": "bar",
         "x": [
          0.018712175145574963,
          0.02062367765217822,
          0.03715337337611287,
          0.03964917256372367,
          0.044888006407996076
         ],
         "xaxis": "x9",
         "y": [
          "40  ",
          "eggs  ",
          "shell  ",
          "pie  ",
          "unbaked  "
         ],
         "yaxis": "y9"
        },
        {
         "marker": {
          "color": "#CC79A7"
         },
         "orientation": "h",
         "type": "bar",
         "x": [
          0.024972678216962564,
          0.028600470602683486,
          0.02934357977719411,
          0.03690208724603392,
          0.25466088294248135
         ],
         "xaxis": "x10",
         "y": [
          "cheese  ",
          "drain  ",
          "mustard  ",
          "bread  ",
          "sausage  "
         ],
         "yaxis": "y10"
        },
        {
         "marker": {
          "color": "#E69F00"
         },
         "orientation": "h",
         "type": "bar",
         "x": [
          0.013014627133100328,
          0.013262564893756216,
          0.0142289386395314,
          0.01498054484706998,
          0.015293809937699483
         ],
         "xaxis": "x11",
         "y": [
          "30  ",
          "350  ",
          "pumpkin  ",
          "eggs  ",
          "cake  "
         ],
         "yaxis": "y11"
        },
        {
         "marker": {
          "color": "#56B4E9"
         },
         "orientation": "h",
         "type": "bar",
         "x": [
          0.020676489422402973,
          0.03134141867595829,
          0.03369744092644257,
          0.033950376014553856,
          0.06523719855040985
         ],
         "xaxis": "x12",
         "y": [
          "soda  ",
          "banana  ",
          "mashed  ",
          "loaf  ",
          "bananas  "
         ],
         "yaxis": "y12"
        }
       ],
       "layout": {
        "annotations": [
         {
          "font": {
           "size": 16
          },
          "showarrow": false,
          "text": "Topic 0",
          "x": 0.0875,
          "xanchor": "center",
          "xref": "paper",
          "y": 1,
          "yanchor": "bottom",
          "yref": "paper"
         },
         {
          "font": {
           "size": 16
          },
          "showarrow": false,
          "text": "Topic 1",
          "x": 0.36250000000000004,
          "xanchor": "center",
          "xref": "paper",
          "y": 1,
          "yanchor": "bottom",
          "yref": "paper"
         },
         {
          "font": {
           "size": 16
          },
          "showarrow": false,
          "text": "Topic 2",
          "x": 0.6375000000000001,
          "xanchor": "center",
          "xref": "paper",
          "y": 1,
          "yanchor": "bottom",
          "yref": "paper"
         },
         {
          "font": {
           "size": 16
          },
          "showarrow": false,
          "text": "Topic 3",
          "x": 0.9125,
          "xanchor": "center",
          "xref": "paper",
          "y": 1,
          "yanchor": "bottom",
          "yref": "paper"
         },
         {
          "font": {
           "size": 16
          },
          "showarrow": false,
          "text": "Topic 4",
          "x": 0.0875,
          "xanchor": "center",
          "xref": "paper",
          "y": 0.6222222222222222,
          "yanchor": "bottom",
          "yref": "paper"
         },
         {
          "font": {
           "size": 16
          },
          "showarrow": false,
          "text": "Topic 5",
          "x": 0.36250000000000004,
          "xanchor": "center",
          "xref": "paper",
          "y": 0.6222222222222222,
          "yanchor": "bottom",
          "yref": "paper"
         },
         {
          "font": {
           "size": 16
          },
          "showarrow": false,
          "text": "Topic 6",
          "x": 0.6375000000000001,
          "xanchor": "center",
          "xref": "paper",
          "y": 0.6222222222222222,
          "yanchor": "bottom",
          "yref": "paper"
         },
         {
          "font": {
           "size": 16
          },
          "showarrow": false,
          "text": "Topic 7",
          "x": 0.9125,
          "xanchor": "center",
          "xref": "paper",
          "y": 0.6222222222222222,
          "yanchor": "bottom",
          "yref": "paper"
         },
         {
          "font": {
           "size": 16
          },
          "showarrow": false,
          "text": "Topic 8",
          "x": 0.0875,
          "xanchor": "center",
          "xref": "paper",
          "y": 0.24444444444444446,
          "yanchor": "bottom",
          "yref": "paper"
         },
         {
          "font": {
           "size": 16
          },
          "showarrow": false,
          "text": "Topic 9",
          "x": 0.36250000000000004,
          "xanchor": "center",
          "xref": "paper",
          "y": 0.24444444444444446,
          "yanchor": "bottom",
          "yref": "paper"
         },
         {
          "font": {
           "size": 16
          },
          "showarrow": false,
          "text": "Topic 10",
          "x": 0.6375000000000001,
          "xanchor": "center",
          "xref": "paper",
          "y": 0.24444444444444446,
          "yanchor": "bottom",
          "yref": "paper"
         },
         {
          "font": {
           "size": 16
          },
          "showarrow": false,
          "text": "Topic 11",
          "x": 0.9125,
          "xanchor": "center",
          "xref": "paper",
          "y": 0.24444444444444446,
          "yanchor": "bottom",
          "yref": "paper"
         }
        ],
        "height": 750,
        "hoverlabel": {
         "bgcolor": "white",
         "font": {
          "family": "Rockwell",
          "size": 16
         }
        },
        "showlegend": false,
        "template": {
         "data": {
          "bar": [
           {
            "error_x": {
             "color": "#2a3f5f"
            },
            "error_y": {
             "color": "#2a3f5f"
            },
            "marker": {
             "line": {
              "color": "white",
              "width": 0.5
             },
             "pattern": {
              "fillmode": "overlay",
              "size": 10,
              "solidity": 0.2
             }
            },
            "type": "bar"
           }
          ],
          "barpolar": [
           {
            "marker": {
             "line": {
              "color": "white",
              "width": 0.5
             },
             "pattern": {
              "fillmode": "overlay",
              "size": 10,
              "solidity": 0.2
             }
            },
            "type": "barpolar"
           }
          ],
          "carpet": [
           {
            "aaxis": {
             "endlinecolor": "#2a3f5f",
             "gridcolor": "#C8D4E3",
             "linecolor": "#C8D4E3",
             "minorgridcolor": "#C8D4E3",
             "startlinecolor": "#2a3f5f"
            },
            "baxis": {
             "endlinecolor": "#2a3f5f",
             "gridcolor": "#C8D4E3",
             "linecolor": "#C8D4E3",
             "minorgridcolor": "#C8D4E3",
             "startlinecolor": "#2a3f5f"
            },
            "type": "carpet"
           }
          ],
          "choropleth": [
           {
            "colorbar": {
             "outlinewidth": 0,
             "ticks": ""
            },
            "type": "choropleth"
           }
          ],
          "contour": [
           {
            "colorbar": {
             "outlinewidth": 0,
             "ticks": ""
            },
            "colorscale": [
             [
              0,
              "#0d0887"
             ],
             [
              0.1111111111111111,
              "#46039f"
             ],
             [
              0.2222222222222222,
              "#7201a8"
             ],
             [
              0.3333333333333333,
              "#9c179e"
             ],
             [
              0.4444444444444444,
              "#bd3786"
             ],
             [
              0.5555555555555556,
              "#d8576b"
             ],
             [
              0.6666666666666666,
              "#ed7953"
             ],
             [
              0.7777777777777778,
              "#fb9f3a"
             ],
             [
              0.8888888888888888,
              "#fdca26"
             ],
             [
              1,
              "#f0f921"
             ]
            ],
            "type": "contour"
           }
          ],
          "contourcarpet": [
           {
            "colorbar": {
             "outlinewidth": 0,
             "ticks": ""
            },
            "type": "contourcarpet"
           }
          ],
          "heatmap": [
           {
            "colorbar": {
             "outlinewidth": 0,
             "ticks": ""
            },
            "colorscale": [
             [
              0,
              "#0d0887"
             ],
             [
              0.1111111111111111,
              "#46039f"
             ],
             [
              0.2222222222222222,
              "#7201a8"
             ],
             [
              0.3333333333333333,
              "#9c179e"
             ],
             [
              0.4444444444444444,
              "#bd3786"
             ],
             [
              0.5555555555555556,
              "#d8576b"
             ],
             [
              0.6666666666666666,
              "#ed7953"
             ],
             [
              0.7777777777777778,
              "#fb9f3a"
             ],
             [
              0.8888888888888888,
              "#fdca26"
             ],
             [
              1,
              "#f0f921"
             ]
            ],
            "type": "heatmap"
           }
          ],
          "heatmapgl": [
           {
            "colorbar": {
             "outlinewidth": 0,
             "ticks": ""
            },
            "colorscale": [
             [
              0,
              "#0d0887"
             ],
             [
              0.1111111111111111,
              "#46039f"
             ],
             [
              0.2222222222222222,
              "#7201a8"
             ],
             [
              0.3333333333333333,
              "#9c179e"
             ],
             [
              0.4444444444444444,
              "#bd3786"
             ],
             [
              0.5555555555555556,
              "#d8576b"
             ],
             [
              0.6666666666666666,
              "#ed7953"
             ],
             [
              0.7777777777777778,
              "#fb9f3a"
             ],
             [
              0.8888888888888888,
              "#fdca26"
             ],
             [
              1,
              "#f0f921"
             ]
            ],
            "type": "heatmapgl"
           }
          ],
          "histogram": [
           {
            "marker": {
             "pattern": {
              "fillmode": "overlay",
              "size": 10,
              "solidity": 0.2
             }
            },
            "type": "histogram"
           }
          ],
          "histogram2d": [
           {
            "colorbar": {
             "outlinewidth": 0,
             "ticks": ""
            },
            "colorscale": [
             [
              0,
              "#0d0887"
             ],
             [
              0.1111111111111111,
              "#46039f"
             ],
             [
              0.2222222222222222,
              "#7201a8"
             ],
             [
              0.3333333333333333,
              "#9c179e"
             ],
             [
              0.4444444444444444,
              "#bd3786"
             ],
             [
              0.5555555555555556,
              "#d8576b"
             ],
             [
              0.6666666666666666,
              "#ed7953"
             ],
             [
              0.7777777777777778,
              "#fb9f3a"
             ],
             [
              0.8888888888888888,
              "#fdca26"
             ],
             [
              1,
              "#f0f921"
             ]
            ],
            "type": "histogram2d"
           }
          ],
          "histogram2dcontour": [
           {
            "colorbar": {
             "outlinewidth": 0,
             "ticks": ""
            },
            "colorscale": [
             [
              0,
              "#0d0887"
             ],
             [
              0.1111111111111111,
              "#46039f"
             ],
             [
              0.2222222222222222,
              "#7201a8"
             ],
             [
              0.3333333333333333,
              "#9c179e"
             ],
             [
              0.4444444444444444,
              "#bd3786"
             ],
             [
              0.5555555555555556,
              "#d8576b"
             ],
             [
              0.6666666666666666,
              "#ed7953"
             ],
             [
              0.7777777777777778,
              "#fb9f3a"
             ],
             [
              0.8888888888888888,
              "#fdca26"
             ],
             [
              1,
              "#f0f921"
             ]
            ],
            "type": "histogram2dcontour"
           }
          ],
          "mesh3d": [
           {
            "colorbar": {
             "outlinewidth": 0,
             "ticks": ""
            },
            "type": "mesh3d"
           }
          ],
          "parcoords": [
           {
            "line": {
             "colorbar": {
              "outlinewidth": 0,
              "ticks": ""
             }
            },
            "type": "parcoords"
           }
          ],
          "pie": [
           {
            "automargin": true,
            "type": "pie"
           }
          ],
          "scatter": [
           {
            "fillpattern": {
             "fillmode": "overlay",
             "size": 10,
             "solidity": 0.2
            },
            "type": "scatter"
           }
          ],
          "scatter3d": [
           {
            "line": {
             "colorbar": {
              "outlinewidth": 0,
              "ticks": ""
             }
            },
            "marker": {
             "colorbar": {
              "outlinewidth": 0,
              "ticks": ""
             }
            },
            "type": "scatter3d"
           }
          ],
          "scattercarpet": [
           {
            "marker": {
             "colorbar": {
              "outlinewidth": 0,
              "ticks": ""
             }
            },
            "type": "scattercarpet"
           }
          ],
          "scattergeo": [
           {
            "marker": {
             "colorbar": {
              "outlinewidth": 0,
              "ticks": ""
             }
            },
            "type": "scattergeo"
           }
          ],
          "scattergl": [
           {
            "marker": {
             "colorbar": {
              "outlinewidth": 0,
              "ticks": ""
             }
            },
            "type": "scattergl"
           }
          ],
          "scattermapbox": [
           {
            "marker": {
             "colorbar": {
              "outlinewidth": 0,
              "ticks": ""
             }
            },
            "type": "scattermapbox"
           }
          ],
          "scatterpolar": [
           {
            "marker": {
             "colorbar": {
              "outlinewidth": 0,
              "ticks": ""
             }
            },
            "type": "scatterpolar"
           }
          ],
          "scatterpolargl": [
           {
            "marker": {
             "colorbar": {
              "outlinewidth": 0,
              "ticks": ""
             }
            },
            "type": "scatterpolargl"
           }
          ],
          "scatterternary": [
           {
            "marker": {
             "colorbar": {
              "outlinewidth": 0,
              "ticks": ""
             }
            },
            "type": "scatterternary"
           }
          ],
          "surface": [
           {
            "colorbar": {
             "outlinewidth": 0,
             "ticks": ""
            },
            "colorscale": [
             [
              0,
              "#0d0887"
             ],
             [
              0.1111111111111111,
              "#46039f"
             ],
             [
              0.2222222222222222,
              "#7201a8"
             ],
             [
              0.3333333333333333,
              "#9c179e"
             ],
             [
              0.4444444444444444,
              "#bd3786"
             ],
             [
              0.5555555555555556,
              "#d8576b"
             ],
             [
              0.6666666666666666,
              "#ed7953"
             ],
             [
              0.7777777777777778,
              "#fb9f3a"
             ],
             [
              0.8888888888888888,
              "#fdca26"
             ],
             [
              1,
              "#f0f921"
             ]
            ],
            "type": "surface"
           }
          ],
          "table": [
           {
            "cells": {
             "fill": {
              "color": "#EBF0F8"
             },
             "line": {
              "color": "white"
             }
            },
            "header": {
             "fill": {
              "color": "#C8D4E3"
             },
             "line": {
              "color": "white"
             }
            },
            "type": "table"
           }
          ]
         },
         "layout": {
          "annotationdefaults": {
           "arrowcolor": "#2a3f5f",
           "arrowhead": 0,
           "arrowwidth": 1
          },
          "autotypenumbers": "strict",
          "coloraxis": {
           "colorbar": {
            "outlinewidth": 0,
            "ticks": ""
           }
          },
          "colorscale": {
           "diverging": [
            [
             0,
             "#8e0152"
            ],
            [
             0.1,
             "#c51b7d"
            ],
            [
             0.2,
             "#de77ae"
            ],
            [
             0.3,
             "#f1b6da"
            ],
            [
             0.4,
             "#fde0ef"
            ],
            [
             0.5,
             "#f7f7f7"
            ],
            [
             0.6,
             "#e6f5d0"
            ],
            [
             0.7,
             "#b8e186"
            ],
            [
             0.8,
             "#7fbc41"
            ],
            [
             0.9,
             "#4d9221"
            ],
            [
             1,
             "#276419"
            ]
           ],
           "sequential": [
            [
             0,
             "#0d0887"
            ],
            [
             0.1111111111111111,
             "#46039f"
            ],
            [
             0.2222222222222222,
             "#7201a8"
            ],
            [
             0.3333333333333333,
             "#9c179e"
            ],
            [
             0.4444444444444444,
             "#bd3786"
            ],
            [
             0.5555555555555556,
             "#d8576b"
            ],
            [
             0.6666666666666666,
             "#ed7953"
            ],
            [
             0.7777777777777778,
             "#fb9f3a"
            ],
            [
             0.8888888888888888,
             "#fdca26"
            ],
            [
             1,
             "#f0f921"
            ]
           ],
           "sequentialminus": [
            [
             0,
             "#0d0887"
            ],
            [
             0.1111111111111111,
             "#46039f"
            ],
            [
             0.2222222222222222,
             "#7201a8"
            ],
            [
             0.3333333333333333,
             "#9c179e"
            ],
            [
             0.4444444444444444,
             "#bd3786"
            ],
            [
             0.5555555555555556,
             "#d8576b"
            ],
            [
             0.6666666666666666,
             "#ed7953"
            ],
            [
             0.7777777777777778,
             "#fb9f3a"
            ],
            [
             0.8888888888888888,
             "#fdca26"
            ],
            [
             1,
             "#f0f921"
            ]
           ]
          },
          "colorway": [
           "#636efa",
           "#EF553B",
           "#00cc96",
           "#ab63fa",
           "#FFA15A",
           "#19d3f3",
           "#FF6692",
           "#B6E880",
           "#FF97FF",
           "#FECB52"
          ],
          "font": {
           "color": "#2a3f5f"
          },
          "geo": {
           "bgcolor": "white",
           "lakecolor": "white",
           "landcolor": "white",
           "showlakes": true,
           "showland": true,
           "subunitcolor": "#C8D4E3"
          },
          "hoverlabel": {
           "align": "left"
          },
          "hovermode": "closest",
          "mapbox": {
           "style": "light"
          },
          "paper_bgcolor": "white",
          "plot_bgcolor": "white",
          "polar": {
           "angularaxis": {
            "gridcolor": "#EBF0F8",
            "linecolor": "#EBF0F8",
            "ticks": ""
           },
           "bgcolor": "white",
           "radialaxis": {
            "gridcolor": "#EBF0F8",
            "linecolor": "#EBF0F8",
            "ticks": ""
           }
          },
          "scene": {
           "xaxis": {
            "backgroundcolor": "white",
            "gridcolor": "#DFE8F3",
            "gridwidth": 2,
            "linecolor": "#EBF0F8",
            "showbackground": true,
            "ticks": "",
            "zerolinecolor": "#EBF0F8"
           },
           "yaxis": {
            "backgroundcolor": "white",
            "gridcolor": "#DFE8F3",
            "gridwidth": 2,
            "linecolor": "#EBF0F8",
            "showbackground": true,
            "ticks": "",
            "zerolinecolor": "#EBF0F8"
           },
           "zaxis": {
            "backgroundcolor": "white",
            "gridcolor": "#DFE8F3",
            "gridwidth": 2,
            "linecolor": "#EBF0F8",
            "showbackground": true,
            "ticks": "",
            "zerolinecolor": "#EBF0F8"
           }
          },
          "shapedefaults": {
           "line": {
            "color": "#2a3f5f"
           }
          },
          "ternary": {
           "aaxis": {
            "gridcolor": "#DFE8F3",
            "linecolor": "#A2B1C6",
            "ticks": ""
           },
           "baxis": {
            "gridcolor": "#DFE8F3",
            "linecolor": "#A2B1C6",
            "ticks": ""
           },
           "bgcolor": "white",
           "caxis": {
            "gridcolor": "#DFE8F3",
            "linecolor": "#A2B1C6",
            "ticks": ""
           }
          },
          "title": {
           "x": 0.05
          },
          "xaxis": {
           "automargin": true,
           "gridcolor": "#EBF0F8",
           "linecolor": "#EBF0F8",
           "ticks": "",
           "title": {
            "standoff": 15
           },
           "zerolinecolor": "#EBF0F8",
           "zerolinewidth": 2
          },
          "yaxis": {
           "automargin": true,
           "gridcolor": "#EBF0F8",
           "linecolor": "#EBF0F8",
           "ticks": "",
           "title": {
            "standoff": 15
           },
           "zerolinecolor": "#EBF0F8",
           "zerolinewidth": 2
          }
         }
        },
        "title": {
         "font": {
          "color": "Black",
          "size": 22
         },
         "text": "Topic Word Scores",
         "x": 0.5,
         "xanchor": "center",
         "yanchor": "top"
        },
        "width": 1000,
        "xaxis": {
         "anchor": "y",
         "domain": [
          0,
          0.175
         ],
         "showgrid": true
        },
        "xaxis10": {
         "anchor": "y10",
         "domain": [
          0.275,
          0.45
         ],
         "showgrid": true
        },
        "xaxis11": {
         "anchor": "y11",
         "domain": [
          0.55,
          0.7250000000000001
         ],
         "showgrid": true
        },
        "xaxis12": {
         "anchor": "y12",
         "domain": [
          0.825,
          1
         ],
         "showgrid": true
        },
        "xaxis2": {
         "anchor": "y2",
         "domain": [
          0.275,
          0.45
         ],
         "showgrid": true
        },
        "xaxis3": {
         "anchor": "y3",
         "domain": [
          0.55,
          0.7250000000000001
         ],
         "showgrid": true
        },
        "xaxis4": {
         "anchor": "y4",
         "domain": [
          0.825,
          1
         ],
         "showgrid": true
        },
        "xaxis5": {
         "anchor": "y5",
         "domain": [
          0,
          0.175
         ],
         "showgrid": true
        },
        "xaxis6": {
         "anchor": "y6",
         "domain": [
          0.275,
          0.45
         ],
         "showgrid": true
        },
        "xaxis7": {
         "anchor": "y7",
         "domain": [
          0.55,
          0.7250000000000001
         ],
         "showgrid": true
        },
        "xaxis8": {
         "anchor": "y8",
         "domain": [
          0.825,
          1
         ],
         "showgrid": true
        },
        "xaxis9": {
         "anchor": "y9",
         "domain": [
          0,
          0.175
         ],
         "showgrid": true
        },
        "yaxis": {
         "anchor": "x",
         "domain": [
          0.7555555555555555,
          1
         ],
         "showgrid": true
        },
        "yaxis10": {
         "anchor": "x10",
         "domain": [
          0,
          0.24444444444444446
         ],
         "showgrid": true
        },
        "yaxis11": {
         "anchor": "x11",
         "domain": [
          0,
          0.24444444444444446
         ],
         "showgrid": true
        },
        "yaxis12": {
         "anchor": "x12",
         "domain": [
          0,
          0.24444444444444446
         ],
         "showgrid": true
        },
        "yaxis2": {
         "anchor": "x2",
         "domain": [
          0.7555555555555555,
          1
         ],
         "showgrid": true
        },
        "yaxis3": {
         "anchor": "x3",
         "domain": [
          0.7555555555555555,
          1
         ],
         "showgrid": true
        },
        "yaxis4": {
         "anchor": "x4",
         "domain": [
          0.7555555555555555,
          1
         ],
         "showgrid": true
        },
        "yaxis5": {
         "anchor": "x5",
         "domain": [
          0.37777777777777777,
          0.6222222222222222
         ],
         "showgrid": true
        },
        "yaxis6": {
         "anchor": "x6",
         "domain": [
          0.37777777777777777,
          0.6222222222222222
         ],
         "showgrid": true
        },
        "yaxis7": {
         "anchor": "x7",
         "domain": [
          0.37777777777777777,
          0.6222222222222222
         ],
         "showgrid": true
        },
        "yaxis8": {
         "anchor": "x8",
         "domain": [
          0.37777777777777777,
          0.6222222222222222
         ],
         "showgrid": true
        },
        "yaxis9": {
         "anchor": "x9",
         "domain": [
          0,
          0.24444444444444446
         ],
         "showgrid": true
        }
       }
      }
     },
     "metadata": {},
     "output_type": "display_data"
    }
   ],
   "source": [
    "model.visualize_barchart(top_n_topics=12)"
   ]
  },
  {
   "cell_type": "code",
   "execution_count": 19,
   "metadata": {},
   "outputs": [],
   "source": [
    "# import plotly.express as px\n",
    "\n",
    "# u = UMAP(n_neighbors=15, n_components=3, min_dist=0, metric='cosine').fit_transform(embeded_sentences_new)\n",
    "\n",
    "# fig = px.scatter_3d(x=u[:,0], y=u[:,1], z=u[:,2], color=topics, opacity=0.5, custom_data=[df['title']])\n",
    "\n",
    "# fig.update_traces(\n",
    "#     hovertemplate=\"<br>\".join([\n",
    "#         \"Topic: %{marker.color}\",\n",
    "#         \"Title: %{customdata[0]}\"\n",
    "#     ])\n",
    "# )"
   ]
  },
  {
   "cell_type": "code",
   "execution_count": 20,
   "metadata": {},
   "outputs": [],
   "source": [
    "# import plotly.express as px\n",
    "\n",
    "# u = UMAP(n_neighbors=15, n_components=3, min_dist=0.5, metric='cosine').fit_transform(embeded_sentences_new)\n",
    "\n",
    "# fig = px.scatter_3d(x=u[:,0], y=u[:,1], z=u[:,2], color=topics, opacity=0.5, custom_data=[df['title']])\n",
    "\n",
    "# fig.update_traces(\n",
    "#     hovertemplate=\"<br>\".join([\n",
    "#         \"Topic: %{marker.color}\",\n",
    "#         \"Title: %{customdata[0]}\"\n",
    "#     ])\n",
    "# )"
   ]
  },
  {
   "cell_type": "code",
   "execution_count": 21,
   "metadata": {},
   "outputs": [],
   "source": [
    "# # Do the same but in 2D\n",
    "# u = UMAP(n_neighbors=15, n_components=2, min_dist=0.5, metric='cosine').fit_transform(embeded_sentences_new)\n",
    "\n",
    "# fig = px.scatter(x=u[:,0], y=u[:,1], color=topics, opacity=0.5, custom_data=[df['title']])\n",
    "\n",
    "# fig.update_traces(\n",
    "#     hovertemplate=\"<br>\".join([\n",
    "#         \"Topic: %{marker.color}\",\n",
    "#         \"Title: %{customdata[0]}\"\n",
    "#     ])\n",
    "# )"
   ]
  },
  {
   "cell_type": "code",
   "execution_count": 22,
   "metadata": {},
   "outputs": [],
   "source": [
    "# # Do the same but in 2D\n",
    "# u = UMAP(n_neighbors=30, n_components=2, min_dist=0, metric='cosine').fit_transform(embeded_sentences_new)\n",
    "\n",
    "# fig = px.scatter(x=u[:,0], y=u[:,1], color=topics, opacity=0.5, custom_data=[df['title']])\n",
    "\n",
    "# fig.update_traces(\n",
    "#     hovertemplate=\"<br>\".join([\n",
    "#         \"Topic: %{marker.color}\",\n",
    "#         \"Title: %{customdata[0]}\"\n",
    "#     ])\n",
    "# )"
   ]
  },
  {
   "cell_type": "code",
   "execution_count": 23,
   "metadata": {},
   "outputs": [],
   "source": [
    "# # Do the same but in 2D\n",
    "# u = UMAP(n_neighbors=30, n_components=2, min_dist=0.5, metric='cosine').fit_transform(embeded_sentences_new)\n",
    "\n",
    "# fig = px.scatter(x=u[:,0], y=u[:,1], color=topics, opacity=0.5, custom_data=[df['title']])\n",
    "\n",
    "# fig.update_traces(\n",
    "#     hovertemplate=\"<br>\".join([\n",
    "#         \"Topic: %{marker.color}\",\n",
    "#         \"Title: %{customdata[0]}\"\n",
    "#     ])\n",
    "# )"
   ]
  },
  {
   "cell_type": "code",
   "execution_count": 24,
   "metadata": {},
   "outputs": [],
   "source": [
    "# import plotly.express as px\n",
    "\n",
    "# u = UMAP(n_neighbors=30, n_components=3, min_dist=0, metric='cosine').fit_transform(embeded_sentences_new)\n",
    "\n",
    "# fig = px.scatter_3d(x=u[:,0], y=u[:,1], z=u[:,2], color=topics, opacity=0.5, custom_data=[df['title']])\n",
    "\n",
    "# fig.update_traces(\n",
    "#     hovertemplate=\"<br>\".join([\n",
    "#         \"Topic: %{marker.color}\",\n",
    "#         \"Title: %{customdata[0]}\"\n",
    "#     ])\n",
    "# )"
   ]
  },
  {
   "cell_type": "code",
   "execution_count": 25,
   "metadata": {},
   "outputs": [],
   "source": [
    "# add the topics to the dataframe\n",
    "df['topic'] = topics"
   ]
  },
  {
   "cell_type": "code",
   "execution_count": 26,
   "metadata": {},
   "outputs": [
    {
     "name": "stdout",
     "output_type": "stream",
     "text": [
      "Topic 0:\n"
     ]
    },
    {
     "data": {
      "text/plain": [
       "['[\"Fry bacon in a large stew pot.\", \"Remove bacon.\", \"Add stew meat and sear.\", \"Lower heat and add tomatoes, beef broth, water, celery, onion, garlic, Worcestershire sauce and chili powder.\", \"Cover and simmer 2 hours.\", \"Remove 1/4 cup broth from stew.\", \"Cool and mix with flour.\", \"Add flour mixture to stew.\", \"Season.\", \"Add carrots and potatoes and cook 30 minutes.\", \"Add corn and bacon.\", \"Cook another 5 minutes.\"]',\n",
       " '[\"Chop onions and saute in butter.\", \"Set aside.\", \"Cook bow ties according to package.\", \"Set aside.\", \"Boil and mash potatoes.\", \"Add Velveeta cheese which you have sliced.\", \"Mix well.\", \"Butter a 9 x 13-inch baking dish.\", \"Begin with 1/2 onion mixture on bottom of pan.\", \"Add 1/2 bow ties as the next layer, then 1/2 of the potatoes.\", \"Repeat ending with potatoes.\", \"Bake at 350\\\\u00b0 for 25 to 30 minutes.\"]',\n",
       " '[\"Cook together carrots, bouillon and water.\", \"Simmer sliced onions in butter.\", \"Add flour to thicken and water (drained from carrots).\", \"Add to carrots and cook together 10 to 15 minutes.\"]',\n",
       " '[\"In a 9 x 14-inch pan, put a layer of Monterey Jack, then 1/2 can chilies, next a layer of Cheddar cheese, then the rest of the chilies.\", \"Mix eggs and milk together.\", \"Add Bisquick and pour over mixture.\", \"Bake at 350\\\\u00b0 for 1 hour.\"]',\n",
       " '[\"Cut the tops off the bell peppers; clean and set aside.\", \"Using the pepper that you cut off around the stem, chop this, onion and garlic; add to ground beef, rice, egg, tomato sauce, salt and pepper.\", \"Set aside.\", \"In a large pot, bring several quarts of water to a rolling boil.\", \"Drop your bell peppers in the boiling water until peppers change color of green.\", \"Remove with tongs and fill with stuffing mixture.\", \"Place peppers in baking dish with 1/2 inch water in dish.\", \"Cover top of stuffing with ketchup.\", \"Bake at 350\\\\u00b0 for approximately 45 minutes, or until mixture is done.\"]']"
      ]
     },
     "metadata": {},
     "output_type": "display_data"
    },
    {
     "name": "stdout",
     "output_type": "stream",
     "text": [
      "\n",
      "\n"
     ]
    }
   ],
   "source": [
    "# print couple of recipes from each topic\n",
    "for topic in df['topic'].unique():\n",
    "    if topic == 0:\n",
    "        print(f'Topic {topic}:')\n",
    "        display(df[df['topic'] == topic]['directions'].sample(5).tolist())\n",
    "        print('\\n')"
   ]
  },
  {
   "cell_type": "code",
   "execution_count": 27,
   "metadata": {},
   "outputs": [],
   "source": [
    "from mlxtend.preprocessing import TransactionEncoder\n",
    "from mlxtend.frequent_patterns import apriori, association_rules, fpgrowth\n",
    "import nltk\n",
    "from nltk.corpus import stopwords\n"
   ]
  },
  {
   "cell_type": "code",
   "execution_count": 28,
   "metadata": {},
   "outputs": [],
   "source": [
    "def encode_directions(df_sample2):\n",
    "    # Load the dataset\n",
    "\n",
    "    # Convert the ingredients column to a list of lists\n",
    "    transactions = df_sample2['directions'].to_numpy().tolist()\n",
    "    transactions = [eval(x) for x in transactions]\n",
    "\n",
    "    tokenizer = nltk.tokenize.RegexpTokenizer(r'\\w+')\n",
    "\n",
    "    transactions_word_scale = []\n",
    "    #nltk.download('stopwords')\n",
    "    stop_words = set(stopwords.words('english'))\n",
    "\n",
    "    for transaction in transactions:\n",
    "        recipe = []\n",
    "        for sentence in transaction:\n",
    "            # remove stop words and tokenize\n",
    "            tokens = tokenizer.tokenize(sentence)\n",
    "            # convert to lowercase, remove punctuation, and remove stop words\n",
    "            tokens = [word.lower() for word in tokens if word.isalpha() and not word in stop_words]\n",
    "            recipe += tokens\n",
    "        transactions_word_scale.append(recipe)\n",
    "\n",
    "    # Create a TransactionEncoder object to convert the list of lists into a one-hot encoded matrix\n",
    "    te = TransactionEncoder()\n",
    "    transactions_one_hot = te.fit(transactions_word_scale).transform(transactions_word_scale, sparse=True)\n",
    "    # te_ary_word_scale = te.transform(transactions_word_scale)\n",
    "    df_word_scale = pd.DataFrame.sparse.from_spmatrix(transactions_one_hot, columns=te.columns_)\n",
    "\n",
    "    return df_sample2, df_word_scale"
   ]
  },
  {
   "cell_type": "code",
   "execution_count": 29,
   "metadata": {},
   "outputs": [],
   "source": [
    "# run ARM for each topic\n",
    "\n",
    "frequent_itemsets_word_per_topic = []\n",
    "\n",
    "run_count = 0\n",
    "\n",
    "# check if the file exists\n",
    "if os.path.exists(f'{DATA_DIR}/frequent_itemsets_word_per_topic.pkl'):\n",
    "    # load the file\n",
    "    with open(f'{DATA_DIR}/frequent_itemsets_word_per_topic.pkl', 'rb') as f:\n",
    "        frequent_itemsets_word_per_topic = pickle.load(f)\n",
    "else:\n",
    "    for topic in tqdm(df['topic'].unique()):\n",
    "        if topic == -1:\n",
    "            continue\n",
    "        print(f'Run count: {run_count}')\n",
    "        df_sample2 = df[df['topic'] == topic].copy()\n",
    "        df_sample2, df_word_scale = encode_directions(df_sample2)\n",
    "        frequent_itemsets_word_per_topic.append(fpgrowth(df_word_scale, min_support=0.01, use_colnames=True, max_len=5))\n",
    "        run_count += 1\n",
    "        if run_count == 5:\n",
    "            break\n",
    "    # save the file\n",
    "    with open(f'{DATA_DIR}/frequent_itemsets_word_per_topic.pkl', 'wb') as f:\n",
    "        pickle.dump(frequent_itemsets_word_per_topic, f)"
   ]
  },
  {
   "cell_type": "code",
   "execution_count": 32,
   "metadata": {},
   "outputs": [
    {
     "name": "stdout",
     "output_type": "stream",
     "text": [
      "Topic: 83\n"
     ]
    },
    {
     "data": {
      "text/html": [
       "<div>\n",
       "<style scoped>\n",
       "    .dataframe tbody tr th:only-of-type {\n",
       "        vertical-align: middle;\n",
       "    }\n",
       "\n",
       "    .dataframe tbody tr th {\n",
       "        vertical-align: top;\n",
       "    }\n",
       "\n",
       "    .dataframe thead th {\n",
       "        text-align: right;\n",
       "    }\n",
       "</style>\n",
       "<table border=\"1\" class=\"dataframe\">\n",
       "  <thead>\n",
       "    <tr style=\"text-align: right;\">\n",
       "      <th></th>\n",
       "      <th>antecedents</th>\n",
       "      <th>consequents</th>\n",
       "      <th>antecedent support</th>\n",
       "      <th>consequent support</th>\n",
       "      <th>support</th>\n",
       "      <th>confidence</th>\n",
       "      <th>lift</th>\n",
       "      <th>leverage</th>\n",
       "      <th>conviction</th>\n",
       "      <th>zhangs_metric</th>\n",
       "    </tr>\n",
       "  </thead>\n",
       "  <tbody>\n",
       "    <tr>\n",
       "      <th>63796</th>\n",
       "      <td>(wrap, baking, cream)</td>\n",
       "      <td>(dish, bacon)</td>\n",
       "      <td>0.280822</td>\n",
       "      <td>0.520548</td>\n",
       "      <td>0.273973</td>\n",
       "      <td>0.975610</td>\n",
       "      <td>1.874198</td>\n",
       "      <td>0.127791</td>\n",
       "      <td>19.657534</td>\n",
       "      <td>0.648571</td>\n",
       "    </tr>\n",
       "    <tr>\n",
       "      <th>63809</th>\n",
       "      <td>(dish, bacon)</td>\n",
       "      <td>(wrap, baking, cream)</td>\n",
       "      <td>0.520548</td>\n",
       "      <td>0.280822</td>\n",
       "      <td>0.273973</td>\n",
       "      <td>0.526316</td>\n",
       "      <td>1.874198</td>\n",
       "      <td>0.127791</td>\n",
       "      <td>1.518265</td>\n",
       "      <td>0.972857</td>\n",
       "    </tr>\n",
       "    <tr>\n",
       "      <th>64632</th>\n",
       "      <td>(wrap, baking, sour)</td>\n",
       "      <td>(dish, bacon)</td>\n",
       "      <td>0.273973</td>\n",
       "      <td>0.520548</td>\n",
       "      <td>0.267123</td>\n",
       "      <td>0.975000</td>\n",
       "      <td>1.873026</td>\n",
       "      <td>0.124507</td>\n",
       "      <td>19.178082</td>\n",
       "      <td>0.641993</td>\n",
       "    </tr>\n",
       "    <tr>\n",
       "      <th>64637</th>\n",
       "      <td>(dish, bacon)</td>\n",
       "      <td>(wrap, baking, sour)</td>\n",
       "      <td>0.520548</td>\n",
       "      <td>0.273973</td>\n",
       "      <td>0.267123</td>\n",
       "      <td>0.513158</td>\n",
       "      <td>1.873026</td>\n",
       "      <td>0.124507</td>\n",
       "      <td>1.491300</td>\n",
       "      <td>0.972161</td>\n",
       "    </tr>\n",
       "    <tr>\n",
       "      <th>65598</th>\n",
       "      <td>(hours, dish, bacon)</td>\n",
       "      <td>(wrap, baking)</td>\n",
       "      <td>0.465753</td>\n",
       "      <td>0.301370</td>\n",
       "      <td>0.260274</td>\n",
       "      <td>0.558824</td>\n",
       "      <td>1.854278</td>\n",
       "      <td>0.119910</td>\n",
       "      <td>1.583562</td>\n",
       "      <td>0.862348</td>\n",
       "    </tr>\n",
       "  </tbody>\n",
       "</table>\n",
       "</div>"
      ],
      "text/plain": [
       "                 antecedents            consequents  antecedent support  \\\n",
       "63796  (wrap, baking, cream)          (dish, bacon)            0.280822   \n",
       "63809          (dish, bacon)  (wrap, baking, cream)            0.520548   \n",
       "64632   (wrap, baking, sour)          (dish, bacon)            0.273973   \n",
       "64637          (dish, bacon)   (wrap, baking, sour)            0.520548   \n",
       "65598   (hours, dish, bacon)         (wrap, baking)            0.465753   \n",
       "\n",
       "       consequent support   support  confidence      lift  leverage  \\\n",
       "63796            0.520548  0.273973    0.975610  1.874198  0.127791   \n",
       "63809            0.280822  0.273973    0.526316  1.874198  0.127791   \n",
       "64632            0.520548  0.267123    0.975000  1.873026  0.124507   \n",
       "64637            0.273973  0.267123    0.513158  1.873026  0.124507   \n",
       "65598            0.301370  0.260274    0.558824  1.854278  0.119910   \n",
       "\n",
       "       conviction  zhangs_metric  \n",
       "63796   19.657534       0.648571  \n",
       "63809    1.518265       0.972857  \n",
       "64632   19.178082       0.641993  \n",
       "64637    1.491300       0.972161  \n",
       "65598    1.583562       0.862348  "
      ]
     },
     "metadata": {},
     "output_type": "display_data"
    },
    {
     "data": {
      "application/vnd.jupyter.widget-view+json": {
       "model_id": "b976802a5232424298e01344cbdb4caa",
       "version_major": 2,
       "version_minor": 0
      },
      "text/plain": [
       "  0%|          | 0/8190 [00:00<?, ?it/s]"
      ]
     },
     "metadata": {},
     "output_type": "display_data"
    },
    {
     "name": "stdout",
     "output_type": "stream",
     "text": [
      "Topic: 1\n"
     ]
    },
    {
     "data": {
      "text/html": [
       "<div>\n",
       "<style scoped>\n",
       "    .dataframe tbody tr th:only-of-type {\n",
       "        vertical-align: middle;\n",
       "    }\n",
       "\n",
       "    .dataframe tbody tr th {\n",
       "        vertical-align: top;\n",
       "    }\n",
       "\n",
       "    .dataframe thead th {\n",
       "        text-align: right;\n",
       "    }\n",
       "</style>\n",
       "<table border=\"1\" class=\"dataframe\">\n",
       "  <thead>\n",
       "    <tr style=\"text-align: right;\">\n",
       "      <th></th>\n",
       "      <th>antecedents</th>\n",
       "      <th>consequents</th>\n",
       "      <th>antecedent support</th>\n",
       "      <th>consequent support</th>\n",
       "      <th>support</th>\n",
       "      <th>confidence</th>\n",
       "      <th>lift</th>\n",
       "      <th>leverage</th>\n",
       "      <th>conviction</th>\n",
       "      <th>zhangs_metric</th>\n",
       "    </tr>\n",
       "  </thead>\n",
       "  <tbody>\n",
       "    <tr>\n",
       "      <th>27</th>\n",
       "      <td>(chicken, bake)</td>\n",
       "      <td>(dish)</td>\n",
       "      <td>0.519271</td>\n",
       "      <td>0.319017</td>\n",
       "      <td>0.261415</td>\n",
       "      <td>0.503426</td>\n",
       "      <td>1.578051</td>\n",
       "      <td>0.095758</td>\n",
       "      <td>1.371361</td>\n",
       "      <td>0.761983</td>\n",
       "    </tr>\n",
       "    <tr>\n",
       "      <th>30</th>\n",
       "      <td>(dish)</td>\n",
       "      <td>(chicken, bake)</td>\n",
       "      <td>0.319017</td>\n",
       "      <td>0.519271</td>\n",
       "      <td>0.261415</td>\n",
       "      <td>0.819437</td>\n",
       "      <td>1.578051</td>\n",
       "      <td>0.095758</td>\n",
       "      <td>2.662388</td>\n",
       "      <td>0.537910</td>\n",
       "    </tr>\n",
       "    <tr>\n",
       "      <th>26</th>\n",
       "      <td>(chicken, dish)</td>\n",
       "      <td>(bake)</td>\n",
       "      <td>0.316476</td>\n",
       "      <td>0.524269</td>\n",
       "      <td>0.261415</td>\n",
       "      <td>0.826017</td>\n",
       "      <td>1.575559</td>\n",
       "      <td>0.095496</td>\n",
       "      <td>2.734353</td>\n",
       "      <td>0.534443</td>\n",
       "    </tr>\n",
       "    <tr>\n",
       "      <th>31</th>\n",
       "      <td>(bake)</td>\n",
       "      <td>(chicken, dish)</td>\n",
       "      <td>0.524269</td>\n",
       "      <td>0.316476</td>\n",
       "      <td>0.261415</td>\n",
       "      <td>0.498627</td>\n",
       "      <td>1.575559</td>\n",
       "      <td>0.095496</td>\n",
       "      <td>1.363303</td>\n",
       "      <td>0.767881</td>\n",
       "    </tr>\n",
       "    <tr>\n",
       "      <th>24</th>\n",
       "      <td>(dish)</td>\n",
       "      <td>(bake)</td>\n",
       "      <td>0.319017</td>\n",
       "      <td>0.524269</td>\n",
       "      <td>0.263363</td>\n",
       "      <td>0.825544</td>\n",
       "      <td>1.574657</td>\n",
       "      <td>0.096112</td>\n",
       "      <td>2.726943</td>\n",
       "      <td>0.535904</td>\n",
       "    </tr>\n",
       "  </tbody>\n",
       "</table>\n",
       "</div>"
      ],
      "text/plain": [
       "        antecedents      consequents  antecedent support  consequent support  \\\n",
       "27  (chicken, bake)           (dish)            0.519271            0.319017   \n",
       "30           (dish)  (chicken, bake)            0.319017            0.519271   \n",
       "26  (chicken, dish)           (bake)            0.316476            0.524269   \n",
       "31           (bake)  (chicken, dish)            0.524269            0.316476   \n",
       "24           (dish)           (bake)            0.319017            0.524269   \n",
       "\n",
       "     support  confidence      lift  leverage  conviction  zhangs_metric  \n",
       "27  0.261415    0.503426  1.578051  0.095758    1.371361       0.761983  \n",
       "30  0.261415    0.819437  1.578051  0.095758    2.662388       0.537910  \n",
       "26  0.261415    0.826017  1.575559  0.095496    2.734353       0.534443  \n",
       "31  0.261415    0.498627  1.575559  0.095496    1.363303       0.767881  \n",
       "24  0.263363    0.825544  1.574657  0.096112    2.726943       0.535904  "
      ]
     },
     "metadata": {},
     "output_type": "display_data"
    },
    {
     "data": {
      "application/vnd.jupyter.widget-view+json": {
       "model_id": "818a0528580f48eabd6114160c8ca022",
       "version_major": 2,
       "version_minor": 0
      },
      "text/plain": [
       "  0%|          | 0/18 [00:00<?, ?it/s]"
      ]
     },
     "metadata": {},
     "output_type": "display_data"
    },
    {
     "name": "stdout",
     "output_type": "stream",
     "text": [
      "Topic: 0\n"
     ]
    },
    {
     "data": {
      "text/html": [
       "<div>\n",
       "<style scoped>\n",
       "    .dataframe tbody tr th:only-of-type {\n",
       "        vertical-align: middle;\n",
       "    }\n",
       "\n",
       "    .dataframe tbody tr th {\n",
       "        vertical-align: top;\n",
       "    }\n",
       "\n",
       "    .dataframe thead th {\n",
       "        text-align: right;\n",
       "    }\n",
       "</style>\n",
       "<table border=\"1\" class=\"dataframe\">\n",
       "  <thead>\n",
       "    <tr style=\"text-align: right;\">\n",
       "      <th></th>\n",
       "      <th>antecedents</th>\n",
       "      <th>consequents</th>\n",
       "      <th>antecedent support</th>\n",
       "      <th>consequent support</th>\n",
       "      <th>support</th>\n",
       "      <th>confidence</th>\n",
       "      <th>lift</th>\n",
       "      <th>leverage</th>\n",
       "      <th>conviction</th>\n",
       "      <th>zhangs_metric</th>\n",
       "    </tr>\n",
       "  </thead>\n",
       "  <tbody>\n",
       "    <tr>\n",
       "      <th>24</th>\n",
       "      <td>(cheese)</td>\n",
       "      <td>(minutes, bake)</td>\n",
       "      <td>0.376514</td>\n",
       "      <td>0.422048</td>\n",
       "      <td>0.252177</td>\n",
       "      <td>0.669769</td>\n",
       "      <td>1.586951</td>\n",
       "      <td>0.093271</td>\n",
       "      <td>1.750147</td>\n",
       "      <td>0.593214</td>\n",
       "    </tr>\n",
       "    <tr>\n",
       "      <th>21</th>\n",
       "      <td>(minutes, bake)</td>\n",
       "      <td>(cheese)</td>\n",
       "      <td>0.422048</td>\n",
       "      <td>0.376514</td>\n",
       "      <td>0.252177</td>\n",
       "      <td>0.597509</td>\n",
       "      <td>1.586951</td>\n",
       "      <td>0.093271</td>\n",
       "      <td>1.549068</td>\n",
       "      <td>0.639951</td>\n",
       "    </tr>\n",
       "    <tr>\n",
       "      <th>20</th>\n",
       "      <td>(minutes, cheese)</td>\n",
       "      <td>(bake)</td>\n",
       "      <td>0.329332</td>\n",
       "      <td>0.513849</td>\n",
       "      <td>0.252177</td>\n",
       "      <td>0.765724</td>\n",
       "      <td>1.490175</td>\n",
       "      <td>0.082951</td>\n",
       "      <td>2.075125</td>\n",
       "      <td>0.490463</td>\n",
       "    </tr>\n",
       "    <tr>\n",
       "      <th>25</th>\n",
       "      <td>(bake)</td>\n",
       "      <td>(minutes, cheese)</td>\n",
       "      <td>0.513849</td>\n",
       "      <td>0.329332</td>\n",
       "      <td>0.252177</td>\n",
       "      <td>0.490762</td>\n",
       "      <td>1.490175</td>\n",
       "      <td>0.082951</td>\n",
       "      <td>1.317003</td>\n",
       "      <td>0.676616</td>\n",
       "    </tr>\n",
       "    <tr>\n",
       "      <th>19</th>\n",
       "      <td>(bake)</td>\n",
       "      <td>(cheese)</td>\n",
       "      <td>0.513849</td>\n",
       "      <td>0.376514</td>\n",
       "      <td>0.279587</td>\n",
       "      <td>0.544103</td>\n",
       "      <td>1.445109</td>\n",
       "      <td>0.086116</td>\n",
       "      <td>1.367605</td>\n",
       "      <td>0.633570</td>\n",
       "    </tr>\n",
       "  </tbody>\n",
       "</table>\n",
       "</div>"
      ],
      "text/plain": [
       "          antecedents        consequents  antecedent support  \\\n",
       "24           (cheese)    (minutes, bake)            0.376514   \n",
       "21    (minutes, bake)           (cheese)            0.422048   \n",
       "20  (minutes, cheese)             (bake)            0.329332   \n",
       "25             (bake)  (minutes, cheese)            0.513849   \n",
       "19             (bake)           (cheese)            0.513849   \n",
       "\n",
       "    consequent support   support  confidence      lift  leverage  conviction  \\\n",
       "24            0.422048  0.252177    0.669769  1.586951  0.093271    1.750147   \n",
       "21            0.376514  0.252177    0.597509  1.586951  0.093271    1.549068   \n",
       "20            0.513849  0.252177    0.765724  1.490175  0.082951    2.075125   \n",
       "25            0.329332  0.252177    0.490762  1.490175  0.082951    1.317003   \n",
       "19            0.376514  0.279587    0.544103  1.445109  0.086116    1.367605   \n",
       "\n",
       "    zhangs_metric  \n",
       "24       0.593214  \n",
       "21       0.639951  \n",
       "20       0.490463  \n",
       "25       0.676616  \n",
       "19       0.633570  "
      ]
     },
     "metadata": {},
     "output_type": "display_data"
    },
    {
     "data": {
      "application/vnd.jupyter.widget-view+json": {
       "model_id": "7d527960b6bd410bb0dbe86aa4ec78a9",
       "version_major": 2,
       "version_minor": 0
      },
      "text/plain": [
       "  0%|          | 0/12 [00:00<?, ?it/s]"
      ]
     },
     "metadata": {},
     "output_type": "display_data"
    },
    {
     "name": "stdout",
     "output_type": "stream",
     "text": [
      "Topic: 58\n"
     ]
    },
    {
     "data": {
      "text/html": [
       "<div>\n",
       "<style scoped>\n",
       "    .dataframe tbody tr th:only-of-type {\n",
       "        vertical-align: middle;\n",
       "    }\n",
       "\n",
       "    .dataframe tbody tr th {\n",
       "        vertical-align: top;\n",
       "    }\n",
       "\n",
       "    .dataframe thead th {\n",
       "        text-align: right;\n",
       "    }\n",
       "</style>\n",
       "<table border=\"1\" class=\"dataframe\">\n",
       "  <thead>\n",
       "    <tr style=\"text-align: right;\">\n",
       "      <th></th>\n",
       "      <th>antecedents</th>\n",
       "      <th>consequents</th>\n",
       "      <th>antecedent support</th>\n",
       "      <th>consequent support</th>\n",
       "      <th>support</th>\n",
       "      <th>confidence</th>\n",
       "      <th>lift</th>\n",
       "      <th>leverage</th>\n",
       "      <th>conviction</th>\n",
       "      <th>zhangs_metric</th>\n",
       "    </tr>\n",
       "  </thead>\n",
       "  <tbody>\n",
       "    <tr>\n",
       "      <th>28</th>\n",
       "      <td>(dissolve)</td>\n",
       "      <td>(water)</td>\n",
       "      <td>0.304160</td>\n",
       "      <td>0.506612</td>\n",
       "      <td>0.271700</td>\n",
       "      <td>0.893281</td>\n",
       "      <td>1.763244</td>\n",
       "      <td>0.117609</td>\n",
       "      <td>4.623227</td>\n",
       "      <td>0.622073</td>\n",
       "    </tr>\n",
       "    <tr>\n",
       "      <th>29</th>\n",
       "      <td>(water)</td>\n",
       "      <td>(dissolve)</td>\n",
       "      <td>0.506612</td>\n",
       "      <td>0.304160</td>\n",
       "      <td>0.271700</td>\n",
       "      <td>0.536308</td>\n",
       "      <td>1.763244</td>\n",
       "      <td>0.117609</td>\n",
       "      <td>1.500651</td>\n",
       "      <td>0.877329</td>\n",
       "    </tr>\n",
       "    <tr>\n",
       "      <th>22</th>\n",
       "      <td>(add, pineapple)</td>\n",
       "      <td>(water)</td>\n",
       "      <td>0.426545</td>\n",
       "      <td>0.506612</td>\n",
       "      <td>0.273864</td>\n",
       "      <td>0.642052</td>\n",
       "      <td>1.267344</td>\n",
       "      <td>0.057771</td>\n",
       "      <td>1.378378</td>\n",
       "      <td>0.367855</td>\n",
       "    </tr>\n",
       "    <tr>\n",
       "      <th>27</th>\n",
       "      <td>(water)</td>\n",
       "      <td>(add, pineapple)</td>\n",
       "      <td>0.506612</td>\n",
       "      <td>0.426545</td>\n",
       "      <td>0.273864</td>\n",
       "      <td>0.540579</td>\n",
       "      <td>1.267344</td>\n",
       "      <td>0.057771</td>\n",
       "      <td>1.248213</td>\n",
       "      <td>0.427550</td>\n",
       "    </tr>\n",
       "    <tr>\n",
       "      <th>25</th>\n",
       "      <td>(add)</td>\n",
       "      <td>(pineapple, water)</td>\n",
       "      <td>0.724693</td>\n",
       "      <td>0.304160</td>\n",
       "      <td>0.273864</td>\n",
       "      <td>0.377903</td>\n",
       "      <td>1.242450</td>\n",
       "      <td>0.053441</td>\n",
       "      <td>1.118540</td>\n",
       "      <td>0.708805</td>\n",
       "    </tr>\n",
       "  </tbody>\n",
       "</table>\n",
       "</div>"
      ],
      "text/plain": [
       "         antecedents         consequents  antecedent support  \\\n",
       "28        (dissolve)             (water)            0.304160   \n",
       "29           (water)          (dissolve)            0.506612   \n",
       "22  (add, pineapple)             (water)            0.426545   \n",
       "27           (water)    (add, pineapple)            0.506612   \n",
       "25             (add)  (pineapple, water)            0.724693   \n",
       "\n",
       "    consequent support   support  confidence      lift  leverage  conviction  \\\n",
       "28            0.506612  0.271700    0.893281  1.763244  0.117609    4.623227   \n",
       "29            0.304160  0.271700    0.536308  1.763244  0.117609    1.500651   \n",
       "22            0.506612  0.273864    0.642052  1.267344  0.057771    1.378378   \n",
       "27            0.426545  0.273864    0.540579  1.267344  0.057771    1.248213   \n",
       "25            0.304160  0.273864    0.377903  1.242450  0.053441    1.118540   \n",
       "\n",
       "    zhangs_metric  \n",
       "28       0.622073  \n",
       "29       0.877329  \n",
       "22       0.367855  \n",
       "27       0.427550  \n",
       "25       0.708805  "
      ]
     },
     "metadata": {},
     "output_type": "display_data"
    },
    {
     "data": {
      "application/vnd.jupyter.widget-view+json": {
       "model_id": "ed055d5838614fcebda6b085f8c36a4d",
       "version_major": 2,
       "version_minor": 0
      },
      "text/plain": [
       "  0%|          | 0/6 [00:00<?, ?it/s]"
      ]
     },
     "metadata": {},
     "output_type": "display_data"
    }
   ],
   "source": [
    "topics = df['topic'].unique()\n",
    "# run association rule mining for each topic\n",
    "for i, freq_item_set in enumerate(frequent_itemsets_word_per_topic):\n",
    "    topic = topics[i]\n",
    "    if topic == -1 or 0:\n",
    "        continue\n",
    "    print(f'Topic: {topic}')\n",
    "    rules = association_rules(freq_item_set, metric=\"support\", min_threshold=0.25)\n",
    "    display(rules.sort_values(by=\"lift\", ascending=False).head(5))\n",
    "    import networkx as nx\n",
    "    import matplotlib.pyplot as plt\n",
    "    # Create a network graph of the association rules\n",
    "\n",
    "    # Only consider rules with lift greater than X\n",
    "    filtered_rules = rules[rules.lift >= 1.20]\n",
    "\n",
    "    G = nx.DiGraph()\n",
    "    for i in tqdm(range(len(filtered_rules))):\n",
    "        # add edge with an arrow from antecedents to consequents\n",
    "        G.add_edge(filtered_rules.iloc[i]['antecedents'], filtered_rules.iloc[i]['consequents'], weight=filtered_rules.iloc[i]['lift'])\n",
    "\n",
    "    # Apply page rank to the network graph\n",
    "    page_rank = nx.pagerank(G)\n",
    "    # Sort the recipes by page rank\n",
    "    #sorted(page_rank.items(), key=lambda x: x[1], reverse=True)[:25]\n",
    "    with open(f'dataset/rules_extracted_topic_{topic}.txt', 'w') as f:\n",
    "        for recipe in sorted(page_rank.items(), key=lambda x: x[1], reverse=True)[:25]:\n",
    "            f.write(f\"Recipe: {recipe[0]}\\n\")\n",
    "            # Find the most important 5 neighbors of the recipe\n",
    "            neighbors = sorted(G[recipe[0]].items(), key=lambda x: x[1]['weight'], reverse=True)[:10]\n",
    "            # Combine the sets of all neighbors into one list sorted by weight\n",
    "            all_neighbors = sorted([(neighbor[0], neighbor[1]['weight']) for neighbor in neighbors], key=lambda x: x[1], reverse=True)\n",
    "            # Eliminate weights\n",
    "            all_neighbors = [neighbor[0] for neighbor in all_neighbors]\n",
    "            # Combine all sets into one set\n",
    "            new_all_neighbors = set()\n",
    "            for neighbor in all_neighbors:\n",
    "                new_all_neighbors = new_all_neighbors.union(neighbor)\n",
    "            # Write to a file\n",
    "            f.write(f\"Neighbors: {new_all_neighbors}\\n\")\n",
    "            f.write('\\n')\n",
    "    G.clear()"
   ]
  },
  {
   "cell_type": "code",
   "execution_count": null,
   "metadata": {},
   "outputs": [],
   "source": []
  }
 ],
 "metadata": {
  "kernelspec": {
   "display_name": "venv",
   "language": "python",
   "name": "python3"
  },
  "language_info": {
   "codemirror_mode": {
    "name": "ipython",
    "version": 3
   },
   "file_extension": ".py",
   "mimetype": "text/x-python",
   "name": "python",
   "nbconvert_exporter": "python",
   "pygments_lexer": "ipython3",
   "version": "3.11.5"
  },
  "orig_nbformat": 4
 },
 "nbformat": 4,
 "nbformat_minor": 2
}
