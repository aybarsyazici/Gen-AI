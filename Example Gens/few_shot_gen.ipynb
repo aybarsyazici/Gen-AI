{
 "cells": [
  {
   "cell_type": "code",
   "execution_count": 1,
   "metadata": {},
   "outputs": [
    {
     "name": "stdout",
     "output_type": "stream",
     "text": [
      "Starting to load rule data\n",
      "Rule data loaded...\n",
      "\n",
      "Starting rule extraction...\n",
      "\t -> Starting to sort rules by lift\n",
      "\t -> Done sorting rules...\n",
      "______________________________\n",
      "\t -> Starting RegEx pattern creation\n",
      "\t -> Done creating RegEx patterns...\n"
     ]
    }
   ],
   "source": [
    "import pandas as pd\n",
    "import helper \n",
    "from gensim.parsing.preprocessing import preprocess_string\n",
    "\n",
    "DATA_DIR = '../dataset'\n",
    "\n",
    "rules, to_be_joined, extracted_rules = helper.load_required_data(DATA_DIR)\n",
    "\n",
    "# sample random 100 recipes from the dataset under dataset/full_dataset.csv\n",
    "seed = 1010\n",
    "sample_recipes = pd.read_csv(f'{DATA_DIR}/full_dataset.csv').sample(100, random_state=seed)\n",
    "sample_recipes['directions'] = sample_recipes['directions'].apply(lambda x: eval(x))\n",
    "# drop recipes that have directions with less than 125 characters in total\n",
    "sample_recipes['directions_length'] = sample_recipes['directions'].apply(lambda x: len(' '.join(x)))\n",
    "sample_recipes = sample_recipes[sample_recipes['directions_length'] > 125]\n",
    "\n",
    "sample_recipes['preprocessed'] = sample_recipes['directions'].apply(lambda x: preprocess_string(' '.join(x)))"
   ]
  },
  {
   "cell_type": "code",
   "execution_count": 2,
   "metadata": {},
   "outputs": [
    {
     "data": {
      "text/plain": [
       "{frozenset({'bake', 'stand'}): (\"frozenset({'oven', 'inch', 'let'})\",\n",
       "  11.35666220571362),\n",
       " frozenset({'bake', 'inch', 'stand'}): (\"frozenset({'oven', 'let'})\",\n",
       "  10.065829510602487),\n",
       " frozenset({'bake', 'minut', 'stand'}): (\"frozenset({'preheat', 'let'})\",\n",
       "  8.879364737957237)}"
      ]
     },
     "metadata": {},
     "output_type": "display_data"
    }
   ],
   "source": [
    "# Grab the first recipe in the sample\n",
    "recipe = sample_recipes.iloc[0]\n",
    "# Extract rules\n",
    "fulfilled, suggestions = helper.extract_rules(recipe['preprocessed'], extracted_rules)\n",
    "display(suggestions)"
   ]
  },
  {
   "cell_type": "code",
   "execution_count": 3,
   "metadata": {},
   "outputs": [
    {
     "data": {
      "text/plain": [
       "['Combine sugar and orange rind.',\n",
       " 'Separate biscuits.',\n",
       " 'Dip each in butter and coat with sugar mixture.',\n",
       " 'Stand biscuits on side, overlapping edges in a 9-inch tube pan.',\n",
       " 'Bake at 350° for 30 minutes.']"
      ]
     },
     "execution_count": 3,
     "metadata": {},
     "output_type": "execute_result"
    }
   ],
   "source": [
    "recipe['directions']"
   ]
  },
  {
   "cell_type": "code",
   "execution_count": null,
   "metadata": {},
   "outputs": [],
   "source": []
  }
 ],
 "metadata": {
  "kernelspec": {
   "display_name": "venv",
   "language": "python",
   "name": "python3"
  },
  "language_info": {
   "codemirror_mode": {
    "name": "ipython",
    "version": 3
   },
   "file_extension": ".py",
   "mimetype": "text/x-python",
   "name": "python",
   "nbconvert_exporter": "python",
   "pygments_lexer": "ipython3",
   "version": "3.11.5"
  },
  "orig_nbformat": 4
 },
 "nbformat": 4,
 "nbformat_minor": 2
}
