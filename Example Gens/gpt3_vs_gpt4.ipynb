{
 "cells": [
  {
   "cell_type": "code",
   "execution_count": 1,
   "metadata": {},
   "outputs": [
    {
     "name": "stdout",
     "output_type": "stream",
     "text": [
      "Starting to load rule data\n",
      "Rule data loaded...\n",
      "\n",
      "Starting rule extraction...\n",
      "\t -> Starting to sort rules by lift\n",
      "\t -> Done sorting rules...\n",
      "______________________________\n",
      "\t -> Starting RegEx pattern creation\n",
      "\t -> Done creating RegEx patterns...\n"
     ]
    }
   ],
   "source": [
    "import pandas as pd\n",
    "import helper \n",
    "from gensim.parsing.preprocessing import preprocess_string\n",
    "\n",
    "DATA_DIR = '../dataset'\n",
    "\n",
    "rules, to_be_joined, extracted_rules = helper.load_required_data(DATA_DIR)\n",
    "\n",
    "# sample random 100 recipes from the dataset under dataset/full_dataset.csv\n",
    "seed = 1010\n",
    "sample_recipes = pd.read_csv(f'{DATA_DIR}/full_dataset.csv').sample(100, random_state=seed)\n",
    "sample_recipes['directions'] = sample_recipes['directions'].apply(lambda x: eval(x))\n",
    "# drop recipes that have directions with less than 125 characters in total\n",
    "sample_recipes['directions_length'] = sample_recipes['directions'].apply(lambda x: len(' '.join(x)))\n",
    "sample_recipes = sample_recipes[sample_recipes['directions_length'] > 125]\n",
    "\n",
    "sample_recipes['preprocessed'] = sample_recipes['directions'].apply(lambda x: preprocess_string(' '.join(x)))"
   ]
  },
  {
   "cell_type": "markdown",
   "metadata": {},
   "source": [
    "<h4> <font color=\"#f0c6c6\"> Below we will be comparing gpt3.5 and gpt4 </font></h4>\n",
    "\n",
    "<font color=\"#cad3f5\"> We will focus on the  <font color=\"#b7bdf8\">short prompt</font>  for this part</font>"
   ]
  },
  {
   "cell_type": "code",
   "execution_count": 2,
   "metadata": {},
   "outputs": [],
   "source": [
    "short_result = helper.complete_pipeline(sample_recipes.iloc[0], extracted_rules, helper.prompt_gpt_short, model=\"gpt-4\")"
   ]
  },
  {
   "cell_type": "code",
   "execution_count": 13,
   "metadata": {},
   "outputs": [],
   "source": [
    "recipe_row = sample_recipes.iloc[0]\n",
    "fulfilled_rules, suggestions = helper.extract_rules(recipe_row['preprocessed'], extracted_rules)\n",
    "prompt = helper.create_prompt(\n",
    "    recipe_row['title'],\n",
    "    recipe_row['directions'],\n",
    "    fulfilled_rules,\n",
    "    suggestions\n",
    ")"
   ]
  },
  {
   "cell_type": "code",
   "execution_count": 3,
   "metadata": {},
   "outputs": [
    {
     "data": {
      "text/plain": [
       "['Combine sugar and orange rind.',\n",
       " 'Separate biscuits.',\n",
       " 'Dip each in butter and coat with sugar mixture.',\n",
       " 'Stand biscuits on side, overlapping edges in a 9-inch tube pan.',\n",
       " 'Bake at 350° for 30 minutes.']"
      ]
     },
     "execution_count": 3,
     "metadata": {},
     "output_type": "execute_result"
    }
   ],
   "source": [
    "short_result['original_recipe']"
   ]
  },
  {
   "cell_type": "code",
   "execution_count": 4,
   "metadata": {},
   "outputs": [
    {
     "name": "stdout",
     "output_type": "stream",
     "text": [
      "New recipe:\n",
      "\n",
      "Ingredients:\n",
      "- Sugar\n",
      "- Orange rind\n",
      "- Biscuits\n",
      "- Butter\n",
      "- 1 Egg\n",
      "\n",
      "Instructions:\n",
      "1. Preheat the oven to 350°.\n",
      "2. Combine sugar and orange rind.\n",
      "3. Separate biscuits.\n",
      "4. Beat an egg in a separate bowl.\n",
      "5. Dip each biscuit in butter, then in the egg, and coat with the sugar mixture.\n",
      "6. Stand biscuits on side, overlapping edges in a 9-inch tube pan.\n",
      "7. Let the biscuits rest for a few minutes.\n",
      "8. Bake at 350° for 30 minutes.\n",
      "\n",
      "\n",
      "________\n",
      "Explanation:\n",
      "\n",
      "I added the ingredient 'egg' to fulfill the rule frozenset({'let', 'egg', 'minut'}). I included the egg in the dipping process for the biscuits before they are coated with the sugar mixture. This not only fulfills the rule but also adds a nice glaze to the biscuits when they bake.\n",
      "\n",
      "I added the step of preheating the oven to fulfill the rule frozenset({'preheat', 'let'}). This is a common step in baking recipes and it ensures that the oven is at the right temperature before the biscuits are put in.\n",
      "\n",
      "I added the step of letting the biscuits rest for a few minutes to fulfill the rule frozenset({'oven', 'let'}). This allows the egg to adhere better to the biscuits and the sugar mixture to penetrate more deeply, resulting in a tastier biscuit.\n",
      "\n",
      "\n"
     ]
    }
   ],
   "source": [
    "helper._print_response(short_result['new_recipe'])"
   ]
  },
  {
   "cell_type": "code",
   "execution_count": 5,
   "metadata": {},
   "outputs": [],
   "source": [
    "short_result_gpt3 = helper.complete_pipeline(sample_recipes.iloc[0], extracted_rules, helper.prompt_gpt_short, model=\"gpt-3.5-turbo\")"
   ]
  },
  {
   "cell_type": "code",
   "execution_count": 7,
   "metadata": {},
   "outputs": [
    {
     "name": "stdout",
     "output_type": "stream",
     "text": [
      "New recipe:\n",
      "\n",
      "Ingredients:\n",
      "- Sugar\n",
      "- Orange rind\n",
      "- Biscuits\n",
      "- Butter\n",
      "\n",
      "Instructions:\n",
      "1. Combine sugar and orange rind.\n",
      "2. Separate biscuits.\n",
      "3. Dip each biscuit in butter and coat with the sugar mixture.\n",
      "4. Stand the biscuits on their side, overlapping the edges in a 9-inch tube pan.\n",
      "5. Bake at 350° for 30 minutes.\n",
      "\n",
      "\n",
      "\n",
      "________\n",
      "Explanation:\n",
      "\n",
      "To fulfill the new rules, I added the following ingredients:\n",
      "- Sugar: Already present in the original recipe.\n",
      "- Orange rind: Already present in the original recipe.\n",
      "- Biscuits: Already present in the original recipe.\n",
      "- Butter: Added to dip the biscuits in.\n",
      "\n",
      "I made the following changes to the instructions:\n",
      "- Step 3: Added \"Dip each biscuit in butter and coat with the sugar mixture\" to fulfill the rule \"frozenset({'let', 'egg', 'minut'})\".\n",
      "- Step 5: No changes were needed as the original recipe already fulfills the rule \"frozenset({'inch', 'bake', 'stand'})\" and \"frozenset({'minut', 'bake', 'stand'})\".\n",
      "\n",
      "Overall, I made minimal changes to the original recipe to fulfill the new rules.\n",
      "\n",
      "\n"
     ]
    }
   ],
   "source": [
    "helper._print_response(short_result_gpt3['new_recipe'])"
   ]
  },
  {
   "cell_type": "markdown",
   "metadata": {},
   "source": [
    "<font color=\"#cad3f5\"> Now let's also take a look at  <font color=\"#b7bdf8\">prompt3</font></font>"
   ]
  },
  {
   "cell_type": "code",
   "execution_count": 8,
   "metadata": {},
   "outputs": [],
   "source": [
    "prompt3_result = helper.complete_pipeline(sample_recipes.iloc[0], extracted_rules, helper.prompt_gpt_3, model=\"gpt-4\")"
   ]
  },
  {
   "cell_type": "code",
   "execution_count": 9,
   "metadata": {},
   "outputs": [
    {
     "name": "stdout",
     "output_type": "stream",
     "text": [
      "New recipe:\n",
      "\n",
      "Ingredients:\n",
      "- Sugar\n",
      "- Orange rind\n",
      "- Biscuits\n",
      "- Butter\n",
      "- 1 Egg\n",
      "\n",
      "Instructions:\n",
      "1. Preheat the oven to 350°.\n",
      "2. Combine sugar and orange rind.\n",
      "3. Separate biscuits.\n",
      "4. Beat the egg in a separate bowl.\n",
      "5. Dip each biscuit in butter, then in the egg, and coat with sugar mixture.\n",
      "6. Stand biscuits on side, overlapping edges in a 9-inch tube pan.\n",
      "7. Let the biscuits rest for a few minutes.\n",
      "8. Bake at 350° for 30 minutes.\n",
      "\n",
      "\n",
      "________\n",
      "Explanation:\n",
      "\n",
      "To fulfill the new rules, I added a few steps and an ingredient to the recipe. I added the step of preheating the oven to fulfill the rule \"frozenset({'preheat', 'let'})\". I also added an egg to the ingredients list and included a step to beat the egg, which fulfills the rule \"frozenset({'let', 'egg', 'minut'})\". The step of letting the biscuits rest for a few minutes before baking fulfills the rule \"frozenset({'oven', 'let'})\". These additions do not alter the original recipe but add to it, ensuring all the new rules are met.\n",
      "\n",
      "\n"
     ]
    }
   ],
   "source": [
    "helper._print_response(prompt3_result['new_recipe'])"
   ]
  },
  {
   "cell_type": "code",
   "execution_count": 10,
   "metadata": {},
   "outputs": [],
   "source": [
    "prompt3_result_gpt3 = helper.complete_pipeline(sample_recipes.iloc[0], extracted_rules, helper.prompt_gpt_3, model=\"gpt-3.5-turbo\")"
   ]
  },
  {
   "cell_type": "code",
   "execution_count": 11,
   "metadata": {},
   "outputs": [
    {
     "name": "stdout",
     "output_type": "stream",
     "text": [
      "New recipe:\n",
      "\n",
      "Ingredients:\n",
      "- Sugar\n",
      "- Orange rind\n",
      "- Biscuits\n",
      "- Butter\n",
      "Instructions:\n",
      "1. Combine sugar and orange rind.\n",
      "2. Separate biscuits.\n",
      "3. Dip each biscuit in butter and coat with sugar mixture.\n",
      "4. Stand biscuits on their side, overlapping the edges, in a 9-inch tube pan.\n",
      "5. Bake at 350° for 30 minutes.\n",
      "\n",
      "\n",
      "\n",
      "________\n",
      "Explanation:\n",
      "\n",
      "To fulfill the new rules, I made the following changes to the recipe:\n",
      "1. Added the ingredient \"Sugar\" to fulfill the rule \"frozenset({'let', 'egg', 'minut'})\".\n",
      "2. Added the ingredient \"Orange rind\" to fulfill the rule \"frozenset({'let', 'egg', 'minut'})\".\n",
      "3. Added the ingredient \"Biscuits\" to fulfill the rule \"frozenset({'let', 'egg', 'minut'})\".\n",
      "4. Added the ingredient \"Butter\" to fulfill the rule \"frozenset({'let', 'egg', 'minut'})\".\n",
      "5. Added the step to separate the biscuits to fulfill the rule \"frozenset({'let', 'egg', 'minut'})\".\n",
      "6. Added the step to dip each biscuit in butter and coat with sugar mixture to fulfill the rule \"frozenset({'let', 'egg', 'minut'})\".\n",
      "7. Added the step to stand the biscuits on their side, overlapping the edges, in a 9-inch tube pan to fulfill the rule \"frozenset({'let', 'egg', 'minut'})\".\n",
      "8. Added the rule \"frozenset({'oven', 'let'})\" to the new rules, but since it doesn't require any changes to the recipe, no modifications were made.\n",
      "9. Added the rule \"frozenset({'preheat', 'let'})\" to the new rules, but since it doesn't require any changes to the recipe, no modifications were made.\n",
      "\n",
      "Overall, the changes made to the recipe ensure that all the new rules are fulfilled while keeping the original details intact.\n",
      "\n",
      "\n"
     ]
    }
   ],
   "source": [
    "helper._print_response(prompt3_result_gpt3['new_recipe'])"
   ]
  }
 ],
 "metadata": {
  "kernelspec": {
   "display_name": "venv",
   "language": "python",
   "name": "python3"
  },
  "language_info": {
   "codemirror_mode": {
    "name": "ipython",
    "version": 3
   },
   "file_extension": ".py",
   "mimetype": "text/x-python",
   "name": "python",
   "nbconvert_exporter": "python",
   "pygments_lexer": "ipython3",
   "version": "3.11.6"
  },
  "orig_nbformat": 4
 },
 "nbformat": 4,
 "nbformat_minor": 2
}
