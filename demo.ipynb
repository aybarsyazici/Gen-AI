{
 "cells": [
  {
   "cell_type": "code",
   "execution_count": 1,
   "metadata": {},
   "outputs": [
    {
     "name": "stdout",
     "output_type": "stream",
     "text": [
      "Starting to load rule data\n",
      "Rule data loaded...\n",
      "\n",
      "Starting rule extraction...\n",
      "\t -> Starting to sort rules by lift\n",
      "\t -> Done sorting rules...\n",
      "______________________________\n"
     ]
    }
   ],
   "source": [
    "import pandas as pd\n",
    "import helpers_for_backend as hfb\n",
    "\n",
    "# We first load our rules, we use lift as our metric in this demo. Can be changed to \"lift\", \"confidence\", \"zhangs_metric\"\n",
    "extracted_rules = hfb.load_rule_data('./dataset/rules_recipe_scale.csv', metric='lift')"
   ]
  },
  {
   "cell_type": "code",
   "execution_count": 2,
   "metadata": {},
   "outputs": [
    {
     "data": {
      "text/html": [
       "<div>\n",
       "<style scoped>\n",
       "    .dataframe tbody tr th:only-of-type {\n",
       "        vertical-align: middle;\n",
       "    }\n",
       "\n",
       "    .dataframe tbody tr th {\n",
       "        vertical-align: top;\n",
       "    }\n",
       "\n",
       "    .dataframe thead th {\n",
       "        text-align: right;\n",
       "    }\n",
       "</style>\n",
       "<table border=\"1\" class=\"dataframe\">\n",
       "  <thead>\n",
       "    <tr style=\"text-align: right;\">\n",
       "      <th></th>\n",
       "      <th>user_id</th>\n",
       "      <th>event_date</th>\n",
       "      <th>event_type</th>\n",
       "      <th>details</th>\n",
       "      <th>recipe</th>\n",
       "      <th>ks-recipe</th>\n",
       "    </tr>\n",
       "  </thead>\n",
       "  <tbody>\n",
       "    <tr>\n",
       "      <th>162</th>\n",
       "      <td>62e291e6b76e15b147084384</td>\n",
       "      <td>2022-09-04 09:02:09.477058</td>\n",
       "      <td>submit</td>\n",
       "      <td>{'recipe': \"Recipe for cooking Spaghetti Bolog...</td>\n",
       "      <td>Recipe for cooking Spaghetti Bolognaise:\\n\\n\\n...</td>\n",
       "      <td>[{'time': 1662281507561, 'character': 'Shift'}...</td>\n",
       "    </tr>\n",
       "  </tbody>\n",
       "</table>\n",
       "</div>"
      ],
      "text/plain": [
       "                      user_id                  event_date event_type  \\\n",
       "162  62e291e6b76e15b147084384  2022-09-04 09:02:09.477058     submit   \n",
       "\n",
       "                                               details  \\\n",
       "162  {'recipe': \"Recipe for cooking Spaghetti Bolog...   \n",
       "\n",
       "                                                recipe  \\\n",
       "162  Recipe for cooking Spaghetti Bolognaise:\\n\\n\\n...   \n",
       "\n",
       "                                             ks-recipe  \n",
       "162  [{'time': 1662281507561, 'character': 'Shift'}...  "
      ]
     },
     "execution_count": 2,
     "metadata": {},
     "output_type": "execute_result"
    }
   ],
   "source": [
    "# Get a recipe to test\n",
    "relex_recipes = pd.read_csv(f'./dataset/relex_examples.csv').sample(1, random_state=1010)\n",
    "relex_recipes.head()"
   ]
  },
  {
   "cell_type": "code",
   "execution_count": 3,
   "metadata": {},
   "outputs": [
    {
     "data": {
      "text/html": [
       "<div>\n",
       "<style scoped>\n",
       "    .dataframe tbody tr th:only-of-type {\n",
       "        vertical-align: middle;\n",
       "    }\n",
       "\n",
       "    .dataframe tbody tr th {\n",
       "        vertical-align: top;\n",
       "    }\n",
       "\n",
       "    .dataframe thead th {\n",
       "        text-align: right;\n",
       "    }\n",
       "</style>\n",
       "<table border=\"1\" class=\"dataframe\">\n",
       "  <thead>\n",
       "    <tr style=\"text-align: right;\">\n",
       "      <th></th>\n",
       "      <th>user_id</th>\n",
       "      <th>event_date</th>\n",
       "      <th>event_type</th>\n",
       "      <th>details</th>\n",
       "      <th>recipe</th>\n",
       "      <th>ks-recipe</th>\n",
       "      <th>preprocessed</th>\n",
       "    </tr>\n",
       "  </thead>\n",
       "  <tbody>\n",
       "    <tr>\n",
       "      <th>162</th>\n",
       "      <td>62e291e6b76e15b147084384</td>\n",
       "      <td>2022-09-04 09:02:09.477058</td>\n",
       "      <td>submit</td>\n",
       "      <td>{'recipe': \"Recipe for cooking Spaghetti Bolog...</td>\n",
       "      <td>Recipe for cooking Spaghetti Bolognaise:\\n\\n\\n...</td>\n",
       "      <td>[{'time': 1662281507561, 'character': 'Shift'}...</td>\n",
       "      <td>[recip, cook, spaghetti, bolognais, ingredi, b...</td>\n",
       "    </tr>\n",
       "  </tbody>\n",
       "</table>\n",
       "</div>"
      ],
      "text/plain": [
       "                      user_id                  event_date event_type  \\\n",
       "162  62e291e6b76e15b147084384  2022-09-04 09:02:09.477058     submit   \n",
       "\n",
       "                                               details  \\\n",
       "162  {'recipe': \"Recipe for cooking Spaghetti Bolog...   \n",
       "\n",
       "                                                recipe  \\\n",
       "162  Recipe for cooking Spaghetti Bolognaise:\\n\\n\\n...   \n",
       "\n",
       "                                             ks-recipe  \\\n",
       "162  [{'time': 1662281507561, 'character': 'Shift'}...   \n",
       "\n",
       "                                          preprocessed  \n",
       "162  [recip, cook, spaghetti, bolognais, ingredi, b...  "
      ]
     },
     "execution_count": 3,
     "metadata": {},
     "output_type": "execute_result"
    }
   ],
   "source": [
    "# use gensim preprocess_string\n",
    "from gensim.parsing.preprocessing import preprocess_string\n",
    "relex_recipes['preprocessed'] = relex_recipes['recipe'].apply(preprocess_string)\n",
    "relex_recipes.head()"
   ]
  },
  {
   "cell_type": "markdown",
   "metadata": {},
   "source": [
    "<div style=\"width: 100%; display: flex; justify-content: center\">\n",
    "    <h3 style=\"width: 95%; border: 4px solid #ed8796; color: #ed8796; text-align: center; margin: 0; padding: 10px;\">\n",
    "        Step by step(manual) recipe creation\n",
    "    </h3>\n",
    "</div>"
   ]
  },
  {
   "cell_type": "code",
   "execution_count": 4,
   "metadata": {},
   "outputs": [
    {
     "data": {
      "text/plain": [
       "{frozenset({'boil', 'reduc', 'set'}): (\"frozenset({'bring', 'asid'})\",\n",
       "  25.285247355772828),\n",
       " frozenset({'contain'}): (\"frozenset({'store', 'airtight'})\",\n",
       "  24.000669837887127),\n",
       " frozenset({'asid', 'boil', 'reduc'}): (\"frozenset({'bring', 'set'})\",\n",
       "  23.751010996859893),\n",
       " frozenset({'asid', 'boil'}): (\"frozenset({'bring', 'set', 'reduc'})\",\n",
       "  20.654708228732744),\n",
       " frozenset({'asid', 'oliv'}): (\"frozenset({'set', 'oil', 'pepper'})\",\n",
       "  20.61868515054216)}"
      ]
     },
     "execution_count": 4,
     "metadata": {},
     "output_type": "execute_result"
    }
   ],
   "source": [
    "# now extract rules, make sure the metric is the same as the one used to extract the rules, since the rules are sorted by the metric\n",
    "fulfilled_rules, suggestions = hfb.extract_rules(\n",
    "    recipe=relex_recipes.iloc[0]['preprocessed'], \n",
    "    rules=extracted_rules,\n",
    "    rule_count=5,\n",
    "    metric='lift',\n",
    "    )\n",
    "\n",
    "suggestions"
   ]
  },
  {
   "cell_type": "code",
   "execution_count": 5,
   "metadata": {},
   "outputs": [
    {
     "name": "stdout",
     "output_type": "stream",
     "text": [
      "\n",
      "    Recipe:\n",
      "    Recipe for cooking Spaghetti Bolognaise:\n",
      "\n",
      "\n",
      "Ingredients: \n",
      "\n",
      "\n",
      "500g Beef Mince\n",
      "1 Beef Stock Cube\n",
      "1 White Onion\n",
      "1 Carrot\n",
      "250ml Red Wine\n",
      "600g Spaghetti\n",
      "1 tsp Worcestershire Sauce\n",
      "1 tsp Sugar\n",
      "1 Container of Passata \n",
      "\n",
      "\n",
      "\n"
     ]
    }
   ],
   "source": [
    "# Now using the suggestions, we create the prompt\n",
    "# Note: we give the non-preprocessed recipe to the prompt, since the prompt uses it as the 'original' recipe\n",
    "prompt = hfb.create_prompt(\n",
    "    directions=relex_recipes.iloc[0]['recipe'],\n",
    "    fulfilled_rules=fulfilled_rules,\n",
    "    suggestions=suggestions,\n",
    "    )\n",
    "\n",
    "# Quick look at the prompt\n",
    "print('\\n'.join(prompt.split('\\n')[:20]))"
   ]
  },
  {
   "cell_type": "code",
   "execution_count": 6,
   "metadata": {},
   "outputs": [],
   "source": [
    "# Now we have our prompt, we prompt chatgpt\n",
    "response = hfb.prompt_gpt(\n",
    "    prompt=prompt,\n",
    "    print_response=False,\n",
    "    model='gpt-4'\n",
    ")"
   ]
  },
  {
   "cell_type": "code",
   "execution_count": 7,
   "metadata": {},
   "outputs": [
    {
     "name": "stdout",
     "output_type": "stream",
     "text": [
      "New recipe:\n",
      "\n",
      "Ingredients:\n",
      "- 500g Beef Mince\n",
      "- 1 Beef Stock Cube\n",
      "- 1 White Onion\n",
      "- 1 Carrot\n",
      "- 250ml Red Wine\n",
      "- 600g Spaghetti\n",
      "- 1 tsp Worcestershire Sauce\n",
      "- 1 tsp Sugar\n",
      "- 1 Container of Passata\n",
      "- Olive oil\n",
      "- Salt and Pepper to taste\n",
      "\n",
      "Instructions:\n",
      "1. Dice the onion and carrots into small squares and set aside into two bowls.\n",
      "2. Add the stock cube to 500ml of hot water and allow it to dissolve.\n",
      "3. Heat a pan with olive oil and add the onions for a couple of minutes until they are brown, then add the carrots and cook for a further couple of minutes until the carrots begin to soften.\n",
      "4. Add the mince and cook until it starts to brown.\n",
      "5. Set another pan on a hob and begin to boil 500ml of water. Add salt to taste.\n",
      "6. Once the mince has browned, bring the glass of Wine to the pan and leave it to simmer for 5 minutes. This should burn off any excess alcohol.\n",
      "7. Add the Worcestershire Sauce, Beef stock and Passata to the mince and give it a stir. Leave this to simmer for 25 minutes.\n",
      "8. Add the spaghetti to the second pan and leave it to cook for 15 minutes. You will know it's cooked when it will stick to a surface when thrown.\n",
      "9. Once the spaghetti is cooked, drain the excess water away. Add some cold water and quickly drain it away in a colander. This will stop it from sticking to each other.\n",
      "10. Once the Bolognaise has simmered and reduced, taste it and add the sugar in small amounts until it isn't bitter.\n",
      "11. Simmer for another 5 minutes and serve with the spaghetti.\n",
      "12. Store any leftover Bolognaise in an airtight container.\n",
      "\n",
      "\n",
      "________\n",
      "Explanation:\n",
      "\n",
      "To fulfill the new rules, I made the following changes:\n",
      "\n",
      "1. I added the word \"bring\" in step 6 where the wine is added to the pan. This fulfills the rules \"frozenset({'bring', 'asid'})\", \"frozenset({'bring', 'set'})\", and \"frozenset({'bring', 'set', 'reduc'})\".\n",
      "\n",
      "2. I added the instruction to store any leftover Bolognaise in an airtight container in step 12. This fulfills the rule \"frozenset({'store', 'airtight'})\".\n",
      "\n",
      "3. I added \"Olive oil\" and \"Salt and Pepper to taste\" in the ingredients list to fulfill the rule \"frozenset({'set', 'oil', 'pepper'})\". The olive oil was already mentioned in the original recipe but not listed in the ingredients, and the pepper was added to give the recipe a bit more flavor and fulfill the rule.\n",
      "\n",
      "\n"
     ]
    }
   ],
   "source": [
    "# We have this helper function to print the response in a nice format.\n",
    "hfb._print_response(response)"
   ]
  },
  {
   "cell_type": "markdown",
   "metadata": {},
   "source": [
    "<div style=\"width: 100%; display: flex; justify-content: center\">\n",
    "    <h3 style=\"width: 95%; border: 4px solid #ed8796; color: #ed8796; text-align: center; margin: 0; padding: 10px;\">\n",
    "        Using the pipeline function\n",
    "    </h3>\n",
    "</div>"
   ]
  },
  {
   "cell_type": "code",
   "execution_count": 8,
   "metadata": {},
   "outputs": [],
   "source": [
    "# Instead of doing all of this one by one, we can also do the following:\n",
    "# Note, we still need to load the extracted rules & preprocess the recipe\n",
    "response_pipeline = hfb.complete_pipeline(\n",
    "    recipe_tokens=relex_recipes.iloc[0]['preprocessed'],\n",
    "    recipe_directions=relex_recipes.iloc[0]['recipe'],\n",
    "    extracted_rules=extracted_rules,\n",
    "    rule_count=5,\n",
    "    metric='lift',\n",
    "    model='gpt-4',\n",
    ")"
   ]
  },
  {
   "cell_type": "code",
   "execution_count": 9,
   "metadata": {},
   "outputs": [
    {
     "name": "stdout",
     "output_type": "stream",
     "text": [
      "New recipe:\n",
      "\n",
      "Ingredients:\n",
      "- 500g Beef Mince\n",
      "- 1 Beef Stock Cube\n",
      "- 1 White Onion\n",
      "- 1 Carrot\n",
      "- 250ml Red Wine\n",
      "- 600g Spaghetti\n",
      "- 1 tsp Worcestershire Sauce\n",
      "- 1 tsp Sugar\n",
      "- 1 Container of Passata\n",
      "- Olive oil\n",
      "- Salt and pepper to taste\n",
      "\n",
      "Instructions:\n",
      "1. Dice the onion and carrots into small squares and set aside into two bowls.\n",
      "2. Add the stock cube to 500ml of hot water and allow it to dissolve.\n",
      "3. Heat a pan with olive oil and add the onions for a couple of minutes until they are brown, then add the carrots and cook for a further couple of minutes until the carrots begin to soften.\n",
      "4. Add the mince and cook until it starts to brown.\n",
      "5. Set another pan on a hob and begin to boil 500ml of water. Add salt and pepper to taste.\n",
      "6. Once the mince has browned, bring the glass of Wine to the pan and leave it to simmer for 5 minutes. This should burn off any excess alcohol.\n",
      "7. Add the Worcestershire Sauce, Beef stock and Passata to the mince and give it a stir. Leave this to simmer for 25 minutes.\n",
      "8. Add the spaghetti to the second pan and leave it to cook for 15 minutes. You will know it's cooked when it will stick to a surface when thrown.\n",
      "9. Once the spaghetti is cooked you will need to drain the excess water away. Add some cold and quickly drain it away in a colander. This will stop it sticking to each other.\n",
      "10. Once the Bolognaise has simmered and reduced, taste it and add the sugar in small amounts until it isn't bitter.\n",
      "11. Simmer for another 5 minutes and serve with the spaghetti.\n",
      "12. Store any leftover Bolognaise in an airtight container.\n",
      "\n",
      "\n",
      "________\n",
      "Explanation:\n",
      "\n",
      "The changes made to the recipe were to ensure that it fulfills the new set of rules. The word 'bring' was added in step 6 where the wine is added to the pan. The word 'set' was already present in the original recipe, but it was used again in step 5 where the pan is set on the hob. The word 'reduc' was already present in the original recipe. The words 'oil' and 'pepper' were added in step 5 where the water is seasoned for the spaghetti. The word 'store' and 'airtight' were added in the final step where the leftover Bolognaise is stored. These changes ensure that the new set of rules are fulfilled without altering the original recipe.\n",
      "\n",
      "\n"
     ]
    }
   ],
   "source": [
    "hfb._print_response(response_pipeline.new_recipe)"
   ]
  }
 ],
 "metadata": {
  "kernelspec": {
   "display_name": "venv",
   "language": "python",
   "name": "python3"
  },
  "language_info": {
   "codemirror_mode": {
    "name": "ipython",
    "version": 3
   },
   "file_extension": ".py",
   "mimetype": "text/x-python",
   "name": "python",
   "nbconvert_exporter": "python",
   "pygments_lexer": "ipython3",
   "version": "3.11.6"
  },
  "orig_nbformat": 4
 },
 "nbformat": 4,
 "nbformat_minor": 2
}
